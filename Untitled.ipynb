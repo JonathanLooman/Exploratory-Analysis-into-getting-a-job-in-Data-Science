{
 "cells": [
  {
   "cell_type": "markdown",
   "metadata": {},
   "source": [
    "Data Science and Machine Learning Exploritory Analysis <br> <br>\n",
    "This notebook seeks to use a survey data from the [2020 Kaggle Machine Learning & Data Science Survey kaggle contest](https://www.kaggle.com/c/kaggle-survey-2020/overview) to find the best way to get a in the field. <br>\n",
    "\n",
    "The industry-wide survey was live for 3.5 weeks in October, and captured 20,036 responses.\n",
    "\n",
    "The angle this notebook will look to explore are the differences in South Africa, a developing country, and the Netherlands, a developed country.  "
   ]
  },
  {
   "cell_type": "markdown",
   "metadata": {},
   "source": [
    "Specifically this will look at 5 different questions, these are:\n",
    "1. What languages are most popular, how does this differ between countries, between experience levels and titles?\n",
    "2. What language they reccomend for aspiring data scientists.\n",
    "3. Saturation of machine learning in commercial applications  and how they incorporate machine learning. \n",
    "4. Do the participants use cloud computing and if so what platform do they use."
   ]
  },
  {
   "cell_type": "code",
   "execution_count": 1,
   "metadata": {
    "ExecuteTime": {
     "end_time": "2021-01-03T16:43:55.495516Z",
     "start_time": "2021-01-03T16:43:53.099952Z"
    }
   },
   "outputs": [],
   "source": [
    "import numpy as np\n",
    "import pandas as pd\n",
    "import matplotlib.pyplot as plt\n",
    "import seaborn as sns\n",
    "from helper2 import *"
   ]
  },
  {
   "cell_type": "code",
   "execution_count": 2,
   "metadata": {
    "ExecuteTime": {
     "end_time": "2021-01-03T16:43:57.243881Z",
     "start_time": "2021-01-03T16:43:55.500863Z"
    },
    "scrolled": false
   },
   "outputs": [
    {
     "name": "stderr",
     "output_type": "stream",
     "text": [
      "C:\\Users\\Jonathan\\anaconda3\\lib\\site-packages\\IPython\\core\\interactiveshell.py:3071: DtypeWarning: Columns (0) have mixed types.Specify dtype option on import or set low_memory=False.\n",
      "  has_raised = await self.run_ast_nodes(code_ast.body, cell_name,\n"
     ]
    }
   ],
   "source": [
    "df = pd.read_csv('kaggle_survey_2020_responses.csv')"
   ]
  },
  {
   "cell_type": "code",
   "execution_count": 3,
   "metadata": {
    "ExecuteTime": {
     "end_time": "2021-01-03T16:43:57.355557Z",
     "start_time": "2021-01-03T16:43:57.249957Z"
    }
   },
   "outputs": [
    {
     "data": {
      "text/html": [
       "<div>\n",
       "<style scoped>\n",
       "    .dataframe tbody tr th:only-of-type {\n",
       "        vertical-align: middle;\n",
       "    }\n",
       "\n",
       "    .dataframe tbody tr th {\n",
       "        vertical-align: top;\n",
       "    }\n",
       "\n",
       "    .dataframe thead th {\n",
       "        text-align: right;\n",
       "    }\n",
       "</style>\n",
       "<table border=\"1\" class=\"dataframe\">\n",
       "  <thead>\n",
       "    <tr style=\"text-align: right;\">\n",
       "      <th></th>\n",
       "      <th>Time from Start to Finish (seconds)</th>\n",
       "      <th>Q1</th>\n",
       "      <th>Q2</th>\n",
       "      <th>Q3</th>\n",
       "      <th>Q4</th>\n",
       "      <th>Q5</th>\n",
       "      <th>Q6</th>\n",
       "      <th>Q7_Part_1</th>\n",
       "      <th>Q7_Part_2</th>\n",
       "      <th>Q7_Part_3</th>\n",
       "      <th>...</th>\n",
       "      <th>Q35_B_Part_2</th>\n",
       "      <th>Q35_B_Part_3</th>\n",
       "      <th>Q35_B_Part_4</th>\n",
       "      <th>Q35_B_Part_5</th>\n",
       "      <th>Q35_B_Part_6</th>\n",
       "      <th>Q35_B_Part_7</th>\n",
       "      <th>Q35_B_Part_8</th>\n",
       "      <th>Q35_B_Part_9</th>\n",
       "      <th>Q35_B_Part_10</th>\n",
       "      <th>Q35_B_OTHER</th>\n",
       "    </tr>\n",
       "  </thead>\n",
       "  <tbody>\n",
       "    <tr>\n",
       "      <th>0</th>\n",
       "      <td>Duration (in seconds)</td>\n",
       "      <td>What is your age (# years)?</td>\n",
       "      <td>What is your gender? - Selected Choice</td>\n",
       "      <td>In which country do you currently reside?</td>\n",
       "      <td>What is the highest level of formal education ...</td>\n",
       "      <td>Select the title most similar to your current ...</td>\n",
       "      <td>For how many years have you been writing code ...</td>\n",
       "      <td>What programming languages do you use on a reg...</td>\n",
       "      <td>What programming languages do you use on a reg...</td>\n",
       "      <td>What programming languages do you use on a reg...</td>\n",
       "      <td>...</td>\n",
       "      <td>In the next 2 years, do you hope to become mor...</td>\n",
       "      <td>In the next 2 years, do you hope to become mor...</td>\n",
       "      <td>In the next 2 years, do you hope to become mor...</td>\n",
       "      <td>In the next 2 years, do you hope to become mor...</td>\n",
       "      <td>In the next 2 years, do you hope to become mor...</td>\n",
       "      <td>In the next 2 years, do you hope to become mor...</td>\n",
       "      <td>In the next 2 years, do you hope to become mor...</td>\n",
       "      <td>In the next 2 years, do you hope to become mor...</td>\n",
       "      <td>In the next 2 years, do you hope to become mor...</td>\n",
       "      <td>In the next 2 years, do you hope to become mor...</td>\n",
       "    </tr>\n",
       "    <tr>\n",
       "      <th>1</th>\n",
       "      <td>1838</td>\n",
       "      <td>35-39</td>\n",
       "      <td>Man</td>\n",
       "      <td>Colombia</td>\n",
       "      <td>Doctoral degree</td>\n",
       "      <td>Student</td>\n",
       "      <td>5-10 years</td>\n",
       "      <td>Python</td>\n",
       "      <td>R</td>\n",
       "      <td>SQL</td>\n",
       "      <td>...</td>\n",
       "      <td>NaN</td>\n",
       "      <td>NaN</td>\n",
       "      <td>NaN</td>\n",
       "      <td>TensorBoard</td>\n",
       "      <td>NaN</td>\n",
       "      <td>NaN</td>\n",
       "      <td>NaN</td>\n",
       "      <td>NaN</td>\n",
       "      <td>NaN</td>\n",
       "      <td>NaN</td>\n",
       "    </tr>\n",
       "    <tr>\n",
       "      <th>2</th>\n",
       "      <td>289287</td>\n",
       "      <td>30-34</td>\n",
       "      <td>Man</td>\n",
       "      <td>United States of America</td>\n",
       "      <td>Master’s degree</td>\n",
       "      <td>Data Engineer</td>\n",
       "      <td>5-10 years</td>\n",
       "      <td>Python</td>\n",
       "      <td>R</td>\n",
       "      <td>SQL</td>\n",
       "      <td>...</td>\n",
       "      <td>NaN</td>\n",
       "      <td>NaN</td>\n",
       "      <td>NaN</td>\n",
       "      <td>NaN</td>\n",
       "      <td>NaN</td>\n",
       "      <td>NaN</td>\n",
       "      <td>NaN</td>\n",
       "      <td>NaN</td>\n",
       "      <td>NaN</td>\n",
       "      <td>NaN</td>\n",
       "    </tr>\n",
       "    <tr>\n",
       "      <th>3</th>\n",
       "      <td>860</td>\n",
       "      <td>35-39</td>\n",
       "      <td>Man</td>\n",
       "      <td>Argentina</td>\n",
       "      <td>Bachelor’s degree</td>\n",
       "      <td>Software Engineer</td>\n",
       "      <td>10-20 years</td>\n",
       "      <td>NaN</td>\n",
       "      <td>NaN</td>\n",
       "      <td>NaN</td>\n",
       "      <td>...</td>\n",
       "      <td>NaN</td>\n",
       "      <td>NaN</td>\n",
       "      <td>NaN</td>\n",
       "      <td>NaN</td>\n",
       "      <td>NaN</td>\n",
       "      <td>NaN</td>\n",
       "      <td>NaN</td>\n",
       "      <td>NaN</td>\n",
       "      <td>None</td>\n",
       "      <td>NaN</td>\n",
       "    </tr>\n",
       "    <tr>\n",
       "      <th>4</th>\n",
       "      <td>507</td>\n",
       "      <td>30-34</td>\n",
       "      <td>Man</td>\n",
       "      <td>United States of America</td>\n",
       "      <td>Master’s degree</td>\n",
       "      <td>Data Scientist</td>\n",
       "      <td>5-10 years</td>\n",
       "      <td>Python</td>\n",
       "      <td>NaN</td>\n",
       "      <td>SQL</td>\n",
       "      <td>...</td>\n",
       "      <td>NaN</td>\n",
       "      <td>NaN</td>\n",
       "      <td>NaN</td>\n",
       "      <td>NaN</td>\n",
       "      <td>NaN</td>\n",
       "      <td>NaN</td>\n",
       "      <td>NaN</td>\n",
       "      <td>NaN</td>\n",
       "      <td>NaN</td>\n",
       "      <td>NaN</td>\n",
       "    </tr>\n",
       "  </tbody>\n",
       "</table>\n",
       "<p>5 rows × 355 columns</p>\n",
       "</div>"
      ],
      "text/plain": [
       "  Time from Start to Finish (seconds)                           Q1  \\\n",
       "0               Duration (in seconds)  What is your age (# years)?   \n",
       "1                                1838                        35-39   \n",
       "2                              289287                        30-34   \n",
       "3                                 860                        35-39   \n",
       "4                                 507                        30-34   \n",
       "\n",
       "                                       Q2  \\\n",
       "0  What is your gender? - Selected Choice   \n",
       "1                                     Man   \n",
       "2                                     Man   \n",
       "3                                     Man   \n",
       "4                                     Man   \n",
       "\n",
       "                                          Q3  \\\n",
       "0  In which country do you currently reside?   \n",
       "1                                   Colombia   \n",
       "2                   United States of America   \n",
       "3                                  Argentina   \n",
       "4                   United States of America   \n",
       "\n",
       "                                                  Q4  \\\n",
       "0  What is the highest level of formal education ...   \n",
       "1                                    Doctoral degree   \n",
       "2                                    Master’s degree   \n",
       "3                                  Bachelor’s degree   \n",
       "4                                    Master’s degree   \n",
       "\n",
       "                                                  Q5  \\\n",
       "0  Select the title most similar to your current ...   \n",
       "1                                            Student   \n",
       "2                                      Data Engineer   \n",
       "3                                  Software Engineer   \n",
       "4                                     Data Scientist   \n",
       "\n",
       "                                                  Q6  \\\n",
       "0  For how many years have you been writing code ...   \n",
       "1                                         5-10 years   \n",
       "2                                         5-10 years   \n",
       "3                                        10-20 years   \n",
       "4                                         5-10 years   \n",
       "\n",
       "                                           Q7_Part_1  \\\n",
       "0  What programming languages do you use on a reg...   \n",
       "1                                             Python   \n",
       "2                                             Python   \n",
       "3                                                NaN   \n",
       "4                                             Python   \n",
       "\n",
       "                                           Q7_Part_2  \\\n",
       "0  What programming languages do you use on a reg...   \n",
       "1                                                  R   \n",
       "2                                                  R   \n",
       "3                                                NaN   \n",
       "4                                                NaN   \n",
       "\n",
       "                                           Q7_Part_3  ...  \\\n",
       "0  What programming languages do you use on a reg...  ...   \n",
       "1                                                SQL  ...   \n",
       "2                                                SQL  ...   \n",
       "3                                                NaN  ...   \n",
       "4                                                SQL  ...   \n",
       "\n",
       "                                        Q35_B_Part_2  \\\n",
       "0  In the next 2 years, do you hope to become mor...   \n",
       "1                                                NaN   \n",
       "2                                                NaN   \n",
       "3                                                NaN   \n",
       "4                                                NaN   \n",
       "\n",
       "                                        Q35_B_Part_3  \\\n",
       "0  In the next 2 years, do you hope to become mor...   \n",
       "1                                                NaN   \n",
       "2                                                NaN   \n",
       "3                                                NaN   \n",
       "4                                                NaN   \n",
       "\n",
       "                                        Q35_B_Part_4  \\\n",
       "0  In the next 2 years, do you hope to become mor...   \n",
       "1                                                NaN   \n",
       "2                                                NaN   \n",
       "3                                                NaN   \n",
       "4                                                NaN   \n",
       "\n",
       "                                        Q35_B_Part_5  \\\n",
       "0  In the next 2 years, do you hope to become mor...   \n",
       "1                                       TensorBoard    \n",
       "2                                                NaN   \n",
       "3                                                NaN   \n",
       "4                                                NaN   \n",
       "\n",
       "                                        Q35_B_Part_6  \\\n",
       "0  In the next 2 years, do you hope to become mor...   \n",
       "1                                                NaN   \n",
       "2                                                NaN   \n",
       "3                                                NaN   \n",
       "4                                                NaN   \n",
       "\n",
       "                                        Q35_B_Part_7  \\\n",
       "0  In the next 2 years, do you hope to become mor...   \n",
       "1                                                NaN   \n",
       "2                                                NaN   \n",
       "3                                                NaN   \n",
       "4                                                NaN   \n",
       "\n",
       "                                        Q35_B_Part_8  \\\n",
       "0  In the next 2 years, do you hope to become mor...   \n",
       "1                                                NaN   \n",
       "2                                                NaN   \n",
       "3                                                NaN   \n",
       "4                                                NaN   \n",
       "\n",
       "                                        Q35_B_Part_9  \\\n",
       "0  In the next 2 years, do you hope to become mor...   \n",
       "1                                                NaN   \n",
       "2                                                NaN   \n",
       "3                                                NaN   \n",
       "4                                                NaN   \n",
       "\n",
       "                                       Q35_B_Part_10  \\\n",
       "0  In the next 2 years, do you hope to become mor...   \n",
       "1                                                NaN   \n",
       "2                                                NaN   \n",
       "3                                               None   \n",
       "4                                                NaN   \n",
       "\n",
       "                                         Q35_B_OTHER  \n",
       "0  In the next 2 years, do you hope to become mor...  \n",
       "1                                                NaN  \n",
       "2                                                NaN  \n",
       "3                                                NaN  \n",
       "4                                                NaN  \n",
       "\n",
       "[5 rows x 355 columns]"
      ]
     },
     "execution_count": 3,
     "metadata": {},
     "output_type": "execute_result"
    }
   ],
   "source": [
    "df.head()"
   ]
  },
  {
   "cell_type": "code",
   "execution_count": 15,
   "metadata": {
    "ExecuteTime": {
     "end_time": "2021-01-03T16:49:18.087625Z",
     "start_time": "2021-01-03T16:49:18.023797Z"
    }
   },
   "outputs": [
    {
     "name": "stdout",
     "output_type": "stream",
     "text": [
      "Time from Start to Finish (seconds)  :  Duration (in seconds)\n",
      "Q1  :  What is your age (# years)?\n",
      "Q2  :  What is your gender? - Selected Choice\n",
      "Q3  :  In which country do you currently reside?\n",
      "Q4  :  What is the highest level of formal education that you have attained or plan to attain within the next 2 years?\n",
      "Q5  :  Select the title most similar to your current role (or most recent title if retired): - Selected Choice\n",
      "Q6  :  For how many years have you been writing code and/or programming?\n",
      "Q7_Part_1  :  What programming languages do you use on a regular basis? (Select all that apply) - Selected Choice - Python\n",
      "Q7_Part_2  :  What programming languages do you use on a regular basis? (Select all that apply) - Selected Choice - R\n",
      "Q7_Part_3  :  What programming languages do you use on a regular basis? (Select all that apply) - Selected Choice - SQL\n",
      "Q7_Part_4  :  What programming languages do you use on a regular basis? (Select all that apply) - Selected Choice - C\n",
      "Q7_Part_5  :  What programming languages do you use on a regular basis? (Select all that apply) - Selected Choice - C++\n",
      "Q7_Part_6  :  What programming languages do you use on a regular basis? (Select all that apply) - Selected Choice - Java\n",
      "Q7_Part_7  :  What programming languages do you use on a regular basis? (Select all that apply) - Selected Choice - Javascript\n",
      "Q7_Part_8  :  What programming languages do you use on a regular basis? (Select all that apply) - Selected Choice - Julia\n",
      "Q7_Part_9  :  What programming languages do you use on a regular basis? (Select all that apply) - Selected Choice - Swift\n",
      "Q7_Part_10  :  What programming languages do you use on a regular basis? (Select all that apply) - Selected Choice - Bash\n",
      "Q7_Part_11  :  What programming languages do you use on a regular basis? (Select all that apply) - Selected Choice - MATLAB\n",
      "Q7_Part_12  :  What programming languages do you use on a regular basis? (Select all that apply) - Selected Choice - None\n",
      "Q7_OTHER  :  What programming languages do you use on a regular basis? (Select all that apply) - Selected Choice - Other\n",
      "Q8  :  What programming language would you recommend an aspiring data scientist to learn first? - Selected Choice\n",
      "Q9_Part_1  :  Which of the following integrated development environments (IDE's) do you use on a regular basis?  (Select all that apply) - Selected Choice - Jupyter (JupyterLab, Jupyter Notebooks, etc) \n",
      "Q9_Part_2  :  Which of the following integrated development environments (IDE's) do you use on a regular basis?  (Select all that apply) - Selected Choice -  RStudio \n",
      "Q9_Part_3  :  Which of the following integrated development environments (IDE's) do you use on a regular basis?  (Select all that apply) - Selected Choice -  Visual Studio / Visual Studio Code \n",
      "Q9_Part_4  :  Which of the following integrated development environments (IDE's) do you use on a regular basis?  (Select all that apply) - Selected Choice - Click to write Choice 13\n",
      "Q9_Part_5  :  Which of the following integrated development environments (IDE's) do you use on a regular basis?  (Select all that apply) - Selected Choice -  PyCharm \n",
      "Q9_Part_6  :  Which of the following integrated development environments (IDE's) do you use on a regular basis?  (Select all that apply) - Selected Choice -   Spyder  \n",
      "Q9_Part_7  :  Which of the following integrated development environments (IDE's) do you use on a regular basis?  (Select all that apply) - Selected Choice -   Notepad++  \n",
      "Q9_Part_8  :  Which of the following integrated development environments (IDE's) do you use on a regular basis?  (Select all that apply) - Selected Choice -   Sublime Text  \n",
      "Q9_Part_9  :  Which of the following integrated development environments (IDE's) do you use on a regular basis?  (Select all that apply) - Selected Choice -   Vim / Emacs  \n",
      "Q9_Part_10  :  Which of the following integrated development environments (IDE's) do you use on a regular basis?  (Select all that apply) - Selected Choice -  MATLAB \n",
      "Q9_Part_11  :  Which of the following integrated development environments (IDE's) do you use on a regular basis?  (Select all that apply) - Selected Choice - None\n",
      "Q9_OTHER  :  Which of the following integrated development environments (IDE's) do you use on a regular basis?  (Select all that apply) - Selected Choice - Other\n",
      "Q10_Part_1  :  Which of the following hosted notebook products do you use on a regular basis?  (Select all that apply) - Selected Choice -  Kaggle Notebooks\n",
      "Q10_Part_2  :  Which of the following hosted notebook products do you use on a regular basis?  (Select all that apply) - Selected Choice - Colab Notebooks\n",
      "Q10_Part_3  :  Which of the following hosted notebook products do you use on a regular basis?  (Select all that apply) - Selected Choice - Azure Notebooks\n",
      "Q10_Part_4  :  Which of the following hosted notebook products do you use on a regular basis?  (Select all that apply) - Selected Choice -  Paperspace / Gradient \n",
      "Q10_Part_5  :  Which of the following hosted notebook products do you use on a regular basis?  (Select all that apply) - Selected Choice -  Binder / JupyterHub \n",
      "Q10_Part_6  :  Which of the following hosted notebook products do you use on a regular basis?  (Select all that apply) - Selected Choice -  Code Ocean \n",
      "Q10_Part_7  :  Which of the following hosted notebook products do you use on a regular basis?  (Select all that apply) - Selected Choice -  IBM Watson Studio \n",
      "Q10_Part_8  :  Which of the following hosted notebook products do you use on a regular basis?  (Select all that apply) - Selected Choice -  Amazon Sagemaker Studio \n",
      "Q10_Part_9  :  Which of the following hosted notebook products do you use on a regular basis?  (Select all that apply) - Selected Choice -  Amazon EMR Notebooks \n",
      "Q10_Part_10  :  Which of the following hosted notebook products do you use on a regular basis?  (Select all that apply) - Selected Choice - Google Cloud AI Platform Notebooks \n",
      "Q10_Part_11  :  Which of the following hosted notebook products do you use on a regular basis?  (Select all that apply) - Selected Choice - Google Cloud Datalab Notebooks\n",
      "Q10_Part_12  :  Which of the following hosted notebook products do you use on a regular basis?  (Select all that apply) - Selected Choice -  Databricks Collaborative Notebooks \n",
      "Q10_Part_13  :  Which of the following hosted notebook products do you use on a regular basis?  (Select all that apply) - Selected Choice - None\n",
      "Q10_OTHER  :  Which of the following hosted notebook products do you use on a regular basis?  (Select all that apply) - Selected Choice - Other\n",
      "Q11  :  What type of computing platform do you use most often for your data science projects? - Selected Choice\n",
      "Q12_Part_1  :  Which types of specialized hardware do you use on a regular basis?  (Select all that apply) - Selected Choice - GPUs\n",
      "Q12_Part_2  :  Which types of specialized hardware do you use on a regular basis?  (Select all that apply) - Selected Choice - TPUs\n",
      "Q12_Part_3  :  Which types of specialized hardware do you use on a regular basis?  (Select all that apply) - Selected Choice - None\n",
      "Q12_OTHER  :  Which types of specialized hardware do you use on a regular basis?  (Select all that apply) - Selected Choice - Other\n",
      "Q13  :  Approximately how many times have you used a TPU (tensor processing unit)?\n",
      "Q14_Part_1  :  What data visualization libraries or tools do you use on a regular basis?  (Select all that apply) - Selected Choice -  Matplotlib \n",
      "Q14_Part_2  :  What data visualization libraries or tools do you use on a regular basis?  (Select all that apply) - Selected Choice -  Seaborn \n",
      "Q14_Part_3  :  What data visualization libraries or tools do you use on a regular basis?  (Select all that apply) - Selected Choice -  Plotly / Plotly Express \n",
      "Q14_Part_4  :  What data visualization libraries or tools do you use on a regular basis?  (Select all that apply) - Selected Choice -  Ggplot / ggplot2 \n",
      "Q14_Part_5  :  What data visualization libraries or tools do you use on a regular basis?  (Select all that apply) - Selected Choice -  Shiny \n",
      "Q14_Part_6  :  What data visualization libraries or tools do you use on a regular basis?  (Select all that apply) - Selected Choice -  D3 js \n",
      "Q14_Part_7  :  What data visualization libraries or tools do you use on a regular basis?  (Select all that apply) - Selected Choice -  Altair \n",
      "Q14_Part_8  :  What data visualization libraries or tools do you use on a regular basis?  (Select all that apply) - Selected Choice -  Bokeh \n",
      "Q14_Part_9  :  What data visualization libraries or tools do you use on a regular basis?  (Select all that apply) - Selected Choice -  Geoplotlib \n",
      "Q14_Part_10  :  What data visualization libraries or tools do you use on a regular basis?  (Select all that apply) - Selected Choice -  Leaflet / Folium \n",
      "Q14_Part_11  :  What data visualization libraries or tools do you use on a regular basis?  (Select all that apply) - Selected Choice - None\n",
      "Q14_OTHER  :  What data visualization libraries or tools do you use on a regular basis?  (Select all that apply) - Selected Choice - Other\n",
      "Q15  :  For how many years have you used machine learning methods?\n",
      "Q16_Part_1  :  Which of the following machine learning frameworks do you use on a regular basis? (Select all that apply) - Selected Choice -   Scikit-learn \n",
      "Q16_Part_2  :  Which of the following machine learning frameworks do you use on a regular basis? (Select all that apply) - Selected Choice -   TensorFlow \n",
      "Q16_Part_3  :  Which of the following machine learning frameworks do you use on a regular basis? (Select all that apply) - Selected Choice -  Keras \n",
      "Q16_Part_4  :  Which of the following machine learning frameworks do you use on a regular basis? (Select all that apply) - Selected Choice -  PyTorch \n",
      "Q16_Part_5  :  Which of the following machine learning frameworks do you use on a regular basis? (Select all that apply) - Selected Choice -  Fast.ai \n",
      "Q16_Part_6  :  Which of the following machine learning frameworks do you use on a regular basis? (Select all that apply) - Selected Choice -  MXNet \n",
      "Q16_Part_7  :  Which of the following machine learning frameworks do you use on a regular basis? (Select all that apply) - Selected Choice -  Xgboost \n",
      "Q16_Part_8  :  Which of the following machine learning frameworks do you use on a regular basis? (Select all that apply) - Selected Choice -  LightGBM \n",
      "Q16_Part_9  :  Which of the following machine learning frameworks do you use on a regular basis? (Select all that apply) - Selected Choice -  CatBoost \n",
      "Q16_Part_10  :  Which of the following machine learning frameworks do you use on a regular basis? (Select all that apply) - Selected Choice -  Prophet \n",
      "Q16_Part_11  :  Which of the following machine learning frameworks do you use on a regular basis? (Select all that apply) - Selected Choice -  H2O 3 \n",
      "Q16_Part_12  :  Which of the following machine learning frameworks do you use on a regular basis? (Select all that apply) - Selected Choice -  Caret \n",
      "Q16_Part_13  :  Which of the following machine learning frameworks do you use on a regular basis? (Select all that apply) - Selected Choice -  Tidymodels \n",
      "Q16_Part_14  :  Which of the following machine learning frameworks do you use on a regular basis? (Select all that apply) - Selected Choice -  JAX \n",
      "Q16_Part_15  :  Which of the following machine learning frameworks do you use on a regular basis? (Select all that apply) - Selected Choice - None\n",
      "Q16_OTHER  :  Which of the following machine learning frameworks do you use on a regular basis? (Select all that apply) - Selected Choice - Other\n",
      "Q17_Part_1  :  Which of the following ML algorithms do you use on a regular basis? (Select all that apply): - Selected Choice - Linear or Logistic Regression\n",
      "Q17_Part_2  :  Which of the following ML algorithms do you use on a regular basis? (Select all that apply): - Selected Choice - Decision Trees or Random Forests\n",
      "Q17_Part_3  :  Which of the following ML algorithms do you use on a regular basis? (Select all that apply): - Selected Choice - Gradient Boosting Machines (xgboost, lightgbm, etc)\n",
      "Q17_Part_4  :  Which of the following ML algorithms do you use on a regular basis? (Select all that apply): - Selected Choice - Bayesian Approaches\n",
      "Q17_Part_5  :  Which of the following ML algorithms do you use on a regular basis? (Select all that apply): - Selected Choice - Evolutionary Approaches\n",
      "Q17_Part_6  :  Which of the following ML algorithms do you use on a regular basis? (Select all that apply): - Selected Choice - Dense Neural Networks (MLPs, etc)\n",
      "Q17_Part_7  :  Which of the following ML algorithms do you use on a regular basis? (Select all that apply): - Selected Choice - Convolutional Neural Networks\n",
      "Q17_Part_8  :  Which of the following ML algorithms do you use on a regular basis? (Select all that apply): - Selected Choice - Generative Adversarial Networks\n",
      "Q17_Part_9  :  Which of the following ML algorithms do you use on a regular basis? (Select all that apply): - Selected Choice - Recurrent Neural Networks\n",
      "Q17_Part_10  :  Which of the following ML algorithms do you use on a regular basis? (Select all that apply): - Selected Choice - Transformer Networks (BERT, gpt-3, etc)\n",
      "Q17_Part_11  :  Which of the following ML algorithms do you use on a regular basis? (Select all that apply): - Selected Choice - None\n",
      "Q17_OTHER  :  Which of the following ML algorithms do you use on a regular basis? (Select all that apply): - Selected Choice - Other\n",
      "Q18_Part_1  :  Which categories of computer vision methods do you use on a regular basis?  (Select all that apply) - Selected Choice - General purpose image/video tools (PIL, cv2, skimage, etc)\n",
      "Q18_Part_2  :  Which categories of computer vision methods do you use on a regular basis?  (Select all that apply) - Selected Choice - Image segmentation methods (U-Net, Mask R-CNN, etc)\n",
      "Q18_Part_3  :  Which categories of computer vision methods do you use on a regular basis?  (Select all that apply) - Selected Choice - Object detection methods (YOLOv3, RetinaNet, etc)\n",
      "Q18_Part_4  :  Which categories of computer vision methods do you use on a regular basis?  (Select all that apply) - Selected Choice - Image classification and other general purpose networks (VGG, Inception, ResNet, ResNeXt, NASNet, EfficientNet, etc)\n",
      "Q18_Part_5  :  Which categories of computer vision methods do you use on a regular basis?  (Select all that apply) - Selected Choice - Generative Networks (GAN, VAE, etc)\n",
      "Q18_Part_6  :  Which categories of computer vision methods do you use on a regular basis?  (Select all that apply) - Selected Choice - None\n",
      "Q18_OTHER  :  Which categories of computer vision methods do you use on a regular basis?  (Select all that apply) - Selected Choice - Other\n",
      "Q19_Part_1  :  Which of the following natural language processing (NLP) methods do you use on a regular basis?  (Select all that apply) - Selected Choice - Word embeddings/vectors (GLoVe, fastText, word2vec)\n",
      "Q19_Part_2  :  Which of the following natural language processing (NLP) methods do you use on a regular basis?  (Select all that apply) - Selected Choice - Encoder-decorder models (seq2seq, vanilla transformers)\n",
      "Q19_Part_3  :  Which of the following natural language processing (NLP) methods do you use on a regular basis?  (Select all that apply) - Selected Choice - Contextualized embeddings (ELMo, CoVe)\n",
      "Q19_Part_4  :  Which of the following natural language processing (NLP) methods do you use on a regular basis?  (Select all that apply) - Selected Choice - Transformer language models (GPT-3, BERT, XLnet, etc)\n",
      "Q19_Part_5  :  Which of the following natural language processing (NLP) methods do you use on a regular basis?  (Select all that apply) - Selected Choice - None\n",
      "Q19_OTHER  :  Which of the following natural language processing (NLP) methods do you use on a regular basis?  (Select all that apply) - Selected Choice - Other\n",
      "Q20  :  What is the size of the company where you are employed?\n",
      "Q21  :  Approximately how many individuals are responsible for data science workloads at your place of business?\n",
      "Q22  :  Does your current employer incorporate machine learning methods into their business?\n",
      "Q23_Part_1  :  Select any activities that make up an important part of your role at work: (Select all that apply) - Selected Choice - Analyze and understand data to influence product or business decisions\n",
      "Q23_Part_2  :  Select any activities that make up an important part of your role at work: (Select all that apply) - Selected Choice - Build and/or run the data infrastructure that my business uses for storing, analyzing, and operationalizing data\n",
      "Q23_Part_3  :  Select any activities that make up an important part of your role at work: (Select all that apply) - Selected Choice - Build prototypes to explore applying machine learning to new areas\n",
      "Q23_Part_4  :  Select any activities that make up an important part of your role at work: (Select all that apply) - Selected Choice - Build and/or run a machine learning service that operationally improves my product or workflows\n",
      "Q23_Part_5  :  Select any activities that make up an important part of your role at work: (Select all that apply) - Selected Choice - Experimentation and iteration to improve existing ML models\n",
      "Q23_Part_6  :  Select any activities that make up an important part of your role at work: (Select all that apply) - Selected Choice - Do research that advances the state of the art of machine learning\n",
      "Q23_Part_7  :  Select any activities that make up an important part of your role at work: (Select all that apply) - Selected Choice - None of these activities are an important part of my role at work\n",
      "Q23_OTHER  :  Select any activities that make up an important part of your role at work: (Select all that apply) - Selected Choice - Other\n",
      "Q24  :  What is your current yearly compensation (approximate $USD)?\n",
      "Q25  :  Approximately how much money have you (or your team) spent on machine learning and/or cloud computing services at home (or at work) in the past 5 years (approximate $USD)?\n",
      "Q26_A_Part_1  :  Which of the following cloud computing platforms do you use on a regular basis? (Select all that apply) - Selected Choice -  Amazon Web Services (AWS) \n",
      "Q26_A_Part_2  :  Which of the following cloud computing platforms do you use on a regular basis? (Select all that apply) - Selected Choice -  Microsoft Azure \n",
      "Q26_A_Part_3  :  Which of the following cloud computing platforms do you use on a regular basis? (Select all that apply) - Selected Choice -  Google Cloud Platform (GCP) \n",
      "Q26_A_Part_4  :  Which of the following cloud computing platforms do you use on a regular basis? (Select all that apply) - Selected Choice -  IBM Cloud / Red Hat \n",
      "Q26_A_Part_5  :  Which of the following cloud computing platforms do you use on a regular basis? (Select all that apply) - Selected Choice -  Oracle Cloud \n",
      "Q26_A_Part_6  :  Which of the following cloud computing platforms do you use on a regular basis? (Select all that apply) - Selected Choice -  SAP Cloud \n",
      "Q26_A_Part_7  :  Which of the following cloud computing platforms do you use on a regular basis? (Select all that apply) - Selected Choice -  Salesforce Cloud \n",
      "Q26_A_Part_8  :  Which of the following cloud computing platforms do you use on a regular basis? (Select all that apply) - Selected Choice -  VMware Cloud \n",
      "Q26_A_Part_9  :  Which of the following cloud computing platforms do you use on a regular basis? (Select all that apply) - Selected Choice -  Alibaba Cloud \n",
      "Q26_A_Part_10  :  Which of the following cloud computing platforms do you use on a regular basis? (Select all that apply) - Selected Choice -  Tencent Cloud \n",
      "Q26_A_Part_11  :  Which of the following cloud computing platforms do you use on a regular basis? (Select all that apply) - Selected Choice - None\n",
      "Q26_A_OTHER  :  Which of the following cloud computing platforms do you use on a regular basis? (Select all that apply) - Selected Choice - Other\n",
      "Q27_A_Part_1  :  Do you use any of the following cloud computing products on a regular basis? (Select all that apply) - Selected Choice -  Amazon EC2 \n",
      "Q27_A_Part_2  :  Do you use any of the following cloud computing products on a regular basis? (Select all that apply) - Selected Choice -  AWS Lambda \n",
      "Q27_A_Part_3  :  Do you use any of the following cloud computing products on a regular basis? (Select all that apply) - Selected Choice -  Amazon Elastic Container Service \n",
      "Q27_A_Part_4  :  Do you use any of the following cloud computing products on a regular basis? (Select all that apply) - Selected Choice -  Azure Cloud Services \n",
      "Q27_A_Part_5  :  Do you use any of the following cloud computing products on a regular basis? (Select all that apply) - Selected Choice -  Microsoft Azure Container Instances \n",
      "Q27_A_Part_6  :  Do you use any of the following cloud computing products on a regular basis? (Select all that apply) - Selected Choice -  Azure Functions \n",
      "Q27_A_Part_7  :  Do you use any of the following cloud computing products on a regular basis? (Select all that apply) - Selected Choice -  Google Cloud Compute Engine \n",
      "Q27_A_Part_8  :  Do you use any of the following cloud computing products on a regular basis? (Select all that apply) - Selected Choice -  Google Cloud Functions \n",
      "Q27_A_Part_9  :  Do you use any of the following cloud computing products on a regular basis? (Select all that apply) - Selected Choice -  Google Cloud Run \n",
      "Q27_A_Part_10  :  Do you use any of the following cloud computing products on a regular basis? (Select all that apply) - Selected Choice -  Google Cloud App Engine \n",
      "Q27_A_Part_11  :  Do you use any of the following cloud computing products on a regular basis? (Select all that apply) - Selected Choice - No / None\n",
      "Q27_A_OTHER  :  Do you use any of the following cloud computing products on a regular basis? (Select all that apply) - Selected Choice - Other\n",
      "Q28_A_Part_1  :  Do you use any of the following machine learning products on a regular basis? (Select all that apply) - Selected Choice -  Amazon SageMaker \n",
      "Q28_A_Part_2  :  Do you use any of the following machine learning products on a regular basis? (Select all that apply) - Selected Choice -  Amazon Forecast \n",
      "Q28_A_Part_3  :  Do you use any of the following machine learning products on a regular basis? (Select all that apply) - Selected Choice -  Amazon Rekognition \n",
      "Q28_A_Part_4  :  Do you use any of the following machine learning products on a regular basis? (Select all that apply) - Selected Choice -  Azure Machine Learning Studio \n",
      "Q28_A_Part_5  :  Do you use any of the following machine learning products on a regular basis? (Select all that apply) - Selected Choice -  Azure Cognitive Services \n",
      "Q28_A_Part_6  :  Do you use any of the following machine learning products on a regular basis? (Select all that apply) - Selected Choice -  Google Cloud AI Platform / Google Cloud ML Engine\n",
      "Q28_A_Part_7  :  Do you use any of the following machine learning products on a regular basis? (Select all that apply) - Selected Choice -  Google Cloud Video AI \n",
      "Q28_A_Part_8  :  Do you use any of the following machine learning products on a regular basis? (Select all that apply) - Selected Choice -  Google Cloud Natural Language \n",
      "Q28_A_Part_9  :  Do you use any of the following machine learning products on a regular basis? (Select all that apply) - Selected Choice -  Google Cloud Vision AI \n",
      "Q28_A_Part_10  :  Do you use any of the following machine learning products on a regular basis? (Select all that apply) - Selected Choice - No / None\n",
      "Q28_A_OTHER  :  Do you use any of the following machine learning products on a regular basis? (Select all that apply) - Selected Choice - Other\n",
      "Q29_A_Part_1  :  Which of the following big data products (relational databases, data warehouses, data lakes, or similar) do you use on a regular basis? (Select all that apply) - Selected Choice - MySQL \n",
      "Q29_A_Part_2  :  Which of the following big data products (relational databases, data warehouses, data lakes, or similar) do you use on a regular basis? (Select all that apply) - Selected Choice - PostgresSQL \n",
      "Q29_A_Part_3  :  Which of the following big data products (relational databases, data warehouses, data lakes, or similar) do you use on a regular basis? (Select all that apply) - Selected Choice - SQLite \n",
      "Q29_A_Part_4  :  Which of the following big data products (relational databases, data warehouses, data lakes, or similar) do you use on a regular basis? (Select all that apply) - Selected Choice - Oracle Database \n",
      "Q29_A_Part_5  :  Which of the following big data products (relational databases, data warehouses, data lakes, or similar) do you use on a regular basis? (Select all that apply) - Selected Choice - MongoDB \n",
      "Q29_A_Part_6  :  Which of the following big data products (relational databases, data warehouses, data lakes, or similar) do you use on a regular basis? (Select all that apply) - Selected Choice - Snowflake \n",
      "Q29_A_Part_7  :  Which of the following big data products (relational databases, data warehouses, data lakes, or similar) do you use on a regular basis? (Select all that apply) - Selected Choice - IBM Db2 \n",
      "Q29_A_Part_8  :  Which of the following big data products (relational databases, data warehouses, data lakes, or similar) do you use on a regular basis? (Select all that apply) - Selected Choice - Microsoft SQL Server \n",
      "Q29_A_Part_9  :  Which of the following big data products (relational databases, data warehouses, data lakes, or similar) do you use on a regular basis? (Select all that apply) - Selected Choice - Microsoft Access \n",
      "Q29_A_Part_10  :  Which of the following big data products (relational databases, data warehouses, data lakes, or similar) do you use on a regular basis? (Select all that apply) - Selected Choice - Microsoft Azure Data Lake Storage \n",
      "Q29_A_Part_11  :  Which of the following big data products (relational databases, data warehouses, data lakes, or similar) do you use on a regular basis? (Select all that apply) - Selected Choice - Amazon Redshift \n",
      "Q29_A_Part_12  :  Which of the following big data products (relational databases, data warehouses, data lakes, or similar) do you use on a regular basis? (Select all that apply) - Selected Choice - Amazon Athena \n",
      "Q29_A_Part_13  :  Which of the following big data products (relational databases, data warehouses, data lakes, or similar) do you use on a regular basis? (Select all that apply) - Selected Choice - Amazon DynamoDB \n",
      "Q29_A_Part_14  :  Which of the following big data products (relational databases, data warehouses, data lakes, or similar) do you use on a regular basis? (Select all that apply) - Selected Choice - Google Cloud BigQuery \n",
      "Q29_A_Part_15  :  Which of the following big data products (relational databases, data warehouses, data lakes, or similar) do you use on a regular basis? (Select all that apply) - Selected Choice - Google Cloud SQL \n",
      "Q29_A_Part_16  :  Which of the following big data products (relational databases, data warehouses, data lakes, or similar) do you use on a regular basis? (Select all that apply) - Selected Choice - Google Cloud Firestore \n",
      "Q29_A_Part_17  :  Which of the following big data products (relational databases, data warehouses, data lakes, or similar) do you use on a regular basis? (Select all that apply) - Selected Choice - None\n",
      "Q29_A_OTHER  :  Which of the following big data products (relational databases, data warehouses, data lakes, or similar) do you use on a regular basis? (Select all that apply) - Selected Choice - Other\n",
      "Q30  :  Which of the following big data products (relational database, data warehouse, data lake, or similar) do you use most often? - Selected Choice\n",
      "Q31_A_Part_1  :  Which of the following business intelligence tools do you use on a regular basis? (Select all that apply) - Selected Choice - Amazon QuickSight\n",
      "Q31_A_Part_2  :  Which of the following business intelligence tools do you use on a regular basis? (Select all that apply) - Selected Choice - Microsoft Power BI\n",
      "Q31_A_Part_3  :  Which of the following business intelligence tools do you use on a regular basis? (Select all that apply) - Selected Choice - Google Data Studio\n",
      "Q31_A_Part_4  :  Which of the following business intelligence tools do you use on a regular basis? (Select all that apply) - Selected Choice - Looker\n",
      "Q31_A_Part_5  :  Which of the following business intelligence tools do you use on a regular basis? (Select all that apply) - Selected Choice - Tableau\n",
      "Q31_A_Part_6  :  Which of the following business intelligence tools do you use on a regular basis? (Select all that apply) - Selected Choice - Salesforce\n",
      "Q31_A_Part_7  :  Which of the following business intelligence tools do you use on a regular basis? (Select all that apply) - Selected Choice - Einstein Analytics\n",
      "Q31_A_Part_8  :  Which of the following business intelligence tools do you use on a regular basis? (Select all that apply) - Selected Choice - Qlik\n",
      "Q31_A_Part_9  :  Which of the following business intelligence tools do you use on a regular basis? (Select all that apply) - Selected Choice - Domo\n",
      "Q31_A_Part_10  :  Which of the following business intelligence tools do you use on a regular basis? (Select all that apply) - Selected Choice - TIBCO Spotfire\n",
      "Q31_A_Part_11  :  Which of the following business intelligence tools do you use on a regular basis? (Select all that apply) - Selected Choice - Alteryx \n",
      "Q31_A_Part_12  :  Which of the following business intelligence tools do you use on a regular basis? (Select all that apply) - Selected Choice - Sisense \n",
      "Q31_A_Part_13  :  Which of the following business intelligence tools do you use on a regular basis? (Select all that apply) - Selected Choice - SAP Analytics Cloud \n",
      "Q31_A_Part_14  :  Which of the following business intelligence tools do you use on a regular basis? (Select all that apply) - Selected Choice - None\n",
      "Q31_A_OTHER  :  Which of the following business intelligence tools do you use on a regular basis? (Select all that apply) - Selected Choice - Other\n",
      "Q32  :  Which of the following business intelligence tools do you use most often? - Selected Choice\n",
      "Q33_A_Part_1  :  Do you use any automated machine learning tools (or partial AutoML tools) on a regular basis?  (Select all that apply) - Selected Choice - Automated data augmentation (e.g. imgaug, albumentations)\n",
      "Q33_A_Part_2  :  Do you use any automated machine learning tools (or partial AutoML tools) on a regular basis?  (Select all that apply) - Selected Choice - Automated feature engineering/selection (e.g. tpot, boruta_py)\n",
      "Q33_A_Part_3  :  Do you use any automated machine learning tools (or partial AutoML tools) on a regular basis?  (Select all that apply) - Selected Choice - Automated model selection (e.g. auto-sklearn, xcessiv)\n",
      "Q33_A_Part_4  :  Do you use any automated machine learning tools (or partial AutoML tools) on a regular basis?  (Select all that apply) - Selected Choice - Automated model architecture searches (e.g. darts, enas)\n",
      "Q33_A_Part_5  :  Do you use any automated machine learning tools (or partial AutoML tools) on a regular basis?  (Select all that apply) - Selected Choice - Automated hyperparameter tuning (e.g. hyperopt, ray.tune, Vizier)\n",
      "Q33_A_Part_6  :  Do you use any automated machine learning tools (or partial AutoML tools) on a regular basis?  (Select all that apply) - Selected Choice - Automation of full ML pipelines (e.g. Google AutoML, H20 Driverless AI)\n",
      "Q33_A_Part_7  :  Do you use any automated machine learning tools (or partial AutoML tools) on a regular basis?  (Select all that apply) - Selected Choice - No / None\n",
      "Q33_A_OTHER  :  Do you use any automated machine learning tools (or partial AutoML tools) on a regular basis?  (Select all that apply) - Selected Choice - Other\n",
      "Q34_A_Part_1  :  Which of the following automated machine learning tools (or partial AutoML tools) do you use on a regular basis?  (Select all that apply) - Selected Choice -  Google Cloud AutoML \n",
      "Q34_A_Part_2  :  Which of the following automated machine learning tools (or partial AutoML tools) do you use on a regular basis?  (Select all that apply) - Selected Choice -  H20 Driverless AI  \n",
      "Q34_A_Part_3  :  Which of the following automated machine learning tools (or partial AutoML tools) do you use on a regular basis?  (Select all that apply) - Selected Choice -  Databricks AutoML \n",
      "Q34_A_Part_4  :  Which of the following automated machine learning tools (or partial AutoML tools) do you use on a regular basis?  (Select all that apply) - Selected Choice -  DataRobot AutoML \n",
      "Q34_A_Part_5  :  Which of the following automated machine learning tools (or partial AutoML tools) do you use on a regular basis?  (Select all that apply) - Selected Choice -   Tpot \n",
      "Q34_A_Part_6  :  Which of the following automated machine learning tools (or partial AutoML tools) do you use on a regular basis?  (Select all that apply) - Selected Choice -   Auto-Keras \n",
      "Q34_A_Part_7  :  Which of the following automated machine learning tools (or partial AutoML tools) do you use on a regular basis?  (Select all that apply) - Selected Choice -   Auto-Sklearn \n",
      "Q34_A_Part_8  :  Which of the following automated machine learning tools (or partial AutoML tools) do you use on a regular basis?  (Select all that apply) - Selected Choice -   Auto_ml \n",
      "Q34_A_Part_9  :  Which of the following automated machine learning tools (or partial AutoML tools) do you use on a regular basis?  (Select all that apply) - Selected Choice -   Xcessiv \n",
      "Q34_A_Part_10  :  Which of the following automated machine learning tools (or partial AutoML tools) do you use on a regular basis?  (Select all that apply) - Selected Choice -   MLbox \n",
      "Q34_A_Part_11  :  Which of the following automated machine learning tools (or partial AutoML tools) do you use on a regular basis?  (Select all that apply) - Selected Choice - No / None\n",
      "Q34_A_OTHER  :  Which of the following automated machine learning tools (or partial AutoML tools) do you use on a regular basis?  (Select all that apply) - Selected Choice - Other\n",
      "Q35_A_Part_1  :  Do you use any tools to help manage machine learning experiments? (Select all that apply) - Selected Choice -  Neptune.ai \n",
      "Q35_A_Part_2  :  Do you use any tools to help manage machine learning experiments? (Select all that apply) - Selected Choice -  Weights & Biases \n",
      "Q35_A_Part_3  :  Do you use any tools to help manage machine learning experiments? (Select all that apply) - Selected Choice -  Comet.ml \n",
      "Q35_A_Part_4  :  Do you use any tools to help manage machine learning experiments? (Select all that apply) - Selected Choice -  Sacred + Omniboard \n",
      "Q35_A_Part_5  :  Do you use any tools to help manage machine learning experiments? (Select all that apply) - Selected Choice -  TensorBoard \n",
      "Q35_A_Part_6  :  Do you use any tools to help manage machine learning experiments? (Select all that apply) - Selected Choice -  Guild.ai \n",
      "Q35_A_Part_7  :  Do you use any tools to help manage machine learning experiments? (Select all that apply) - Selected Choice -  Polyaxon \n",
      "Q35_A_Part_8  :  Do you use any tools to help manage machine learning experiments? (Select all that apply) - Selected Choice -  Trains \n",
      "Q35_A_Part_9  :  Do you use any tools to help manage machine learning experiments? (Select all that apply) - Selected Choice -  Domino Model Monitor \n",
      "Q35_A_Part_10  :  Do you use any tools to help manage machine learning experiments? (Select all that apply) - Selected Choice - No / None\n",
      "Q35_A_OTHER  :  Do you use any tools to help manage machine learning experiments? (Select all that apply) - Selected Choice - Other\n",
      "Q36_Part_1  :  Where do you publicly share or deploy your data analysis or machine learning applications? (Select all that apply) - Selected Choice -  Plotly Dash \n",
      "Q36_Part_2  :  Where do you publicly share or deploy your data analysis or machine learning applications? (Select all that apply) - Selected Choice -  Streamlit \n",
      "Q36_Part_3  :  Where do you publicly share or deploy your data analysis or machine learning applications? (Select all that apply) - Selected Choice -  NBViewer \n",
      "Q36_Part_4  :  Where do you publicly share or deploy your data analysis or machine learning applications? (Select all that apply) - Selected Choice -  GitHub \n",
      "Q36_Part_5  :  Where do you publicly share or deploy your data analysis or machine learning applications? (Select all that apply) - Selected Choice -  Personal blog \n",
      "Q36_Part_6  :  Where do you publicly share or deploy your data analysis or machine learning applications? (Select all that apply) - Selected Choice -  Kaggle \n",
      "Q36_Part_7  :  Where do you publicly share or deploy your data analysis or machine learning applications? (Select all that apply) - Selected Choice -  Colab \n",
      "Q36_Part_8  :  Where do you publicly share or deploy your data analysis or machine learning applications? (Select all that apply) - Selected Choice -  Shiny \n",
      "Q36_Part_9  :  Where do you publicly share or deploy your data analysis or machine learning applications? (Select all that apply) - Selected Choice - I do not share my work publicly\n",
      "Q36_OTHER  :  Where do you publicly share or deploy your data analysis or machine learning applications? (Select all that apply) - Selected Choice - Other\n",
      "Q37_Part_1  :  On which platforms have you begun or completed data science courses? (Select all that apply) - Selected Choice - Coursera\n",
      "Q37_Part_2  :  On which platforms have you begun or completed data science courses? (Select all that apply) - Selected Choice - edX\n",
      "Q37_Part_3  :  On which platforms have you begun or completed data science courses? (Select all that apply) - Selected Choice - Kaggle Learn Courses\n",
      "Q37_Part_4  :  On which platforms have you begun or completed data science courses? (Select all that apply) - Selected Choice - DataCamp\n",
      "Q37_Part_5  :  On which platforms have you begun or completed data science courses? (Select all that apply) - Selected Choice - Fast.ai\n",
      "Q37_Part_6  :  On which platforms have you begun or completed data science courses? (Select all that apply) - Selected Choice - Udacity\n",
      "Q37_Part_7  :  On which platforms have you begun or completed data science courses? (Select all that apply) - Selected Choice - Udemy\n",
      "Q37_Part_8  :  On which platforms have you begun or completed data science courses? (Select all that apply) - Selected Choice - LinkedIn Learning\n",
      "Q37_Part_9  :  On which platforms have you begun or completed data science courses? (Select all that apply) - Selected Choice - Cloud-certification programs (direct from AWS, Azure, GCP, or similar)\n",
      "Q37_Part_10  :  On which platforms have you begun or completed data science courses? (Select all that apply) - Selected Choice - University Courses (resulting in a university degree)\n",
      "Q37_Part_11  :  On which platforms have you begun or completed data science courses? (Select all that apply) - Selected Choice - None\n",
      "Q37_OTHER  :  On which platforms have you begun or completed data science courses? (Select all that apply) - Selected Choice - Other\n",
      "Q38  :  What is the primary tool that you use at work or school to analyze data? (Include text response) - Selected Choice\n",
      "Q39_Part_1  :  Who/what are your favorite media sources that report on data science topics? (Select all that apply) - Selected Choice - Twitter (data science influencers)\n",
      "Q39_Part_2  :  Who/what are your favorite media sources that report on data science topics? (Select all that apply) - Selected Choice - Email newsletters (Data Elixir, O'Reilly Data & AI, etc)\n",
      "Q39_Part_3  :  Who/what are your favorite media sources that report on data science topics? (Select all that apply) - Selected Choice - Reddit (r/machinelearning, etc)\n",
      "Q39_Part_4  :  Who/what are your favorite media sources that report on data science topics? (Select all that apply) - Selected Choice - Kaggle (notebooks, forums, etc)\n",
      "Q39_Part_5  :  Who/what are your favorite media sources that report on data science topics? (Select all that apply) - Selected Choice - Course Forums (forums.fast.ai, Coursera forums, etc)\n",
      "Q39_Part_6  :  Who/what are your favorite media sources that report on data science topics? (Select all that apply) - Selected Choice - YouTube (Kaggle YouTube, Cloud AI Adventures, etc)\n",
      "Q39_Part_7  :  Who/what are your favorite media sources that report on data science topics? (Select all that apply) - Selected Choice - Podcasts (Chai Time Data Science, O’Reilly Data Show, etc)\n",
      "Q39_Part_8  :  Who/what are your favorite media sources that report on data science topics? (Select all that apply) - Selected Choice - Blogs (Towards Data Science, Analytics Vidhya, etc)\n",
      "Q39_Part_9  :  Who/what are your favorite media sources that report on data science topics? (Select all that apply) - Selected Choice - Journal Publications (peer-reviewed journals, conference proceedings, etc)\n",
      "Q39_Part_10  :  Who/what are your favorite media sources that report on data science topics? (Select all that apply) - Selected Choice - Slack Communities (ods.ai, kagglenoobs, etc)\n",
      "Q39_Part_11  :  Who/what are your favorite media sources that report on data science topics? (Select all that apply) - Selected Choice - None\n",
      "Q39_OTHER  :  Who/what are your favorite media sources that report on data science topics? (Select all that apply) - Selected Choice - Other\n",
      "Q26_B_Part_1  :  Which of the following cloud computing platforms do you hope to become more familiar with in the next 2 years? - Selected Choice -  Amazon Web Services (AWS) \n",
      "Q26_B_Part_2  :  Which of the following cloud computing platforms do you hope to become more familiar with in the next 2 years? - Selected Choice -  Microsoft Azure \n",
      "Q26_B_Part_3  :  Which of the following cloud computing platforms do you hope to become more familiar with in the next 2 years? - Selected Choice -  Google Cloud Platform (GCP) \n",
      "Q26_B_Part_4  :  Which of the following cloud computing platforms do you hope to become more familiar with in the next 2 years? - Selected Choice -  IBM Cloud / Red Hat \n",
      "Q26_B_Part_5  :  Which of the following cloud computing platforms do you hope to become more familiar with in the next 2 years? - Selected Choice -  Oracle Cloud \n",
      "Q26_B_Part_6  :  Which of the following cloud computing platforms do you hope to become more familiar with in the next 2 years? - Selected Choice -  SAP Cloud \n",
      "Q26_B_Part_7  :  Which of the following cloud computing platforms do you hope to become more familiar with in the next 2 years? - Selected Choice -  VMware Cloud \n",
      "Q26_B_Part_8  :  Which of the following cloud computing platforms do you hope to become more familiar with in the next 2 years? - Selected Choice -  Salesforce Cloud \n",
      "Q26_B_Part_9  :  Which of the following cloud computing platforms do you hope to become more familiar with in the next 2 years? - Selected Choice -  Alibaba Cloud \n",
      "Q26_B_Part_10  :  Which of the following cloud computing platforms do you hope to become more familiar with in the next 2 years? - Selected Choice -  Tencent Cloud \n",
      "Q26_B_Part_11  :  Which of the following cloud computing platforms do you hope to become more familiar with in the next 2 years? - Selected Choice - None\n",
      "Q26_B_OTHER  :  Which of the following cloud computing platforms do you hope to become more familiar with in the next 2 years? - Selected Choice - Other\n",
      "Q27_B_Part_1  :  In the next 2 years, do you hope to become more familiar with any of these specific cloud computing products? (Select all that apply) - Selected Choice -  Amazon EC2 \n",
      "Q27_B_Part_2  :  In the next 2 years, do you hope to become more familiar with any of these specific cloud computing products? (Select all that apply) - Selected Choice -  AWS Lambda \n",
      "Q27_B_Part_3  :  In the next 2 years, do you hope to become more familiar with any of these specific cloud computing products? (Select all that apply) - Selected Choice -  Amazon Elastic Container Service \n",
      "Q27_B_Part_4  :  In the next 2 years, do you hope to become more familiar with any of these specific cloud computing products? (Select all that apply) - Selected Choice -  Azure Cloud Services \n",
      "Q27_B_Part_5  :  In the next 2 years, do you hope to become more familiar with any of these specific cloud computing products? (Select all that apply) - Selected Choice -  Microsoft Azure Container Instances \n",
      "Q27_B_Part_6  :  In the next 2 years, do you hope to become more familiar with any of these specific cloud computing products? (Select all that apply) - Selected Choice -  Azure Functions \n",
      "Q27_B_Part_7  :  In the next 2 years, do you hope to become more familiar with any of these specific cloud computing products? (Select all that apply) - Selected Choice -  Google Cloud Compute Engine \n",
      "Q27_B_Part_8  :  In the next 2 years, do you hope to become more familiar with any of these specific cloud computing products? (Select all that apply) - Selected Choice -  Google Cloud Functions \n",
      "Q27_B_Part_9  :  In the next 2 years, do you hope to become more familiar with any of these specific cloud computing products? (Select all that apply) - Selected Choice -  Google Cloud Run \n",
      "Q27_B_Part_10  :  In the next 2 years, do you hope to become more familiar with any of these specific cloud computing products? (Select all that apply) - Selected Choice -  Google Cloud App Engine \n",
      "Q27_B_Part_11  :  In the next 2 years, do you hope to become more familiar with any of these specific cloud computing products? (Select all that apply) - Selected Choice - None\n",
      "Q27_B_OTHER  :  In the next 2 years, do you hope to become more familiar with any of these specific cloud computing products? (Select all that apply) - Selected Choice - Other\n",
      "Q28_B_Part_1  :  In the next 2 years, do you hope to become more familiar with any of these specific machine learning products? (Select all that apply) - Selected Choice -  Amazon SageMaker \n",
      "Q28_B_Part_2  :  In the next 2 years, do you hope to become more familiar with any of these specific machine learning products? (Select all that apply) - Selected Choice -  Amazon Forecast \n",
      "Q28_B_Part_3  :  In the next 2 years, do you hope to become more familiar with any of these specific machine learning products? (Select all that apply) - Selected Choice -  Amazon Rekognition \n",
      "Q28_B_Part_4  :  In the next 2 years, do you hope to become more familiar with any of these specific machine learning products? (Select all that apply) - Selected Choice -  Azure Machine Learning Studio \n",
      "Q28_B_Part_5  :  In the next 2 years, do you hope to become more familiar with any of these specific machine learning products? (Select all that apply) - Selected Choice -  Azure Cognitive Services \n",
      "Q28_B_Part_6  :  In the next 2 years, do you hope to become more familiar with any of these specific machine learning products? (Select all that apply) - Selected Choice -  Google Cloud AI Platform / Google Cloud ML Engine\n",
      "Q28_B_Part_7  :  In the next 2 years, do you hope to become more familiar with any of these specific machine learning products? (Select all that apply) - Selected Choice -  Google Cloud Video AI \n",
      "Q28_B_Part_8  :  In the next 2 years, do you hope to become more familiar with any of these specific machine learning products? (Select all that apply) - Selected Choice -  Google Cloud Natural Language \n",
      "Q28_B_Part_9  :  In the next 2 years, do you hope to become more familiar with any of these specific machine learning products? (Select all that apply) - Selected Choice -  Google Cloud Vision AI \n",
      "Q28_B_Part_10  :  In the next 2 years, do you hope to become more familiar with any of these specific machine learning products? (Select all that apply) - Selected Choice - None\n",
      "Q28_B_OTHER  :  In the next 2 years, do you hope to become more familiar with any of these specific machine learning products? (Select all that apply) - Selected Choice - Other\n",
      "Q29_B_Part_1  :  Which of the following big data products (relational databases, data warehouses, data lakes, or similar) do you hope to become more familiar with in the next 2 years? (Select all that apply) - Selected Choice - MySQL \n",
      "Q29_B_Part_2  :  Which of the following big data products (relational databases, data warehouses, data lakes, or similar) do you hope to become more familiar with in the next 2 years? (Select all that apply) - Selected Choice - PostgresSQL \n",
      "Q29_B_Part_3  :  Which of the following big data products (relational databases, data warehouses, data lakes, or similar) do you hope to become more familiar with in the next 2 years? (Select all that apply) - Selected Choice - SQLite \n",
      "Q29_B_Part_4  :  Which of the following big data products (relational databases, data warehouses, data lakes, or similar) do you hope to become more familiar with in the next 2 years? (Select all that apply) - Selected Choice - Oracle Database \n",
      "Q29_B_Part_5  :  Which of the following big data products (relational databases, data warehouses, data lakes, or similar) do you hope to become more familiar with in the next 2 years? (Select all that apply) - Selected Choice - MongoDB \n",
      "Q29_B_Part_6  :  Which of the following big data products (relational databases, data warehouses, data lakes, or similar) do you hope to become more familiar with in the next 2 years? (Select all that apply) - Selected Choice - Snowflake \n",
      "Q29_B_Part_7  :  Which of the following big data products (relational databases, data warehouses, data lakes, or similar) do you hope to become more familiar with in the next 2 years? (Select all that apply) - Selected Choice - IBM Db2 \n",
      "Q29_B_Part_8  :  Which of the following big data products (relational databases, data warehouses, data lakes, or similar) do you hope to become more familiar with in the next 2 years? (Select all that apply) - Selected Choice - Microsoft SQL Server \n",
      "Q29_B_Part_9  :  Which of the following big data products (relational databases, data warehouses, data lakes, or similar) do you hope to become more familiar with in the next 2 years? (Select all that apply) - Selected Choice - Microsoft Access \n",
      "Q29_B_Part_10  :  Which of the following big data products (relational databases, data warehouses, data lakes, or similar) do you hope to become more familiar with in the next 2 years? (Select all that apply) - Selected Choice - Microsoft Azure Data Lake Storage \n",
      "Q29_B_Part_11  :  Which of the following big data products (relational databases, data warehouses, data lakes, or similar) do you hope to become more familiar with in the next 2 years? (Select all that apply) - Selected Choice - Amazon Redshift \n",
      "Q29_B_Part_12  :  Which of the following big data products (relational databases, data warehouses, data lakes, or similar) do you hope to become more familiar with in the next 2 years? (Select all that apply) - Selected Choice - Amazon Athena \n",
      "Q29_B_Part_13  :  Which of the following big data products (relational databases, data warehouses, data lakes, or similar) do you hope to become more familiar with in the next 2 years? (Select all that apply) - Selected Choice - Amazon DynamoDB \n",
      "Q29_B_Part_14  :  Which of the following big data products (relational databases, data warehouses, data lakes, or similar) do you hope to become more familiar with in the next 2 years? (Select all that apply) - Selected Choice - Google Cloud BigQuery \n",
      "Q29_B_Part_15  :  Which of the following big data products (relational databases, data warehouses, data lakes, or similar) do you hope to become more familiar with in the next 2 years? (Select all that apply) - Selected Choice - Google Cloud SQL \n",
      "Q29_B_Part_16  :  Which of the following big data products (relational databases, data warehouses, data lakes, or similar) do you hope to become more familiar with in the next 2 years? (Select all that apply) - Selected Choice - Google Cloud Firestore \n",
      "Q29_B_Part_17  :  Which of the following big data products (relational databases, data warehouses, data lakes, or similar) do you hope to become more familiar with in the next 2 years? (Select all that apply) - Selected Choice - None\n",
      "Q29_B_OTHER  :  Which of the following big data products (relational databases, data warehouses, data lakes, or similar) do you hope to become more familiar with in the next 2 years? (Select all that apply) - Selected Choice - Other\n",
      "Q31_B_Part_1  :  Which of the following business intelligence tools do you hope to become more familiar with in the next 2 years? (Select all that apply) - Selected Choice - Microsoft Power BI\n",
      "Q31_B_Part_2  :  Which of the following business intelligence tools do you hope to become more familiar with in the next 2 years? (Select all that apply) - Selected Choice - Amazon QuickSight\n",
      "Q31_B_Part_3  :  Which of the following business intelligence tools do you hope to become more familiar with in the next 2 years? (Select all that apply) - Selected Choice - Google Data Studio\n",
      "Q31_B_Part_4  :  Which of the following business intelligence tools do you hope to become more familiar with in the next 2 years? (Select all that apply) - Selected Choice - Looker\n",
      "Q31_B_Part_5  :  Which of the following business intelligence tools do you hope to become more familiar with in the next 2 years? (Select all that apply) - Selected Choice - Tableau\n",
      "Q31_B_Part_6  :  Which of the following business intelligence tools do you hope to become more familiar with in the next 2 years? (Select all that apply) - Selected Choice - Salesforce\n",
      "Q31_B_Part_7  :  Which of the following business intelligence tools do you hope to become more familiar with in the next 2 years? (Select all that apply) - Selected Choice - Einstein Analytics\n",
      "Q31_B_Part_8  :  Which of the following business intelligence tools do you hope to become more familiar with in the next 2 years? (Select all that apply) - Selected Choice - Qlik\n",
      "Q31_B_Part_9  :  Which of the following business intelligence tools do you hope to become more familiar with in the next 2 years? (Select all that apply) - Selected Choice - Domo\n",
      "Q31_B_Part_10  :  Which of the following business intelligence tools do you hope to become more familiar with in the next 2 years? (Select all that apply) - Selected Choice - TIBCO Spotfire\n",
      "Q31_B_Part_11  :  Which of the following business intelligence tools do you hope to become more familiar with in the next 2 years? (Select all that apply) - Selected Choice - Alteryx \n",
      "Q31_B_Part_12  :  Which of the following business intelligence tools do you hope to become more familiar with in the next 2 years? (Select all that apply) - Selected Choice - Sisense \n",
      "Q31_B_Part_13  :  Which of the following business intelligence tools do you hope to become more familiar with in the next 2 years? (Select all that apply) - Selected Choice - SAP Analytics Cloud \n",
      "Q31_B_Part_14  :  Which of the following business intelligence tools do you hope to become more familiar with in the next 2 years? (Select all that apply) - Selected Choice - None\n",
      "Q31_B_OTHER  :  Which of the following business intelligence tools do you hope to become more familiar with in the next 2 years? (Select all that apply) - Selected Choice - Other\n",
      "Q33_B_Part_1  :  Which categories of automated machine learning tools (or partial AutoML tools) do you hope to become more familiar with in the next 2 years?  (Select all that apply) - Selected Choice - Automated data augmentation (e.g. imgaug, albumentations)\n",
      "Q33_B_Part_2  :  Which categories of automated machine learning tools (or partial AutoML tools) do you hope to become more familiar with in the next 2 years?  (Select all that apply) - Selected Choice - Automated feature engineering/selection (e.g. tpot, boruta_py)\n",
      "Q33_B_Part_3  :  Which categories of automated machine learning tools (or partial AutoML tools) do you hope to become more familiar with in the next 2 years?  (Select all that apply) - Selected Choice - Automated model selection (e.g. auto-sklearn, xcessiv)\n",
      "Q33_B_Part_4  :  Which categories of automated machine learning tools (or partial AutoML tools) do you hope to become more familiar with in the next 2 years?  (Select all that apply) - Selected Choice - Automated model architecture searches (e.g. darts, enas)\n",
      "Q33_B_Part_5  :  Which categories of automated machine learning tools (or partial AutoML tools) do you hope to become more familiar with in the next 2 years?  (Select all that apply) - Selected Choice - Automated hyperparameter tuning (e.g. hyperopt, ray.tune, Vizier)\n",
      "Q33_B_Part_6  :  Which categories of automated machine learning tools (or partial AutoML tools) do you hope to become more familiar with in the next 2 years?  (Select all that apply) - Selected Choice - Automation of full ML pipelines (e.g. Google Cloud AutoML, H20 Driverless AI)\n",
      "Q33_B_Part_7  :  Which categories of automated machine learning tools (or partial AutoML tools) do you hope to become more familiar with in the next 2 years?  (Select all that apply) - Selected Choice - None\n",
      "Q33_B_OTHER  :  Which categories of automated machine learning tools (or partial AutoML tools) do you hope to become more familiar with in the next 2 years?  (Select all that apply) - Selected Choice - Other\n",
      "Q34_B_Part_1  :  Which specific automated machine learning tools (or partial AutoML tools) do you hope to become more familiar with in the next 2 years?  (Select all that apply) - Selected Choice -  Google Cloud AutoML \n",
      "Q34_B_Part_2  :  Which specific automated machine learning tools (or partial AutoML tools) do you hope to become more familiar with in the next 2 years?  (Select all that apply) - Selected Choice -  H20 Driverless AI  \n",
      "Q34_B_Part_3  :  Which specific automated machine learning tools (or partial AutoML tools) do you hope to become more familiar with in the next 2 years?  (Select all that apply) - Selected Choice -  Databricks AutoML \n",
      "Q34_B_Part_4  :  Which specific automated machine learning tools (or partial AutoML tools) do you hope to become more familiar with in the next 2 years?  (Select all that apply) - Selected Choice -  DataRobot AutoML \n",
      "Q34_B_Part_5  :  Which specific automated machine learning tools (or partial AutoML tools) do you hope to become more familiar with in the next 2 years?  (Select all that apply) - Selected Choice -   Tpot \n",
      "Q34_B_Part_6  :  Which specific automated machine learning tools (or partial AutoML tools) do you hope to become more familiar with in the next 2 years?  (Select all that apply) - Selected Choice -   Auto-Keras \n",
      "Q34_B_Part_7  :  Which specific automated machine learning tools (or partial AutoML tools) do you hope to become more familiar with in the next 2 years?  (Select all that apply) - Selected Choice -   Auto-Sklearn \n",
      "Q34_B_Part_8  :  Which specific automated machine learning tools (or partial AutoML tools) do you hope to become more familiar with in the next 2 years?  (Select all that apply) - Selected Choice -   Auto_ml \n",
      "Q34_B_Part_9  :  Which specific automated machine learning tools (or partial AutoML tools) do you hope to become more familiar with in the next 2 years?  (Select all that apply) - Selected Choice -   Xcessiv \n",
      "Q34_B_Part_10  :  Which specific automated machine learning tools (or partial AutoML tools) do you hope to become more familiar with in the next 2 years?  (Select all that apply) - Selected Choice -   MLbox \n",
      "Q34_B_Part_11  :  Which specific automated machine learning tools (or partial AutoML tools) do you hope to become more familiar with in the next 2 years?  (Select all that apply) - Selected Choice - None\n",
      "Q34_B_OTHER  :  Which specific automated machine learning tools (or partial AutoML tools) do you hope to become more familiar with in the next 2 years?  (Select all that apply) - Selected Choice - Other\n",
      "Q35_B_Part_1  :  In the next 2 years, do you hope to become more familiar with any of these tools for managing ML experiments? (Select all that apply) - Selected Choice -  Neptune.ai \n",
      "Q35_B_Part_2  :  In the next 2 years, do you hope to become more familiar with any of these tools for managing ML experiments? (Select all that apply) - Selected Choice -  Weights & Biases \n",
      "Q35_B_Part_3  :  In the next 2 years, do you hope to become more familiar with any of these tools for managing ML experiments? (Select all that apply) - Selected Choice -  Comet.ml \n",
      "Q35_B_Part_4  :  In the next 2 years, do you hope to become more familiar with any of these tools for managing ML experiments? (Select all that apply) - Selected Choice -  Sacred + Omniboard \n",
      "Q35_B_Part_5  :  In the next 2 years, do you hope to become more familiar with any of these tools for managing ML experiments? (Select all that apply) - Selected Choice -  TensorBoard \n",
      "Q35_B_Part_6  :  In the next 2 years, do you hope to become more familiar with any of these tools for managing ML experiments? (Select all that apply) - Selected Choice -  Guild.ai \n",
      "Q35_B_Part_7  :  In the next 2 years, do you hope to become more familiar with any of these tools for managing ML experiments? (Select all that apply) - Selected Choice -  Polyaxon \n",
      "Q35_B_Part_8  :  In the next 2 years, do you hope to become more familiar with any of these tools for managing ML experiments? (Select all that apply) - Selected Choice -  Trains \n",
      "Q35_B_Part_9  :  In the next 2 years, do you hope to become more familiar with any of these tools for managing ML experiments? (Select all that apply) - Selected Choice -  Domino Model Monitor \n",
      "Q35_B_Part_10  :  In the next 2 years, do you hope to become more familiar with any of these tools for managing ML experiments? (Select all that apply) - Selected Choice - None\n",
      "Q35_B_OTHER  :  In the next 2 years, do you hope to become more familiar with any of these tools for managing ML experiments? (Select all that apply) - Selected Choice - Other\n"
     ]
    }
   ],
   "source": [
    "for col, i in zip(df.columns,range(df.shape[1])):\n",
    "    print(col,\" : \",df.iloc[0, i])"
   ]
  },
  {
   "cell_type": "markdown",
   "metadata": {},
   "source": [
    "# Popular languages\n",
    "\n",
    "## Overall\n",
    "\n",
    "\n",
    "\n",
    "question_dict = {}\n",
    "\n",
    "for x in df.columns:\n",
    "    question_dict[x] = df.loc[0,x]\n",
    "        "
   ]
  },
  {
   "cell_type": "code",
   "execution_count": 5,
   "metadata": {
    "ExecuteTime": {
     "end_time": "2021-01-03T16:43:58.103024Z",
     "start_time": "2021-01-03T16:43:57.429565Z"
    },
    "scrolled": true
   },
   "outputs": [
    {
     "name": "stdout",
     "output_type": "stream",
     "text": [
      "works\n"
     ]
    },
    {
     "data": {
      "image/png": "[encoded data removed]",
      "text/plain": [
       "<Figure size 720x360 with 1 Axes>"
      ]
     },
     "metadata": {
      "needs_background": "light"
     },
     "output_type": "display_data"
    }
   ],
   "source": [
    "breakdown_main(df1=df,questionnNumber='Q7',question_dict=question_dict, percent=True)"
   ]
  },
  {
   "cell_type": "code",
   "execution_count": 7,
   "metadata": {
    "ExecuteTime": {
     "end_time": "2021-01-03T16:44:18.488049Z",
     "start_time": "2021-01-03T16:44:18.006185Z"
    }
   },
   "outputs": [
    {
     "name": "stdout",
     "output_type": "stream",
     "text": [
      "works\n"
     ]
    },
    {
     "data": {
      "image/png": "[encoded data removed]",
      "text/plain": [
       "<Figure size 720x360 with 1 Axes>"
      ]
     },
     "metadata": {
      "needs_background": "light"
     },
     "output_type": "display_data"
    }
   ],
   "source": [
    "breakdown_main(df1=df,questionnNumber='Q7',question_dict=question_dict, percent=False)"
   ]
  },
  {
   "cell_type": "markdown",
   "metadata": {},
   "source": [
    "## Netherlands vs South Africa"
   ]
  },
  {
   "cell_type": "code",
   "execution_count": 8,
   "metadata": {
    "ExecuteTime": {
     "end_time": "2021-01-03T16:44:39.696273Z",
     "start_time": "2021-01-03T16:44:39.674468Z"
    }
   },
   "outputs": [],
   "source": [
    "#nl -> netherlands\n",
    "df_nl = df[df['Q3']=='Netherlands']"
   ]
  },
  {
   "cell_type": "code",
   "execution_count": 10,
   "metadata": {
    "ExecuteTime": {
     "end_time": "2021-01-03T16:45:01.806611Z",
     "start_time": "2021-01-03T16:45:01.409888Z"
    }
   },
   "outputs": [
    {
     "name": "stdout",
     "output_type": "stream",
     "text": [
      "works\n"
     ]
    },
    {
     "data": {
      "image/png": "[encoded data removed]",
      "text/plain": [
       "<Figure size 720x360 with 1 Axes>"
      ]
     },
     "metadata": {
      "needs_background": "light"
     },
     "output_type": "display_data"
    }
   ],
   "source": [
    "breakdown_main(df1=df_nl,questionnNumber='Q7',question_dict=question_dict, percent=True)"
   ]
  },
  {
   "cell_type": "code",
   "execution_count": 11,
   "metadata": {
    "ExecuteTime": {
     "end_time": "2021-01-03T16:45:36.122399Z",
     "start_time": "2021-01-03T16:45:36.098559Z"
    }
   },
   "outputs": [],
   "source": [
    "#sa -> South Africa\n",
    "df_sa =  df[df['Q3']=='South Africa']"
   ]
  },
  {
   "cell_type": "code",
   "execution_count": 12,
   "metadata": {
    "ExecuteTime": {
     "end_time": "2021-01-03T16:45:40.559293Z",
     "start_time": "2021-01-03T16:45:40.113850Z"
    },
    "scrolled": false
   },
   "outputs": [
    {
     "name": "stdout",
     "output_type": "stream",
     "text": [
      "works\n"
     ]
    },
    {
     "data": {
      "image/png": "[encoded data removed]",
      "text/plain": [
       "<Figure size 720x360 with 1 Axes>"
      ]
     },
     "metadata": {
      "needs_background": "light"
     },
     "output_type": "display_data"
    }
   ],
   "source": [
    "breakdown_main(df1=df_sa,questionnNumber='Q7',question_dict=question_dict, percent=True)"
   ]
  },
  {
   "cell_type": "code",
   "execution_count": 16,
   "metadata": {
    "ExecuteTime": {
     "end_time": "2021-01-03T16:49:52.663000Z",
     "start_time": "2021-01-03T16:49:52.648018Z"
    }
   },
   "outputs": [
    {
     "data": {
      "text/plain": [
       "24                 Data Analyst\n",
       "451              Data Scientist\n",
       "640                       Other\n",
       "870                     Student\n",
       "952                Data Analyst\n",
       "                  ...          \n",
       "19537                   Student\n",
       "19632                   Student\n",
       "19701            Data Scientist\n",
       "19824            Data Scientist\n",
       "19861    Currently not employed\n",
       "Name: Q5, Length: 141, dtype: object"
      ]
     },
     "execution_count": 16,
     "metadata": {},
     "output_type": "execute_result"
    }
   ],
   "source": [
    "df_sa['Q5']"
   ]
  },
  {
   "cell_type": "code",
   "execution_count": 17,
   "metadata": {
    "ExecuteTime": {
     "end_time": "2021-01-03T16:50:02.988199Z",
     "start_time": "2021-01-03T16:50:02.839322Z"
    },
    "scrolled": true
   },
   "outputs": [
    {
     "name": "stdout",
     "output_type": "stream",
     "text": [
      "works\n"
     ]
    },
    {
     "data": {
      "image/png": "[encoded data removed]",
      "text/plain": [
       "<Figure size 720x360 with 1 Axes>"
      ]
     },
     "metadata": {
      "needs_background": "light"
     },
     "output_type": "display_data"
    }
   ],
   "source": [
    "breakdown_main(df1=df_sa[df_sa['Q5']=='Data Scientist'],questionnNumber='Q7',question_dict=question_dict, percent=True)"
   ]
  },
  {
   "cell_type": "code",
   "execution_count": 19,
   "metadata": {
    "ExecuteTime": {
     "end_time": "2021-01-03T16:51:01.902551Z",
     "start_time": "2021-01-03T16:51:01.752966Z"
    },
    "scrolled": true
   },
   "outputs": [
    {
     "name": "stdout",
     "output_type": "stream",
     "text": [
      "works\n"
     ]
    },
    {
     "data": {
      "image/png": "[encoded data removed]",
      "text/plain": [
       "<Figure size 720x360 with 1 Axes>"
      ]
     },
     "metadata": {
      "needs_background": "light"
     },
     "output_type": "display_data"
    }
   ],
   "source": [
    "breakdown_main(df1=df_nl[df_nl['Q5']=='Data Scientist'],questionnNumber='Q7',question_dict=question_dict, percent=True)"
   ]
  },
  {
   "cell_type": "code",
   "execution_count": 26,
   "metadata": {
    "ExecuteTime": {
     "end_time": "2021-01-03T16:58:00.178395Z",
     "start_time": "2021-01-03T16:58:00.105590Z"
    }
   },
   "outputs": [
    {
     "data": {
      "text/html": [
       "<div>\n",
       "<style scoped>\n",
       "    .dataframe tbody tr th:only-of-type {\n",
       "        vertical-align: middle;\n",
       "    }\n",
       "\n",
       "    .dataframe tbody tr th {\n",
       "        vertical-align: top;\n",
       "    }\n",
       "\n",
       "    .dataframe thead th {\n",
       "        text-align: right;\n",
       "    }\n",
       "</style>\n",
       "<table border=\"1\" class=\"dataframe\">\n",
       "  <thead>\n",
       "    <tr style=\"text-align: right;\">\n",
       "      <th></th>\n",
       "      <th>Q6</th>\n",
       "      <th>Time from Start to Finish (seconds)</th>\n",
       "      <th>Q1</th>\n",
       "      <th>Q2</th>\n",
       "      <th>Q3</th>\n",
       "      <th>Q4</th>\n",
       "      <th>Q5</th>\n",
       "      <th>Q7_Part_1</th>\n",
       "      <th>Q7_Part_2</th>\n",
       "      <th>Q7_Part_3</th>\n",
       "      <th>...</th>\n",
       "      <th>Q35_B_Part_2</th>\n",
       "      <th>Q35_B_Part_3</th>\n",
       "      <th>Q35_B_Part_4</th>\n",
       "      <th>Q35_B_Part_5</th>\n",
       "      <th>Q35_B_Part_6</th>\n",
       "      <th>Q35_B_Part_7</th>\n",
       "      <th>Q35_B_Part_8</th>\n",
       "      <th>Q35_B_Part_9</th>\n",
       "      <th>Q35_B_Part_10</th>\n",
       "      <th>Q35_B_OTHER</th>\n",
       "    </tr>\n",
       "  </thead>\n",
       "  <tbody>\n",
       "    <tr>\n",
       "      <th>0</th>\n",
       "      <td>1-2 years</td>\n",
       "      <td>460</td>\n",
       "      <td>460</td>\n",
       "      <td>460</td>\n",
       "      <td>460</td>\n",
       "      <td>460</td>\n",
       "      <td>460</td>\n",
       "      <td>446</td>\n",
       "      <td>142</td>\n",
       "      <td>208</td>\n",
       "      <td>...</td>\n",
       "      <td>18</td>\n",
       "      <td>7</td>\n",
       "      <td>4</td>\n",
       "      <td>44</td>\n",
       "      <td>11</td>\n",
       "      <td>5</td>\n",
       "      <td>17</td>\n",
       "      <td>8</td>\n",
       "      <td>40</td>\n",
       "      <td>2</td>\n",
       "    </tr>\n",
       "    <tr>\n",
       "      <th>1</th>\n",
       "      <td>10-20 years</td>\n",
       "      <td>355</td>\n",
       "      <td>355</td>\n",
       "      <td>355</td>\n",
       "      <td>355</td>\n",
       "      <td>355</td>\n",
       "      <td>355</td>\n",
       "      <td>329</td>\n",
       "      <td>162</td>\n",
       "      <td>229</td>\n",
       "      <td>...</td>\n",
       "      <td>8</td>\n",
       "      <td>4</td>\n",
       "      <td>3</td>\n",
       "      <td>19</td>\n",
       "      <td>1</td>\n",
       "      <td>1</td>\n",
       "      <td>5</td>\n",
       "      <td>2</td>\n",
       "      <td>28</td>\n",
       "      <td>1</td>\n",
       "    </tr>\n",
       "    <tr>\n",
       "      <th>2</th>\n",
       "      <td>20+ years</td>\n",
       "      <td>223</td>\n",
       "      <td>223</td>\n",
       "      <td>223</td>\n",
       "      <td>223</td>\n",
       "      <td>223</td>\n",
       "      <td>223</td>\n",
       "      <td>191</td>\n",
       "      <td>111</td>\n",
       "      <td>143</td>\n",
       "      <td>...</td>\n",
       "      <td>2</td>\n",
       "      <td>0</td>\n",
       "      <td>0</td>\n",
       "      <td>8</td>\n",
       "      <td>0</td>\n",
       "      <td>1</td>\n",
       "      <td>0</td>\n",
       "      <td>2</td>\n",
       "      <td>23</td>\n",
       "      <td>2</td>\n",
       "    </tr>\n",
       "    <tr>\n",
       "      <th>3</th>\n",
       "      <td>3-5 years</td>\n",
       "      <td>743</td>\n",
       "      <td>743</td>\n",
       "      <td>743</td>\n",
       "      <td>743</td>\n",
       "      <td>743</td>\n",
       "      <td>743</td>\n",
       "      <td>706</td>\n",
       "      <td>254</td>\n",
       "      <td>410</td>\n",
       "      <td>...</td>\n",
       "      <td>34</td>\n",
       "      <td>11</td>\n",
       "      <td>8</td>\n",
       "      <td>65</td>\n",
       "      <td>10</td>\n",
       "      <td>7</td>\n",
       "      <td>18</td>\n",
       "      <td>8</td>\n",
       "      <td>61</td>\n",
       "      <td>4</td>\n",
       "    </tr>\n",
       "    <tr>\n",
       "      <th>4</th>\n",
       "      <td>5-10 years</td>\n",
       "      <td>584</td>\n",
       "      <td>584</td>\n",
       "      <td>584</td>\n",
       "      <td>584</td>\n",
       "      <td>584</td>\n",
       "      <td>584</td>\n",
       "      <td>544</td>\n",
       "      <td>243</td>\n",
       "      <td>383</td>\n",
       "      <td>...</td>\n",
       "      <td>12</td>\n",
       "      <td>5</td>\n",
       "      <td>4</td>\n",
       "      <td>29</td>\n",
       "      <td>3</td>\n",
       "      <td>4</td>\n",
       "      <td>7</td>\n",
       "      <td>7</td>\n",
       "      <td>45</td>\n",
       "      <td>3</td>\n",
       "    </tr>\n",
       "    <tr>\n",
       "      <th>5</th>\n",
       "      <td>&lt; 1 years</td>\n",
       "      <td>247</td>\n",
       "      <td>247</td>\n",
       "      <td>247</td>\n",
       "      <td>247</td>\n",
       "      <td>247</td>\n",
       "      <td>247</td>\n",
       "      <td>237</td>\n",
       "      <td>63</td>\n",
       "      <td>100</td>\n",
       "      <td>...</td>\n",
       "      <td>17</td>\n",
       "      <td>7</td>\n",
       "      <td>9</td>\n",
       "      <td>40</td>\n",
       "      <td>14</td>\n",
       "      <td>10</td>\n",
       "      <td>18</td>\n",
       "      <td>8</td>\n",
       "      <td>28</td>\n",
       "      <td>3</td>\n",
       "    </tr>\n",
       "    <tr>\n",
       "      <th>6</th>\n",
       "      <td>I have never written code</td>\n",
       "      <td>47</td>\n",
       "      <td>47</td>\n",
       "      <td>47</td>\n",
       "      <td>47</td>\n",
       "      <td>47</td>\n",
       "      <td>47</td>\n",
       "      <td>0</td>\n",
       "      <td>0</td>\n",
       "      <td>0</td>\n",
       "      <td>...</td>\n",
       "      <td>3</td>\n",
       "      <td>1</td>\n",
       "      <td>1</td>\n",
       "      <td>1</td>\n",
       "      <td>1</td>\n",
       "      <td>2</td>\n",
       "      <td>1</td>\n",
       "      <td>1</td>\n",
       "      <td>5</td>\n",
       "      <td>1</td>\n",
       "    </tr>\n",
       "  </tbody>\n",
       "</table>\n",
       "<p>7 rows × 355 columns</p>\n",
       "</div>"
      ],
      "text/plain": [
       "                          Q6  Time from Start to Finish (seconds)   Q1   Q2  \\\n",
       "0                  1-2 years                                  460  460  460   \n",
       "1                10-20 years                                  355  355  355   \n",
       "2                  20+ years                                  223  223  223   \n",
       "3                  3-5 years                                  743  743  743   \n",
       "4                 5-10 years                                  584  584  584   \n",
       "5                  < 1 years                                  247  247  247   \n",
       "6  I have never written code                                   47   47   47   \n",
       "\n",
       "    Q3   Q4   Q5  Q7_Part_1  Q7_Part_2  Q7_Part_3  ...  Q35_B_Part_2  \\\n",
       "0  460  460  460        446        142        208  ...            18   \n",
       "1  355  355  355        329        162        229  ...             8   \n",
       "2  223  223  223        191        111        143  ...             2   \n",
       "3  743  743  743        706        254        410  ...            34   \n",
       "4  584  584  584        544        243        383  ...            12   \n",
       "5  247  247  247        237         63        100  ...            17   \n",
       "6   47   47   47          0          0          0  ...             3   \n",
       "\n",
       "   Q35_B_Part_3  Q35_B_Part_4  Q35_B_Part_5  Q35_B_Part_6  Q35_B_Part_7  \\\n",
       "0             7             4            44            11             5   \n",
       "1             4             3            19             1             1   \n",
       "2             0             0             8             0             1   \n",
       "3            11             8            65            10             7   \n",
       "4             5             4            29             3             4   \n",
       "5             7             9            40            14            10   \n",
       "6             1             1             1             1             2   \n",
       "\n",
       "   Q35_B_Part_8  Q35_B_Part_9  Q35_B_Part_10  Q35_B_OTHER  \n",
       "0            17             8             40            2  \n",
       "1             5             2             28            1  \n",
       "2             0             2             23            2  \n",
       "3            18             8             61            4  \n",
       "4             7             7             45            3  \n",
       "5            18             8             28            3  \n",
       "6             1             1              5            1  \n",
       "\n",
       "[7 rows x 355 columns]"
      ]
     },
     "execution_count": 26,
     "metadata": {},
     "output_type": "execute_result"
    }
   ],
   "source": [
    "df[df['Q5']=='Data Scientist'].groupby(\"Q6\").count().reset_index()"
   ]
  },
  {
   "cell_type": "code",
   "execution_count": 29,
   "metadata": {
    "ExecuteTime": {
     "end_time": "2021-01-03T16:59:44.407907Z",
     "start_time": "2021-01-03T16:59:44.296485Z"
    },
    "scrolled": true
   },
   "outputs": [
    {
     "data": {
      "text/plain": [
       "<matplotlib.axes._subplots.AxesSubplot at 0x24ecbbc52b0>"
      ]
     },
     "execution_count": 29,
     "metadata": {},
     "output_type": "execute_result"
    },
    {
     "data": {
      "image/png": "[encoded data removed]",
      "text/plain": [
       "<Figure size 720x360 with 1 Axes>"
      ]
     },
     "metadata": {
      "needs_background": "light"
     },
     "output_type": "display_data"
    }
   ],
   "source": [
    "plt.figure(figsize=(10,5))\n",
    "sns.barplot(data=df_nl[df_nl['Q5']=='Data Scientist'].groupby(\"Q6\").count().reset_index(), x = \"Q6\", y='Q7_Part_1')"
   ]
  },
  {
   "cell_type": "code",
   "execution_count": 30,
   "metadata": {
    "ExecuteTime": {
     "end_time": "2021-01-03T17:00:21.255560Z",
     "start_time": "2021-01-03T17:00:21.144854Z"
    },
    "scrolled": true
   },
   "outputs": [
    {
     "data": {
      "text/plain": [
       "<matplotlib.axes._subplots.AxesSubplot at 0x24ed3a90280>"
      ]
     },
     "execution_count": 30,
     "metadata": {},
     "output_type": "execute_result"
    },
    {
     "data": {
      "image/png": "[encoded data removed]",
      "text/plain": [
       "<Figure size 720x360 with 1 Axes>"
      ]
     },
     "metadata": {
      "needs_background": "light"
     },
     "output_type": "display_data"
    }
   ],
   "source": [
    "plt.figure(figsize=(10,5))\n",
    "sns.barplot(data=df_sa[df_sa['Q5']=='Data Scientist'].groupby(\"Q6\").count().reset_index(), x = \"Q6\", y='Q7_Part_1')"
   ]
  },
  {
   "cell_type": "code",
   "execution_count": 34,
   "metadata": {
    "ExecuteTime": {
     "end_time": "2021-01-03T17:02:45.684119Z",
     "start_time": "2021-01-03T17:02:45.545489Z"
    }
   },
   "outputs": [
    {
     "name": "stdout",
     "output_type": "stream",
     "text": [
      "works\n"
     ]
    },
    {
     "data": {
      "image/png": "[encoded data removed]",
      "text/plain": [
       "<Figure size 720x360 with 1 Axes>"
      ]
     },
     "metadata": {
      "needs_background": "light"
     },
     "output_type": "display_data"
    }
   ],
   "source": [
    "breakdown_main(df1=df_sa[df_sa['Q5']=='Data Scientist'],questionnNumber='Q7',question_dict=question_dict, percent=True)"
   ]
  },
  {
   "cell_type": "markdown",
   "metadata": {},
   "source": [
    "# Machine Learning\n",
    "Saturation of machine learning in commercial applications and how they incorporate machine learning"
   ]
  },
  {
   "cell_type": "code",
   "execution_count": 39,
   "metadata": {
    "ExecuteTime": {
     "end_time": "2021-01-03T17:05:46.397379Z",
     "start_time": "2021-01-03T17:05:46.233817Z"
    }
   },
   "outputs": [
    {
     "name": "stdout",
     "output_type": "stream",
     "text": [
      "works\n"
     ]
    },
    {
     "data": {
      "image/png": "[encoded data removed]",
      "text/plain": [
       "<Figure size 720x360 with 1 Axes>"
      ]
     },
     "metadata": {
      "needs_background": "light"
     },
     "output_type": "display_data"
    }
   ],
   "source": [
    "breakdown_main(df1=df_sa[df_sa['Q5']=='Data Scientist'],questionnNumber='Q9',question_dict=question_dict, percent=True)"
   ]
  },
  {
   "cell_type": "code",
   "execution_count": null,
   "metadata": {},
   "outputs": [],
   "source": []
  }
 ],
 "metadata": {
  "kernelspec": {
   "display_name": "Python 3",
   "language": "python",
   "name": "python3"
  },
  "language_info": {
   "codemirror_mode": {
    "name": "ipython",
    "version": 3
   },
   "file_extension": ".py",
   "mimetype": "text/x-python",
   "name": "python",
   "nbconvert_exporter": "python",
   "pygments_lexer": "ipython3",
   "version": "3.8.3"
  },
  "toc": {
   "base_numbering": 1,
   "nav_menu": {},
   "number_sections": true,
   "sideBar": true,
   "skip_h1_title": false,
   "title_cell": "Table of Contents",
   "title_sidebar": "Contents",
   "toc_cell": false,
   "toc_position": {},
   "toc_section_display": true,
   "toc_window_display": false
  }
 },
 "nbformat": 4,
 "nbformat_minor": 4
}
