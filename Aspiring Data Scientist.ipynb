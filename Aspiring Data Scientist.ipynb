{
 "cells": [
  {
   "cell_type": "markdown",
   "metadata": {
    "ExecuteTime": {
     "end_time": "2021-01-03T17:06:27.076061Z",
     "start_time": "2021-01-03T17:06:27.058109Z"
    }
   },
   "source": [
    "Data Science and Machine Learning Exploritory Analysis <br> <br>\n",
    "This notebook seeks to use a survey data from the [2020 Kaggle Machine Learning & Data Science Survey kaggle contest](https://www.kaggle.com/c/kaggle-survey-2020/overview) to find the best way to get a in the field. <br>\n",
    "\n",
    "The industry-wide survey was live for 3.5 weeks in October, and captured 20,036 responses.\n",
    "\n",
    "I am a South African / Dutch data scientist working about to start my first graduate role in data science so I would like to compare the two countries to determine which languages, environments, and machine learning libraries I should be most familiar with to be best situated to get the best data science role if I do not end up working at the company which I am will be working for after the graduate program.\n"
   ]
  },
  {
   "cell_type": "code",
   "execution_count": 1,
   "metadata": {
    "ExecuteTime": {
     "end_time": "2021-01-03T19:24:13.545679Z",
     "start_time": "2021-01-03T19:24:12.613826Z"
    }
   },
   "outputs": [],
   "source": [
    "import numpy as np\n",
    "import pandas as pd\n",
    "import matplotlib.pyplot as plt\n",
    "import seaborn as sns\n",
    "from scipy import stats\n",
    "np.random.seed(101)\n",
    "\n",
    "from helper2 import * \n",
    "#I have placed most of the code in helper functions\n",
    "# to keep the notebook clean."
   ]
  },
  {
   "cell_type": "code",
   "execution_count": 2,
   "metadata": {
    "ExecuteTime": {
     "end_time": "2021-01-03T19:24:14.129443Z",
     "start_time": "2021-01-03T19:24:13.546205Z"
    }
   },
   "outputs": [
    {
     "name": "stderr",
     "output_type": "stream",
     "text": [
      "C:\\Users\\Jonathan\\anaconda3\\lib\\site-packages\\IPython\\core\\interactiveshell.py:3071: DtypeWarning: Columns (0) have mixed types.Specify dtype option on import or set low_memory=False.\n",
      "  has_raised = await self.run_ast_nodes(code_ast.body, cell_name,\n"
     ]
    }
   ],
   "source": [
    "df = pd.read_csv('kaggle_survey_2020_responses.csv')"
   ]
  },
  {
   "cell_type": "code",
   "execution_count": 3,
   "metadata": {
    "ExecuteTime": {
     "end_time": "2021-01-03T19:24:14.161225Z",
     "start_time": "2021-01-03T19:24:14.131304Z"
    }
   },
   "outputs": [
    {
     "data": {
      "text/html": [
       "<div>\n",
       "<style scoped>\n",
       "    .dataframe tbody tr th:only-of-type {\n",
       "        vertical-align: middle;\n",
       "    }\n",
       "\n",
       "    .dataframe tbody tr th {\n",
       "        vertical-align: top;\n",
       "    }\n",
       "\n",
       "    .dataframe thead th {\n",
       "        text-align: right;\n",
       "    }\n",
       "</style>\n",
       "<table border=\"1\" class=\"dataframe\">\n",
       "  <thead>\n",
       "    <tr style=\"text-align: right;\">\n",
       "      <th></th>\n",
       "      <th>Time from Start to Finish (seconds)</th>\n",
       "      <th>Q1</th>\n",
       "      <th>Q2</th>\n",
       "      <th>Q3</th>\n",
       "      <th>Q4</th>\n",
       "      <th>Q5</th>\n",
       "      <th>Q6</th>\n",
       "      <th>Q7_Part_1</th>\n",
       "      <th>Q7_Part_2</th>\n",
       "      <th>Q7_Part_3</th>\n",
       "      <th>...</th>\n",
       "      <th>Q35_B_Part_2</th>\n",
       "      <th>Q35_B_Part_3</th>\n",
       "      <th>Q35_B_Part_4</th>\n",
       "      <th>Q35_B_Part_5</th>\n",
       "      <th>Q35_B_Part_6</th>\n",
       "      <th>Q35_B_Part_7</th>\n",
       "      <th>Q35_B_Part_8</th>\n",
       "      <th>Q35_B_Part_9</th>\n",
       "      <th>Q35_B_Part_10</th>\n",
       "      <th>Q35_B_OTHER</th>\n",
       "    </tr>\n",
       "  </thead>\n",
       "  <tbody>\n",
       "    <tr>\n",
       "      <th>0</th>\n",
       "      <td>Duration (in seconds)</td>\n",
       "      <td>What is your age (# years)?</td>\n",
       "      <td>What is your gender? - Selected Choice</td>\n",
       "      <td>In which country do you currently reside?</td>\n",
       "      <td>What is the highest level of formal education ...</td>\n",
       "      <td>Select the title most similar to your current ...</td>\n",
       "      <td>For how many years have you been writing code ...</td>\n",
       "      <td>What programming languages do you use on a reg...</td>\n",
       "      <td>What programming languages do you use on a reg...</td>\n",
       "      <td>What programming languages do you use on a reg...</td>\n",
       "      <td>...</td>\n",
       "      <td>In the next 2 years, do you hope to become mor...</td>\n",
       "      <td>In the next 2 years, do you hope to become mor...</td>\n",
       "      <td>In the next 2 years, do you hope to become mor...</td>\n",
       "      <td>In the next 2 years, do you hope to become mor...</td>\n",
       "      <td>In the next 2 years, do you hope to become mor...</td>\n",
       "      <td>In the next 2 years, do you hope to become mor...</td>\n",
       "      <td>In the next 2 years, do you hope to become mor...</td>\n",
       "      <td>In the next 2 years, do you hope to become mor...</td>\n",
       "      <td>In the next 2 years, do you hope to become mor...</td>\n",
       "      <td>In the next 2 years, do you hope to become mor...</td>\n",
       "    </tr>\n",
       "    <tr>\n",
       "      <th>1</th>\n",
       "      <td>1838</td>\n",
       "      <td>35-39</td>\n",
       "      <td>Man</td>\n",
       "      <td>Colombia</td>\n",
       "      <td>Doctoral degree</td>\n",
       "      <td>Student</td>\n",
       "      <td>5-10 years</td>\n",
       "      <td>Python</td>\n",
       "      <td>R</td>\n",
       "      <td>SQL</td>\n",
       "      <td>...</td>\n",
       "      <td>NaN</td>\n",
       "      <td>NaN</td>\n",
       "      <td>NaN</td>\n",
       "      <td>TensorBoard</td>\n",
       "      <td>NaN</td>\n",
       "      <td>NaN</td>\n",
       "      <td>NaN</td>\n",
       "      <td>NaN</td>\n",
       "      <td>NaN</td>\n",
       "      <td>NaN</td>\n",
       "    </tr>\n",
       "    <tr>\n",
       "      <th>2</th>\n",
       "      <td>289287</td>\n",
       "      <td>30-34</td>\n",
       "      <td>Man</td>\n",
       "      <td>United States of America</td>\n",
       "      <td>Master’s degree</td>\n",
       "      <td>Data Engineer</td>\n",
       "      <td>5-10 years</td>\n",
       "      <td>Python</td>\n",
       "      <td>R</td>\n",
       "      <td>SQL</td>\n",
       "      <td>...</td>\n",
       "      <td>NaN</td>\n",
       "      <td>NaN</td>\n",
       "      <td>NaN</td>\n",
       "      <td>NaN</td>\n",
       "      <td>NaN</td>\n",
       "      <td>NaN</td>\n",
       "      <td>NaN</td>\n",
       "      <td>NaN</td>\n",
       "      <td>NaN</td>\n",
       "      <td>NaN</td>\n",
       "    </tr>\n",
       "    <tr>\n",
       "      <th>3</th>\n",
       "      <td>860</td>\n",
       "      <td>35-39</td>\n",
       "      <td>Man</td>\n",
       "      <td>Argentina</td>\n",
       "      <td>Bachelor’s degree</td>\n",
       "      <td>Software Engineer</td>\n",
       "      <td>10-20 years</td>\n",
       "      <td>NaN</td>\n",
       "      <td>NaN</td>\n",
       "      <td>NaN</td>\n",
       "      <td>...</td>\n",
       "      <td>NaN</td>\n",
       "      <td>NaN</td>\n",
       "      <td>NaN</td>\n",
       "      <td>NaN</td>\n",
       "      <td>NaN</td>\n",
       "      <td>NaN</td>\n",
       "      <td>NaN</td>\n",
       "      <td>NaN</td>\n",
       "      <td>None</td>\n",
       "      <td>NaN</td>\n",
       "    </tr>\n",
       "    <tr>\n",
       "      <th>4</th>\n",
       "      <td>507</td>\n",
       "      <td>30-34</td>\n",
       "      <td>Man</td>\n",
       "      <td>United States of America</td>\n",
       "      <td>Master’s degree</td>\n",
       "      <td>Data Scientist</td>\n",
       "      <td>5-10 years</td>\n",
       "      <td>Python</td>\n",
       "      <td>NaN</td>\n",
       "      <td>SQL</td>\n",
       "      <td>...</td>\n",
       "      <td>NaN</td>\n",
       "      <td>NaN</td>\n",
       "      <td>NaN</td>\n",
       "      <td>NaN</td>\n",
       "      <td>NaN</td>\n",
       "      <td>NaN</td>\n",
       "      <td>NaN</td>\n",
       "      <td>NaN</td>\n",
       "      <td>NaN</td>\n",
       "      <td>NaN</td>\n",
       "    </tr>\n",
       "  </tbody>\n",
       "</table>\n",
       "<p>5 rows × 355 columns</p>\n",
       "</div>"
      ],
      "text/plain": [
       "  Time from Start to Finish (seconds)                           Q1  \\\n",
       "0               Duration (in seconds)  What is your age (# years)?   \n",
       "1                                1838                        35-39   \n",
       "2                              289287                        30-34   \n",
       "3                                 860                        35-39   \n",
       "4                                 507                        30-34   \n",
       "\n",
       "                                       Q2  \\\n",
       "0  What is your gender? - Selected Choice   \n",
       "1                                     Man   \n",
       "2                                     Man   \n",
       "3                                     Man   \n",
       "4                                     Man   \n",
       "\n",
       "                                          Q3  \\\n",
       "0  In which country do you currently reside?   \n",
       "1                                   Colombia   \n",
       "2                   United States of America   \n",
       "3                                  Argentina   \n",
       "4                   United States of America   \n",
       "\n",
       "                                                  Q4  \\\n",
       "0  What is the highest level of formal education ...   \n",
       "1                                    Doctoral degree   \n",
       "2                                    Master’s degree   \n",
       "3                                  Bachelor’s degree   \n",
       "4                                    Master’s degree   \n",
       "\n",
       "                                                  Q5  \\\n",
       "0  Select the title most similar to your current ...   \n",
       "1                                            Student   \n",
       "2                                      Data Engineer   \n",
       "3                                  Software Engineer   \n",
       "4                                     Data Scientist   \n",
       "\n",
       "                                                  Q6  \\\n",
       "0  For how many years have you been writing code ...   \n",
       "1                                         5-10 years   \n",
       "2                                         5-10 years   \n",
       "3                                        10-20 years   \n",
       "4                                         5-10 years   \n",
       "\n",
       "                                           Q7_Part_1  \\\n",
       "0  What programming languages do you use on a reg...   \n",
       "1                                             Python   \n",
       "2                                             Python   \n",
       "3                                                NaN   \n",
       "4                                             Python   \n",
       "\n",
       "                                           Q7_Part_2  \\\n",
       "0  What programming languages do you use on a reg...   \n",
       "1                                                  R   \n",
       "2                                                  R   \n",
       "3                                                NaN   \n",
       "4                                                NaN   \n",
       "\n",
       "                                           Q7_Part_3  ...  \\\n",
       "0  What programming languages do you use on a reg...  ...   \n",
       "1                                                SQL  ...   \n",
       "2                                                SQL  ...   \n",
       "3                                                NaN  ...   \n",
       "4                                                SQL  ...   \n",
       "\n",
       "                                        Q35_B_Part_2  \\\n",
       "0  In the next 2 years, do you hope to become mor...   \n",
       "1                                                NaN   \n",
       "2                                                NaN   \n",
       "3                                                NaN   \n",
       "4                                                NaN   \n",
       "\n",
       "                                        Q35_B_Part_3  \\\n",
       "0  In the next 2 years, do you hope to become mor...   \n",
       "1                                                NaN   \n",
       "2                                                NaN   \n",
       "3                                                NaN   \n",
       "4                                                NaN   \n",
       "\n",
       "                                        Q35_B_Part_4  \\\n",
       "0  In the next 2 years, do you hope to become mor...   \n",
       "1                                                NaN   \n",
       "2                                                NaN   \n",
       "3                                                NaN   \n",
       "4                                                NaN   \n",
       "\n",
       "                                        Q35_B_Part_5  \\\n",
       "0  In the next 2 years, do you hope to become mor...   \n",
       "1                                       TensorBoard    \n",
       "2                                                NaN   \n",
       "3                                                NaN   \n",
       "4                                                NaN   \n",
       "\n",
       "                                        Q35_B_Part_6  \\\n",
       "0  In the next 2 years, do you hope to become mor...   \n",
       "1                                                NaN   \n",
       "2                                                NaN   \n",
       "3                                                NaN   \n",
       "4                                                NaN   \n",
       "\n",
       "                                        Q35_B_Part_7  \\\n",
       "0  In the next 2 years, do you hope to become mor...   \n",
       "1                                                NaN   \n",
       "2                                                NaN   \n",
       "3                                                NaN   \n",
       "4                                                NaN   \n",
       "\n",
       "                                        Q35_B_Part_8  \\\n",
       "0  In the next 2 years, do you hope to become mor...   \n",
       "1                                                NaN   \n",
       "2                                                NaN   \n",
       "3                                                NaN   \n",
       "4                                                NaN   \n",
       "\n",
       "                                        Q35_B_Part_9  \\\n",
       "0  In the next 2 years, do you hope to become mor...   \n",
       "1                                                NaN   \n",
       "2                                                NaN   \n",
       "3                                                NaN   \n",
       "4                                                NaN   \n",
       "\n",
       "                                       Q35_B_Part_10  \\\n",
       "0  In the next 2 years, do you hope to become mor...   \n",
       "1                                                NaN   \n",
       "2                                                NaN   \n",
       "3                                               None   \n",
       "4                                                NaN   \n",
       "\n",
       "                                         Q35_B_OTHER  \n",
       "0  In the next 2 years, do you hope to become mor...  \n",
       "1                                                NaN  \n",
       "2                                                NaN  \n",
       "3                                                NaN  \n",
       "4                                                NaN  \n",
       "\n",
       "[5 rows x 355 columns]"
      ]
     },
     "execution_count": 3,
     "metadata": {},
     "output_type": "execute_result"
    }
   ],
   "source": [
    "df.head()"
   ]
  },
  {
   "cell_type": "code",
   "execution_count": 150,
   "metadata": {
    "ExecuteTime": {
     "end_time": "2021-01-05T09:22:40.774905Z",
     "start_time": "2021-01-05T09:22:40.732469Z"
    }
   },
   "outputs": [
    {
     "name": "stdout",
     "output_type": "stream",
     "text": [
      "Q15  :  For how many years have you used machine learning methods?\n",
      "Q16_Part_1  :  Which of the following machine learning frameworks do you use on a regular basis? (Select all that apply) - Selected Choice -   Scikit-learn \n",
      "Q16_Part_2  :  Which of the following machine learning frameworks do you use on a regular basis? (Select all that apply) - Selected Choice -   TensorFlow \n",
      "Q16_Part_3  :  Which of the following machine learning frameworks do you use on a regular basis? (Select all that apply) - Selected Choice -  Keras \n",
      "Q16_Part_4  :  Which of the following machine learning frameworks do you use on a regular basis? (Select all that apply) - Selected Choice -  PyTorch \n",
      "Q16_Part_5  :  Which of the following machine learning frameworks do you use on a regular basis? (Select all that apply) - Selected Choice -  Fast.ai \n",
      "Q16_Part_6  :  Which of the following machine learning frameworks do you use on a regular basis? (Select all that apply) - Selected Choice -  MXNet \n",
      "Q16_Part_7  :  Which of the following machine learning frameworks do you use on a regular basis? (Select all that apply) - Selected Choice -  Xgboost \n",
      "Q16_Part_8  :  Which of the following machine learning frameworks do you use on a regular basis? (Select all that apply) - Selected Choice -  LightGBM \n",
      "Q16_Part_9  :  Which of the following machine learning frameworks do you use on a regular basis? (Select all that apply) - Selected Choice -  CatBoost \n",
      "Q16_Part_10  :  Which of the following machine learning frameworks do you use on a regular basis? (Select all that apply) - Selected Choice -  Prophet \n",
      "Q16_Part_11  :  Which of the following machine learning frameworks do you use on a regular basis? (Select all that apply) - Selected Choice -  H2O 3 \n",
      "Q16_Part_12  :  Which of the following machine learning frameworks do you use on a regular basis? (Select all that apply) - Selected Choice -  Caret \n",
      "Q16_Part_13  :  Which of the following machine learning frameworks do you use on a regular basis? (Select all that apply) - Selected Choice -  Tidymodels \n",
      "Q16_Part_14  :  Which of the following machine learning frameworks do you use on a regular basis? (Select all that apply) - Selected Choice -  JAX \n",
      "Q16_Part_15  :  Which of the following machine learning frameworks do you use on a regular basis? (Select all that apply) - Selected Choice - None\n",
      "Q16_OTHER  :  Which of the following machine learning frameworks do you use on a regular basis? (Select all that apply) - Selected Choice - Other\n",
      "Q22  :  Does your current employer incorporate machine learning methods into their business?\n",
      "Q23_Part_3  :  Select any activities that make up an important part of your role at work: (Select all that apply) - Selected Choice - Build prototypes to explore applying machine learning to new areas\n",
      "Q23_Part_4  :  Select any activities that make up an important part of your role at work: (Select all that apply) - Selected Choice - Build and/or run a machine learning service that operationally improves my product or workflows\n",
      "Q23_Part_6  :  Select any activities that make up an important part of your role at work: (Select all that apply) - Selected Choice - Do research that advances the state of the art of machine learning\n",
      "Q25  :  Approximately how much money have you (or your team) spent on machine learning and/or cloud computing services at home (or at work) in the past 5 years (approximate $USD)?\n",
      "Q28_A_Part_1  :  Do you use any of the following machine learning products on a regular basis? (Select all that apply) - Selected Choice -  Amazon SageMaker \n",
      "Q28_A_Part_2  :  Do you use any of the following machine learning products on a regular basis? (Select all that apply) - Selected Choice -  Amazon Forecast \n",
      "Q28_A_Part_3  :  Do you use any of the following machine learning products on a regular basis? (Select all that apply) - Selected Choice -  Amazon Rekognition \n",
      "Q28_A_Part_4  :  Do you use any of the following machine learning products on a regular basis? (Select all that apply) - Selected Choice -  Azure Machine Learning Studio \n",
      "Q28_A_Part_5  :  Do you use any of the following machine learning products on a regular basis? (Select all that apply) - Selected Choice -  Azure Cognitive Services \n",
      "Q28_A_Part_6  :  Do you use any of the following machine learning products on a regular basis? (Select all that apply) - Selected Choice -  Google Cloud AI Platform / Google Cloud ML Engine\n",
      "Q28_A_Part_7  :  Do you use any of the following machine learning products on a regular basis? (Select all that apply) - Selected Choice -  Google Cloud Video AI \n",
      "Q28_A_Part_8  :  Do you use any of the following machine learning products on a regular basis? (Select all that apply) - Selected Choice -  Google Cloud Natural Language \n",
      "Q28_A_Part_9  :  Do you use any of the following machine learning products on a regular basis? (Select all that apply) - Selected Choice -  Google Cloud Vision AI \n",
      "Q28_A_Part_10  :  Do you use any of the following machine learning products on a regular basis? (Select all that apply) - Selected Choice - No / None\n",
      "Q28_A_OTHER  :  Do you use any of the following machine learning products on a regular basis? (Select all that apply) - Selected Choice - Other\n",
      "Q33_A_Part_1  :  Do you use any automated machine learning tools (or partial AutoML tools) on a regular basis?  (Select all that apply) - Selected Choice - Automated data augmentation (e.g. imgaug, albumentations)\n",
      "Q33_A_Part_2  :  Do you use any automated machine learning tools (or partial AutoML tools) on a regular basis?  (Select all that apply) - Selected Choice - Automated feature engineering/selection (e.g. tpot, boruta_py)\n",
      "Q33_A_Part_3  :  Do you use any automated machine learning tools (or partial AutoML tools) on a regular basis?  (Select all that apply) - Selected Choice - Automated model selection (e.g. auto-sklearn, xcessiv)\n",
      "Q33_A_Part_4  :  Do you use any automated machine learning tools (or partial AutoML tools) on a regular basis?  (Select all that apply) - Selected Choice - Automated model architecture searches (e.g. darts, enas)\n",
      "Q33_A_Part_5  :  Do you use any automated machine learning tools (or partial AutoML tools) on a regular basis?  (Select all that apply) - Selected Choice - Automated hyperparameter tuning (e.g. hyperopt, ray.tune, Vizier)\n",
      "Q33_A_Part_6  :  Do you use any automated machine learning tools (or partial AutoML tools) on a regular basis?  (Select all that apply) - Selected Choice - Automation of full ML pipelines (e.g. Google AutoML, H20 Driverless AI)\n",
      "Q33_A_Part_7  :  Do you use any automated machine learning tools (or partial AutoML tools) on a regular basis?  (Select all that apply) - Selected Choice - No / None\n",
      "Q33_A_OTHER  :  Do you use any automated machine learning tools (or partial AutoML tools) on a regular basis?  (Select all that apply) - Selected Choice - Other\n",
      "Q34_A_Part_1  :  Which of the following automated machine learning tools (or partial AutoML tools) do you use on a regular basis?  (Select all that apply) - Selected Choice -  Google Cloud AutoML \n",
      "Q34_A_Part_2  :  Which of the following automated machine learning tools (or partial AutoML tools) do you use on a regular basis?  (Select all that apply) - Selected Choice -  H20 Driverless AI  \n",
      "Q34_A_Part_3  :  Which of the following automated machine learning tools (or partial AutoML tools) do you use on a regular basis?  (Select all that apply) - Selected Choice -  Databricks AutoML \n",
      "Q34_A_Part_4  :  Which of the following automated machine learning tools (or partial AutoML tools) do you use on a regular basis?  (Select all that apply) - Selected Choice -  DataRobot AutoML \n",
      "Q34_A_Part_5  :  Which of the following automated machine learning tools (or partial AutoML tools) do you use on a regular basis?  (Select all that apply) - Selected Choice -   Tpot \n",
      "Q34_A_Part_6  :  Which of the following automated machine learning tools (or partial AutoML tools) do you use on a regular basis?  (Select all that apply) - Selected Choice -   Auto-Keras \n",
      "Q34_A_Part_7  :  Which of the following automated machine learning tools (or partial AutoML tools) do you use on a regular basis?  (Select all that apply) - Selected Choice -   Auto-Sklearn \n",
      "Q34_A_Part_8  :  Which of the following automated machine learning tools (or partial AutoML tools) do you use on a regular basis?  (Select all that apply) - Selected Choice -   Auto_ml \n",
      "Q34_A_Part_9  :  Which of the following automated machine learning tools (or partial AutoML tools) do you use on a regular basis?  (Select all that apply) - Selected Choice -   Xcessiv \n",
      "Q34_A_Part_10  :  Which of the following automated machine learning tools (or partial AutoML tools) do you use on a regular basis?  (Select all that apply) - Selected Choice -   MLbox \n",
      "Q34_A_Part_11  :  Which of the following automated machine learning tools (or partial AutoML tools) do you use on a regular basis?  (Select all that apply) - Selected Choice - No / None\n",
      "Q34_A_OTHER  :  Which of the following automated machine learning tools (or partial AutoML tools) do you use on a regular basis?  (Select all that apply) - Selected Choice - Other\n",
      "Q35_A_Part_1  :  Do you use any tools to help manage machine learning experiments? (Select all that apply) - Selected Choice -  Neptune.ai \n",
      "Q35_A_Part_2  :  Do you use any tools to help manage machine learning experiments? (Select all that apply) - Selected Choice -  Weights & Biases \n",
      "Q35_A_Part_3  :  Do you use any tools to help manage machine learning experiments? (Select all that apply) - Selected Choice -  Comet.ml \n",
      "Q35_A_Part_4  :  Do you use any tools to help manage machine learning experiments? (Select all that apply) - Selected Choice -  Sacred + Omniboard \n",
      "Q35_A_Part_5  :  Do you use any tools to help manage machine learning experiments? (Select all that apply) - Selected Choice -  TensorBoard \n",
      "Q35_A_Part_6  :  Do you use any tools to help manage machine learning experiments? (Select all that apply) - Selected Choice -  Guild.ai \n",
      "Q35_A_Part_7  :  Do you use any tools to help manage machine learning experiments? (Select all that apply) - Selected Choice -  Polyaxon \n",
      "Q35_A_Part_8  :  Do you use any tools to help manage machine learning experiments? (Select all that apply) - Selected Choice -  Trains \n",
      "Q35_A_Part_9  :  Do you use any tools to help manage machine learning experiments? (Select all that apply) - Selected Choice -  Domino Model Monitor \n",
      "Q35_A_Part_10  :  Do you use any tools to help manage machine learning experiments? (Select all that apply) - Selected Choice - No / None\n",
      "Q35_A_OTHER  :  Do you use any tools to help manage machine learning experiments? (Select all that apply) - Selected Choice - Other\n",
      "Q36_Part_1  :  Where do you publicly share or deploy your data analysis or machine learning applications? (Select all that apply) - Selected Choice -  Plotly Dash \n",
      "Q36_Part_2  :  Where do you publicly share or deploy your data analysis or machine learning applications? (Select all that apply) - Selected Choice -  Streamlit \n",
      "Q36_Part_3  :  Where do you publicly share or deploy your data analysis or machine learning applications? (Select all that apply) - Selected Choice -  NBViewer \n",
      "Q36_Part_4  :  Where do you publicly share or deploy your data analysis or machine learning applications? (Select all that apply) - Selected Choice -  GitHub \n",
      "Q36_Part_5  :  Where do you publicly share or deploy your data analysis or machine learning applications? (Select all that apply) - Selected Choice -  Personal blog \n",
      "Q36_Part_6  :  Where do you publicly share or deploy your data analysis or machine learning applications? (Select all that apply) - Selected Choice -  Kaggle \n",
      "Q36_Part_7  :  Where do you publicly share or deploy your data analysis or machine learning applications? (Select all that apply) - Selected Choice -  Colab \n",
      "Q36_Part_8  :  Where do you publicly share or deploy your data analysis or machine learning applications? (Select all that apply) - Selected Choice -  Shiny \n",
      "Q36_Part_9  :  Where do you publicly share or deploy your data analysis or machine learning applications? (Select all that apply) - Selected Choice - I do not share my work publicly\n",
      "Q36_OTHER  :  Where do you publicly share or deploy your data analysis or machine learning applications? (Select all that apply) - Selected Choice - Other\n",
      "Q28_B_Part_1  :  In the next 2 years, do you hope to become more familiar with any of these specific machine learning products? (Select all that apply) - Selected Choice -  Amazon SageMaker \n",
      "Q28_B_Part_2  :  In the next 2 years, do you hope to become more familiar with any of these specific machine learning products? (Select all that apply) - Selected Choice -  Amazon Forecast \n",
      "Q28_B_Part_3  :  In the next 2 years, do you hope to become more familiar with any of these specific machine learning products? (Select all that apply) - Selected Choice -  Amazon Rekognition \n",
      "Q28_B_Part_4  :  In the next 2 years, do you hope to become more familiar with any of these specific machine learning products? (Select all that apply) - Selected Choice -  Azure Machine Learning Studio \n",
      "Q28_B_Part_5  :  In the next 2 years, do you hope to become more familiar with any of these specific machine learning products? (Select all that apply) - Selected Choice -  Azure Cognitive Services \n",
      "Q28_B_Part_6  :  In the next 2 years, do you hope to become more familiar with any of these specific machine learning products? (Select all that apply) - Selected Choice -  Google Cloud AI Platform / Google Cloud ML Engine\n",
      "Q28_B_Part_7  :  In the next 2 years, do you hope to become more familiar with any of these specific machine learning products? (Select all that apply) - Selected Choice -  Google Cloud Video AI \n",
      "Q28_B_Part_8  :  In the next 2 years, do you hope to become more familiar with any of these specific machine learning products? (Select all that apply) - Selected Choice -  Google Cloud Natural Language \n",
      "Q28_B_Part_9  :  In the next 2 years, do you hope to become more familiar with any of these specific machine learning products? (Select all that apply) - Selected Choice -  Google Cloud Vision AI \n",
      "Q28_B_Part_10  :  In the next 2 years, do you hope to become more familiar with any of these specific machine learning products? (Select all that apply) - Selected Choice - None\n",
      "Q28_B_OTHER  :  In the next 2 years, do you hope to become more familiar with any of these specific machine learning products? (Select all that apply) - Selected Choice - Other\n",
      "Q33_B_Part_1  :  Which categories of automated machine learning tools (or partial AutoML tools) do you hope to become more familiar with in the next 2 years?  (Select all that apply) - Selected Choice - Automated data augmentation (e.g. imgaug, albumentations)\n",
      "Q33_B_Part_2  :  Which categories of automated machine learning tools (or partial AutoML tools) do you hope to become more familiar with in the next 2 years?  (Select all that apply) - Selected Choice - Automated feature engineering/selection (e.g. tpot, boruta_py)\n",
      "Q33_B_Part_3  :  Which categories of automated machine learning tools (or partial AutoML tools) do you hope to become more familiar with in the next 2 years?  (Select all that apply) - Selected Choice - Automated model selection (e.g. auto-sklearn, xcessiv)\n",
      "Q33_B_Part_4  :  Which categories of automated machine learning tools (or partial AutoML tools) do you hope to become more familiar with in the next 2 years?  (Select all that apply) - Selected Choice - Automated model architecture searches (e.g. darts, enas)\n",
      "Q33_B_Part_5  :  Which categories of automated machine learning tools (or partial AutoML tools) do you hope to become more familiar with in the next 2 years?  (Select all that apply) - Selected Choice - Automated hyperparameter tuning (e.g. hyperopt, ray.tune, Vizier)\n",
      "Q33_B_Part_6  :  Which categories of automated machine learning tools (or partial AutoML tools) do you hope to become more familiar with in the next 2 years?  (Select all that apply) - Selected Choice - Automation of full ML pipelines (e.g. Google Cloud AutoML, H20 Driverless AI)\n",
      "Q33_B_Part_7  :  Which categories of automated machine learning tools (or partial AutoML tools) do you hope to become more familiar with in the next 2 years?  (Select all that apply) - Selected Choice - None\n",
      "Q33_B_OTHER  :  Which categories of automated machine learning tools (or partial AutoML tools) do you hope to become more familiar with in the next 2 years?  (Select all that apply) - Selected Choice - Other\n",
      "Q34_B_Part_1  :  Which specific automated machine learning tools (or partial AutoML tools) do you hope to become more familiar with in the next 2 years?  (Select all that apply) - Selected Choice -  Google Cloud AutoML \n",
      "Q34_B_Part_2  :  Which specific automated machine learning tools (or partial AutoML tools) do you hope to become more familiar with in the next 2 years?  (Select all that apply) - Selected Choice -  H20 Driverless AI  \n",
      "Q34_B_Part_3  :  Which specific automated machine learning tools (or partial AutoML tools) do you hope to become more familiar with in the next 2 years?  (Select all that apply) - Selected Choice -  Databricks AutoML \n",
      "Q34_B_Part_4  :  Which specific automated machine learning tools (or partial AutoML tools) do you hope to become more familiar with in the next 2 years?  (Select all that apply) - Selected Choice -  DataRobot AutoML \n",
      "Q34_B_Part_5  :  Which specific automated machine learning tools (or partial AutoML tools) do you hope to become more familiar with in the next 2 years?  (Select all that apply) - Selected Choice -   Tpot \n",
      "Q34_B_Part_6  :  Which specific automated machine learning tools (or partial AutoML tools) do you hope to become more familiar with in the next 2 years?  (Select all that apply) - Selected Choice -   Auto-Keras \n",
      "Q34_B_Part_7  :  Which specific automated machine learning tools (or partial AutoML tools) do you hope to become more familiar with in the next 2 years?  (Select all that apply) - Selected Choice -   Auto-Sklearn \n",
      "Q34_B_Part_8  :  Which specific automated machine learning tools (or partial AutoML tools) do you hope to become more familiar with in the next 2 years?  (Select all that apply) - Selected Choice -   Auto_ml \n",
      "Q34_B_Part_9  :  Which specific automated machine learning tools (or partial AutoML tools) do you hope to become more familiar with in the next 2 years?  (Select all that apply) - Selected Choice -   Xcessiv \n",
      "Q34_B_Part_10  :  Which specific automated machine learning tools (or partial AutoML tools) do you hope to become more familiar with in the next 2 years?  (Select all that apply) - Selected Choice -   MLbox \n",
      "Q34_B_Part_11  :  Which specific automated machine learning tools (or partial AutoML tools) do you hope to become more familiar with in the next 2 years?  (Select all that apply) - Selected Choice - None\n",
      "Q34_B_OTHER  :  Which specific automated machine learning tools (or partial AutoML tools) do you hope to become more familiar with in the next 2 years?  (Select all that apply) - Selected Choice - Other\n"
     ]
    }
   ],
   "source": [
    "for col, i in zip(df.columns,range(df.shape[1])):\n",
    "    #print(col,\" : \",df.iloc[0, i])\n",
    "    for x in df.iloc[0, i].split(' '):\n",
    "        if x.lower() == 'machine':\n",
    "            print(col,\" : \",df.iloc[0, i])\n",
    "            break"
   ]
  },
  {
   "cell_type": "markdown",
   "metadata": {},
   "source": [
    "# Popular languages\n",
    "\n",
    "## Overall"
   ]
  },
  {
   "cell_type": "code",
   "execution_count": 5,
   "metadata": {
    "ExecuteTime": {
     "end_time": "2021-01-03T19:24:14.254012Z",
     "start_time": "2021-01-03T19:24:14.240014Z"
    }
   },
   "outputs": [],
   "source": [
    "question_dict = {}\n",
    "\n",
    "for x in df.columns:\n",
    "    question_dict[x] = df.loc[0,x]"
   ]
  },
  {
   "cell_type": "code",
   "execution_count": 6,
   "metadata": {
    "ExecuteTime": {
     "end_time": "2021-01-03T19:24:14.444500Z",
     "start_time": "2021-01-03T19:24:14.255971Z"
    },
    "scrolled": true
   },
   "outputs": [
    {
     "name": "stdout",
     "output_type": "stream",
     "text": [
      "works\n"
     ]
    },
    {
     "data": {
      "image/png": "[encoded data removed]",
      "text/plain": [
       "<Figure size 720x360 with 1 Axes>"
      ]
     },
     "metadata": {
      "needs_background": "light"
     },
     "output_type": "display_data"
    }
   ],
   "source": [
    "breakdown_main(df1=df[df['Q5']=='Data Scientist'],questionnNumber='Q7',question_dict=question_dict, percent=True)"
   ]
  },
  {
   "cell_type": "markdown",
   "metadata": {},
   "source": [
    "## South Africa"
   ]
  },
  {
   "cell_type": "code",
   "execution_count": 7,
   "metadata": {
    "ExecuteTime": {
     "end_time": "2021-01-03T19:24:14.460426Z",
     "start_time": "2021-01-03T19:24:14.446463Z"
    }
   },
   "outputs": [],
   "source": [
    "df_sa =  df[df['Q3']=='South Africa']"
   ]
  },
  {
   "cell_type": "code",
   "execution_count": 8,
   "metadata": {
    "ExecuteTime": {
     "end_time": "2021-01-03T19:24:14.476381Z",
     "start_time": "2021-01-03T19:24:14.462451Z"
    }
   },
   "outputs": [
    {
     "data": {
      "text/plain": [
       "24"
      ]
     },
     "execution_count": 8,
     "metadata": {},
     "output_type": "execute_result"
    }
   ],
   "source": [
    "df_sa[df_sa['Q5']=='Data Scientist']['Q7_Part_1'].count()"
   ]
  },
  {
   "cell_type": "code",
   "execution_count": 9,
   "metadata": {
    "ExecuteTime": {
     "end_time": "2021-01-03T19:24:14.491342Z",
     "start_time": "2021-01-03T19:24:14.478378Z"
    }
   },
   "outputs": [
    {
     "data": {
      "text/plain": [
       "141"
      ]
     },
     "execution_count": 9,
     "metadata": {},
     "output_type": "execute_result"
    }
   ],
   "source": [
    "df_sa.shape[0]"
   ]
  },
  {
   "cell_type": "code",
   "execution_count": 10,
   "metadata": {
    "ExecuteTime": {
     "end_time": "2021-01-03T19:24:14.507323Z",
     "start_time": "2021-01-03T19:24:14.492380Z"
    }
   },
   "outputs": [
    {
     "data": {
      "text/plain": [
       "1.0"
      ]
     },
     "execution_count": 10,
     "metadata": {},
     "output_type": "execute_result"
    }
   ],
   "source": [
    "df_sa[df_sa['Q5']=='Data Scientist']['Q7_Part_1'].count()/df_sa[df_sa['Q5']=='Data Scientist'].shape[0]"
   ]
  },
  {
   "cell_type": "code",
   "execution_count": 11,
   "metadata": {
    "ExecuteTime": {
     "end_time": "2021-01-03T19:24:14.650282Z",
     "start_time": "2021-01-03T19:24:14.508297Z"
    },
    "scrolled": false
   },
   "outputs": [
    {
     "name": "stdout",
     "output_type": "stream",
     "text": [
      "works\n"
     ]
    },
    {
     "data": {
      "image/png": "[encoded data removed]",
      "text/plain": [
       "<Figure size 720x360 with 1 Axes>"
      ]
     },
     "metadata": {
      "needs_background": "light"
     },
     "output_type": "display_data"
    }
   ],
   "source": [
    "breakdown_main(df1=df_sa[df_sa['Q5']=='Data Scientist'],questionnNumber='Q7',question_dict=question_dict, percent=True)"
   ]
  },
  {
   "cell_type": "markdown",
   "metadata": {
    "ExecuteTime": {
     "end_time": "2021-01-03T17:33:31.356240Z",
     "start_time": "2021-01-03T17:33:31.348237Z"
    }
   },
   "source": [
    "## Netherlands"
   ]
  },
  {
   "cell_type": "code",
   "execution_count": 12,
   "metadata": {
    "ExecuteTime": {
     "end_time": "2021-01-03T19:24:14.666038Z",
     "start_time": "2021-01-03T19:24:14.653280Z"
    }
   },
   "outputs": [],
   "source": [
    "df_nl =  df[df['Q3']=='Netherlands']"
   ]
  },
  {
   "cell_type": "code",
   "execution_count": 13,
   "metadata": {
    "ExecuteTime": {
     "end_time": "2021-01-03T19:24:14.682067Z",
     "start_time": "2021-01-03T19:24:14.667035Z"
    }
   },
   "outputs": [
    {
     "data": {
      "text/plain": [
       "0.9142857142857143"
      ]
     },
     "execution_count": 13,
     "metadata": {},
     "output_type": "execute_result"
    }
   ],
   "source": [
    "df_nl[df_nl['Q5']=='Data Scientist']['Q7_Part_1'].count()/df_nl[df_nl['Q5']=='Data Scientist'].shape[0]"
   ]
  },
  {
   "cell_type": "code",
   "execution_count": 14,
   "metadata": {
    "ExecuteTime": {
     "end_time": "2021-01-03T19:24:14.698166Z",
     "start_time": "2021-01-03T19:24:14.683043Z"
    }
   },
   "outputs": [
    {
     "data": {
      "text/plain": [
       "151"
      ]
     },
     "execution_count": 14,
     "metadata": {},
     "output_type": "execute_result"
    }
   ],
   "source": [
    "df_nl.shape[0]"
   ]
  },
  {
   "cell_type": "code",
   "execution_count": 15,
   "metadata": {
    "ExecuteTime": {
     "end_time": "2021-01-03T19:24:14.838792Z",
     "start_time": "2021-01-03T19:24:14.700163Z"
    },
    "scrolled": false
   },
   "outputs": [
    {
     "name": "stdout",
     "output_type": "stream",
     "text": [
      "works\n"
     ]
    },
    {
     "data": {
      "image/png": "[encoded data removed]",
      "text/plain": [
       "<Figure size 720x360 with 1 Axes>"
      ]
     },
     "metadata": {
      "needs_background": "light"
     },
     "output_type": "display_data"
    }
   ],
   "source": [
    "breakdown_main(df1=df_nl[df_nl['Q5']=='Data Scientist'],questionnNumber='Q7',question_dict=question_dict, percent=True)"
   ]
  },
  {
   "cell_type": "code",
   "execution_count": 26,
   "metadata": {
    "ExecuteTime": {
     "end_time": "2021-01-03T19:28:33.710123Z",
     "start_time": "2021-01-03T19:28:33.645470Z"
    },
    "scrolled": true
   },
   "outputs": [],
   "source": [
    "df_ds_exp = df[df['Q5']=='Data Scientist'].groupby(\"Q6\").count()\n"
   ]
  },
  {
   "cell_type": "code",
   "execution_count": 71,
   "metadata": {
    "ExecuteTime": {
     "end_time": "2021-01-03T20:09:41.548700Z",
     "start_time": "2021-01-03T20:09:41.529776Z"
    }
   },
   "outputs": [],
   "source": [
    "list_of_question = []\n",
    "list_of_languages = []\n",
    "for x in df_ds_exp.columns:\n",
    "        if x[0:2] == 'Q7':\n",
    "            list_of_question.append(x)\n",
    "            list_of_languages.append(question_dict[x].split(\" - \")[-1])"
   ]
  },
  {
   "cell_type": "code",
   "execution_count": 72,
   "metadata": {
    "ExecuteTime": {
     "end_time": "2021-01-03T20:09:49.110798Z",
     "start_time": "2021-01-03T20:09:49.104814Z"
    }
   },
   "outputs": [
    {
     "data": {
      "text/plain": [
       "['Q7_Part_1',\n",
       " 'Q7_Part_2',\n",
       " 'Q7_Part_3',\n",
       " 'Q7_Part_4',\n",
       " 'Q7_Part_5',\n",
       " 'Q7_Part_6',\n",
       " 'Q7_Part_7',\n",
       " 'Q7_Part_8',\n",
       " 'Q7_Part_9',\n",
       " 'Q7_Part_10',\n",
       " 'Q7_Part_11',\n",
       " 'Q7_Part_12',\n",
       " 'Q7_OTHER']"
      ]
     },
     "execution_count": 72,
     "metadata": {},
     "output_type": "execute_result"
    }
   ],
   "source": [
    "list_of_question"
   ]
  },
  {
   "cell_type": "code",
   "execution_count": 73,
   "metadata": {
    "ExecuteTime": {
     "end_time": "2021-01-03T20:09:51.594221Z",
     "start_time": "2021-01-03T20:09:51.577266Z"
    }
   },
   "outputs": [],
   "source": [
    "df_ds_exp_small = pd.DataFrame()\n",
    "for x in list_of_question:\n",
    "    \n",
    "    df_ds_exp_small[f'{question_dict[x].split(\" - \")[-1]}'] = df_ds_exp[x]/df_ds_exp['Q1']"
   ]
  },
  {
   "cell_type": "code",
   "execution_count": 95,
   "metadata": {
    "ExecuteTime": {
     "end_time": "2021-01-03T20:41:20.723253Z",
     "start_time": "2021-01-03T20:41:20.698342Z"
    }
   },
   "outputs": [
    {
     "data": {
      "text/html": [
       "<div>\n",
       "<style scoped>\n",
       "    .dataframe tbody tr th:only-of-type {\n",
       "        vertical-align: middle;\n",
       "    }\n",
       "\n",
       "    .dataframe tbody tr th {\n",
       "        vertical-align: top;\n",
       "    }\n",
       "\n",
       "    .dataframe thead th {\n",
       "        text-align: right;\n",
       "    }\n",
       "</style>\n",
       "<table border=\"1\" class=\"dataframe\">\n",
       "  <thead>\n",
       "    <tr style=\"text-align: right;\">\n",
       "      <th></th>\n",
       "      <th>Time from Start to Finish (seconds)</th>\n",
       "      <th>Q1</th>\n",
       "      <th>Q2</th>\n",
       "      <th>Q3</th>\n",
       "      <th>Q4</th>\n",
       "      <th>Q5</th>\n",
       "      <th>Q7_Part_1</th>\n",
       "      <th>Q7_Part_2</th>\n",
       "      <th>Q7_Part_3</th>\n",
       "      <th>Q7_Part_4</th>\n",
       "      <th>...</th>\n",
       "      <th>C</th>\n",
       "      <th>C++</th>\n",
       "      <th>Java</th>\n",
       "      <th>Javascript</th>\n",
       "      <th>Julia</th>\n",
       "      <th>Swift</th>\n",
       "      <th>Bash</th>\n",
       "      <th>MATLAB</th>\n",
       "      <th>None</th>\n",
       "      <th>Other</th>\n",
       "    </tr>\n",
       "    <tr>\n",
       "      <th>Q6</th>\n",
       "      <th></th>\n",
       "      <th></th>\n",
       "      <th></th>\n",
       "      <th></th>\n",
       "      <th></th>\n",
       "      <th></th>\n",
       "      <th></th>\n",
       "      <th></th>\n",
       "      <th></th>\n",
       "      <th></th>\n",
       "      <th></th>\n",
       "      <th></th>\n",
       "      <th></th>\n",
       "      <th></th>\n",
       "      <th></th>\n",
       "      <th></th>\n",
       "      <th></th>\n",
       "      <th></th>\n",
       "      <th></th>\n",
       "      <th></th>\n",
       "      <th></th>\n",
       "    </tr>\n",
       "  </thead>\n",
       "  <tbody>\n",
       "    <tr>\n",
       "      <th>1-2 years</th>\n",
       "      <td>460</td>\n",
       "      <td>460</td>\n",
       "      <td>460</td>\n",
       "      <td>460</td>\n",
       "      <td>460</td>\n",
       "      <td>460</td>\n",
       "      <td>446</td>\n",
       "      <td>142</td>\n",
       "      <td>208</td>\n",
       "      <td>45</td>\n",
       "      <td>...</td>\n",
       "      <td>0.097826</td>\n",
       "      <td>0.134783</td>\n",
       "      <td>0.119565</td>\n",
       "      <td>0.086957</td>\n",
       "      <td>0.013043</td>\n",
       "      <td>0.000000</td>\n",
       "      <td>0.056522</td>\n",
       "      <td>0.089130</td>\n",
       "      <td>0.000000</td>\n",
       "      <td>0.052174</td>\n",
       "    </tr>\n",
       "    <tr>\n",
       "      <th>10-20 years</th>\n",
       "      <td>355</td>\n",
       "      <td>355</td>\n",
       "      <td>355</td>\n",
       "      <td>355</td>\n",
       "      <td>355</td>\n",
       "      <td>355</td>\n",
       "      <td>329</td>\n",
       "      <td>162</td>\n",
       "      <td>229</td>\n",
       "      <td>36</td>\n",
       "      <td>...</td>\n",
       "      <td>0.101408</td>\n",
       "      <td>0.115493</td>\n",
       "      <td>0.123944</td>\n",
       "      <td>0.135211</td>\n",
       "      <td>0.053521</td>\n",
       "      <td>0.008451</td>\n",
       "      <td>0.273239</td>\n",
       "      <td>0.107042</td>\n",
       "      <td>0.002817</td>\n",
       "      <td>0.146479</td>\n",
       "    </tr>\n",
       "    <tr>\n",
       "      <th>20+ years</th>\n",
       "      <td>223</td>\n",
       "      <td>223</td>\n",
       "      <td>223</td>\n",
       "      <td>223</td>\n",
       "      <td>223</td>\n",
       "      <td>223</td>\n",
       "      <td>191</td>\n",
       "      <td>111</td>\n",
       "      <td>143</td>\n",
       "      <td>36</td>\n",
       "      <td>...</td>\n",
       "      <td>0.161435</td>\n",
       "      <td>0.161435</td>\n",
       "      <td>0.183857</td>\n",
       "      <td>0.183857</td>\n",
       "      <td>0.071749</td>\n",
       "      <td>0.013453</td>\n",
       "      <td>0.219731</td>\n",
       "      <td>0.107623</td>\n",
       "      <td>0.008969</td>\n",
       "      <td>0.242152</td>\n",
       "    </tr>\n",
       "    <tr>\n",
       "      <th>3-5 years</th>\n",
       "      <td>743</td>\n",
       "      <td>743</td>\n",
       "      <td>743</td>\n",
       "      <td>743</td>\n",
       "      <td>743</td>\n",
       "      <td>743</td>\n",
       "      <td>706</td>\n",
       "      <td>254</td>\n",
       "      <td>410</td>\n",
       "      <td>61</td>\n",
       "      <td>...</td>\n",
       "      <td>0.082100</td>\n",
       "      <td>0.127860</td>\n",
       "      <td>0.129206</td>\n",
       "      <td>0.110363</td>\n",
       "      <td>0.018843</td>\n",
       "      <td>0.004038</td>\n",
       "      <td>0.135935</td>\n",
       "      <td>0.095559</td>\n",
       "      <td>0.002692</td>\n",
       "      <td>0.067295</td>\n",
       "    </tr>\n",
       "    <tr>\n",
       "      <th>5-10 years</th>\n",
       "      <td>584</td>\n",
       "      <td>584</td>\n",
       "      <td>584</td>\n",
       "      <td>584</td>\n",
       "      <td>584</td>\n",
       "      <td>584</td>\n",
       "      <td>544</td>\n",
       "      <td>243</td>\n",
       "      <td>383</td>\n",
       "      <td>49</td>\n",
       "      <td>...</td>\n",
       "      <td>0.083904</td>\n",
       "      <td>0.121575</td>\n",
       "      <td>0.097603</td>\n",
       "      <td>0.107877</td>\n",
       "      <td>0.020548</td>\n",
       "      <td>0.008562</td>\n",
       "      <td>0.214041</td>\n",
       "      <td>0.082192</td>\n",
       "      <td>0.000000</td>\n",
       "      <td>0.097603</td>\n",
       "    </tr>\n",
       "    <tr>\n",
       "      <th>&lt; 1 years</th>\n",
       "      <td>247</td>\n",
       "      <td>247</td>\n",
       "      <td>247</td>\n",
       "      <td>247</td>\n",
       "      <td>247</td>\n",
       "      <td>247</td>\n",
       "      <td>237</td>\n",
       "      <td>63</td>\n",
       "      <td>100</td>\n",
       "      <td>20</td>\n",
       "      <td>...</td>\n",
       "      <td>0.080972</td>\n",
       "      <td>0.072874</td>\n",
       "      <td>0.048583</td>\n",
       "      <td>0.064777</td>\n",
       "      <td>0.016194</td>\n",
       "      <td>0.000000</td>\n",
       "      <td>0.028340</td>\n",
       "      <td>0.080972</td>\n",
       "      <td>0.000000</td>\n",
       "      <td>0.032389</td>\n",
       "    </tr>\n",
       "    <tr>\n",
       "      <th>I have never written code</th>\n",
       "      <td>47</td>\n",
       "      <td>47</td>\n",
       "      <td>47</td>\n",
       "      <td>47</td>\n",
       "      <td>47</td>\n",
       "      <td>47</td>\n",
       "      <td>0</td>\n",
       "      <td>0</td>\n",
       "      <td>0</td>\n",
       "      <td>0</td>\n",
       "      <td>...</td>\n",
       "      <td>0.000000</td>\n",
       "      <td>0.000000</td>\n",
       "      <td>0.000000</td>\n",
       "      <td>0.000000</td>\n",
       "      <td>0.000000</td>\n",
       "      <td>0.000000</td>\n",
       "      <td>0.000000</td>\n",
       "      <td>0.000000</td>\n",
       "      <td>0.000000</td>\n",
       "      <td>0.000000</td>\n",
       "    </tr>\n",
       "  </tbody>\n",
       "</table>\n",
       "<p>7 rows × 382 columns</p>\n",
       "</div>"
      ],
      "text/plain": [
       "                           Time from Start to Finish (seconds)   Q1   Q2   Q3  \\\n",
       "Q6                                                                              \n",
       "1-2 years                                                  460  460  460  460   \n",
       "10-20 years                                                355  355  355  355   \n",
       "20+ years                                                  223  223  223  223   \n",
       "3-5 years                                                  743  743  743  743   \n",
       "5-10 years                                                 584  584  584  584   \n",
       "< 1 years                                                  247  247  247  247   \n",
       "I have never written code                                   47   47   47   47   \n",
       "\n",
       "                            Q4   Q5  Q7_Part_1  Q7_Part_2  Q7_Part_3  \\\n",
       "Q6                                                                     \n",
       "1-2 years                  460  460        446        142        208   \n",
       "10-20 years                355  355        329        162        229   \n",
       "20+ years                  223  223        191        111        143   \n",
       "3-5 years                  743  743        706        254        410   \n",
       "5-10 years                 584  584        544        243        383   \n",
       "< 1 years                  247  247        237         63        100   \n",
       "I have never written code   47   47          0          0          0   \n",
       "\n",
       "                           Q7_Part_4  ...         C       C++      Java  \\\n",
       "Q6                                    ...                                 \n",
       "1-2 years                         45  ...  0.097826  0.134783  0.119565   \n",
       "10-20 years                       36  ...  0.101408  0.115493  0.123944   \n",
       "20+ years                         36  ...  0.161435  0.161435  0.183857   \n",
       "3-5 years                         61  ...  0.082100  0.127860  0.129206   \n",
       "5-10 years                        49  ...  0.083904  0.121575  0.097603   \n",
       "< 1 years                         20  ...  0.080972  0.072874  0.048583   \n",
       "I have never written code          0  ...  0.000000  0.000000  0.000000   \n",
       "\n",
       "                           Javascript     Julia     Swift      Bash    MATLAB  \\\n",
       "Q6                                                                              \n",
       "1-2 years                    0.086957  0.013043  0.000000  0.056522  0.089130   \n",
       "10-20 years                  0.135211  0.053521  0.008451  0.273239  0.107042   \n",
       "20+ years                    0.183857  0.071749  0.013453  0.219731  0.107623   \n",
       "3-5 years                    0.110363  0.018843  0.004038  0.135935  0.095559   \n",
       "5-10 years                   0.107877  0.020548  0.008562  0.214041  0.082192   \n",
       "< 1 years                    0.064777  0.016194  0.000000  0.028340  0.080972   \n",
       "I have never written code    0.000000  0.000000  0.000000  0.000000  0.000000   \n",
       "\n",
       "                               None     Other  \n",
       "Q6                                             \n",
       "1-2 years                  0.000000  0.052174  \n",
       "10-20 years                0.002817  0.146479  \n",
       "20+ years                  0.008969  0.242152  \n",
       "3-5 years                  0.002692  0.067295  \n",
       "5-10 years                 0.000000  0.097603  \n",
       "< 1 years                  0.000000  0.032389  \n",
       "I have never written code  0.000000  0.000000  \n",
       "\n",
       "[7 rows x 382 columns]"
      ]
     },
     "execution_count": 95,
     "metadata": {},
     "output_type": "execute_result"
    }
   ],
   "source": [
    "df_ds_exp"
   ]
  },
  {
   "cell_type": "code",
   "execution_count": 105,
   "metadata": {
    "ExecuteTime": {
     "end_time": "2021-01-04T10:09:59.929357Z",
     "start_time": "2021-01-04T10:09:59.673987Z"
    },
    "scrolled": true
   },
   "outputs": [
    {
     "data": {
      "image/png": "[encoded data removed]",
      "text/plain": [
       "<Figure size 720x360 with 1 Axes>"
      ]
     },
     "metadata": {
      "needs_background": "light"
     },
     "output_type": "display_data"
    }
   ],
   "source": [
    "split_over_experience(df_sa, question_num='Q12')"
   ]
  },
  {
   "cell_type": "code",
   "execution_count": 130,
   "metadata": {
    "ExecuteTime": {
     "end_time": "2021-01-05T07:40:43.764844Z",
     "start_time": "2021-01-05T07:40:43.634440Z"
    }
   },
   "outputs": [],
   "source": [
    "    df_ds_exp = df[df['Q5']=='Data Scientist'].groupby(\"Q6\").count()\n",
    "    "
   ]
  },
  {
   "cell_type": "code",
   "execution_count": 131,
   "metadata": {
    "ExecuteTime": {
     "end_time": "2021-01-05T07:40:44.889471Z",
     "start_time": "2021-01-05T07:40:44.845379Z"
    }
   },
   "outputs": [
    {
     "data": {
      "text/html": [
       "<div>\n",
       "<style scoped>\n",
       "    .dataframe tbody tr th:only-of-type {\n",
       "        vertical-align: middle;\n",
       "    }\n",
       "\n",
       "    .dataframe tbody tr th {\n",
       "        vertical-align: top;\n",
       "    }\n",
       "\n",
       "    .dataframe thead th {\n",
       "        text-align: right;\n",
       "    }\n",
       "</style>\n",
       "<table border=\"1\" class=\"dataframe\">\n",
       "  <thead>\n",
       "    <tr style=\"text-align: right;\">\n",
       "      <th></th>\n",
       "      <th>Time from Start to Finish (seconds)</th>\n",
       "      <th>Q1</th>\n",
       "      <th>Q2</th>\n",
       "      <th>Q3</th>\n",
       "      <th>Q4</th>\n",
       "      <th>Q5</th>\n",
       "      <th>Q7_Part_1</th>\n",
       "      <th>Q7_Part_2</th>\n",
       "      <th>Q7_Part_3</th>\n",
       "      <th>Q7_Part_4</th>\n",
       "      <th>...</th>\n",
       "      <th>Q35_B_Part_2</th>\n",
       "      <th>Q35_B_Part_3</th>\n",
       "      <th>Q35_B_Part_4</th>\n",
       "      <th>Q35_B_Part_5</th>\n",
       "      <th>Q35_B_Part_6</th>\n",
       "      <th>Q35_B_Part_7</th>\n",
       "      <th>Q35_B_Part_8</th>\n",
       "      <th>Q35_B_Part_9</th>\n",
       "      <th>Q35_B_Part_10</th>\n",
       "      <th>Q35_B_OTHER</th>\n",
       "    </tr>\n",
       "    <tr>\n",
       "      <th>Q6</th>\n",
       "      <th></th>\n",
       "      <th></th>\n",
       "      <th></th>\n",
       "      <th></th>\n",
       "      <th></th>\n",
       "      <th></th>\n",
       "      <th></th>\n",
       "      <th></th>\n",
       "      <th></th>\n",
       "      <th></th>\n",
       "      <th></th>\n",
       "      <th></th>\n",
       "      <th></th>\n",
       "      <th></th>\n",
       "      <th></th>\n",
       "      <th></th>\n",
       "      <th></th>\n",
       "      <th></th>\n",
       "      <th></th>\n",
       "      <th></th>\n",
       "      <th></th>\n",
       "    </tr>\n",
       "  </thead>\n",
       "  <tbody>\n",
       "    <tr>\n",
       "      <th>1-2 years</th>\n",
       "      <td>460</td>\n",
       "      <td>460</td>\n",
       "      <td>460</td>\n",
       "      <td>460</td>\n",
       "      <td>460</td>\n",
       "      <td>460</td>\n",
       "      <td>446</td>\n",
       "      <td>142</td>\n",
       "      <td>208</td>\n",
       "      <td>45</td>\n",
       "      <td>...</td>\n",
       "      <td>18</td>\n",
       "      <td>7</td>\n",
       "      <td>4</td>\n",
       "      <td>44</td>\n",
       "      <td>11</td>\n",
       "      <td>5</td>\n",
       "      <td>17</td>\n",
       "      <td>8</td>\n",
       "      <td>40</td>\n",
       "      <td>2</td>\n",
       "    </tr>\n",
       "    <tr>\n",
       "      <th>10-20 years</th>\n",
       "      <td>355</td>\n",
       "      <td>355</td>\n",
       "      <td>355</td>\n",
       "      <td>355</td>\n",
       "      <td>355</td>\n",
       "      <td>355</td>\n",
       "      <td>329</td>\n",
       "      <td>162</td>\n",
       "      <td>229</td>\n",
       "      <td>36</td>\n",
       "      <td>...</td>\n",
       "      <td>8</td>\n",
       "      <td>4</td>\n",
       "      <td>3</td>\n",
       "      <td>19</td>\n",
       "      <td>1</td>\n",
       "      <td>1</td>\n",
       "      <td>5</td>\n",
       "      <td>2</td>\n",
       "      <td>28</td>\n",
       "      <td>1</td>\n",
       "    </tr>\n",
       "    <tr>\n",
       "      <th>20+ years</th>\n",
       "      <td>223</td>\n",
       "      <td>223</td>\n",
       "      <td>223</td>\n",
       "      <td>223</td>\n",
       "      <td>223</td>\n",
       "      <td>223</td>\n",
       "      <td>191</td>\n",
       "      <td>111</td>\n",
       "      <td>143</td>\n",
       "      <td>36</td>\n",
       "      <td>...</td>\n",
       "      <td>2</td>\n",
       "      <td>0</td>\n",
       "      <td>0</td>\n",
       "      <td>8</td>\n",
       "      <td>0</td>\n",
       "      <td>1</td>\n",
       "      <td>0</td>\n",
       "      <td>2</td>\n",
       "      <td>23</td>\n",
       "      <td>2</td>\n",
       "    </tr>\n",
       "    <tr>\n",
       "      <th>3-5 years</th>\n",
       "      <td>743</td>\n",
       "      <td>743</td>\n",
       "      <td>743</td>\n",
       "      <td>743</td>\n",
       "      <td>743</td>\n",
       "      <td>743</td>\n",
       "      <td>706</td>\n",
       "      <td>254</td>\n",
       "      <td>410</td>\n",
       "      <td>61</td>\n",
       "      <td>...</td>\n",
       "      <td>34</td>\n",
       "      <td>11</td>\n",
       "      <td>8</td>\n",
       "      <td>65</td>\n",
       "      <td>10</td>\n",
       "      <td>7</td>\n",
       "      <td>18</td>\n",
       "      <td>8</td>\n",
       "      <td>61</td>\n",
       "      <td>4</td>\n",
       "    </tr>\n",
       "    <tr>\n",
       "      <th>5-10 years</th>\n",
       "      <td>584</td>\n",
       "      <td>584</td>\n",
       "      <td>584</td>\n",
       "      <td>584</td>\n",
       "      <td>584</td>\n",
       "      <td>584</td>\n",
       "      <td>544</td>\n",
       "      <td>243</td>\n",
       "      <td>383</td>\n",
       "      <td>49</td>\n",
       "      <td>...</td>\n",
       "      <td>12</td>\n",
       "      <td>5</td>\n",
       "      <td>4</td>\n",
       "      <td>29</td>\n",
       "      <td>3</td>\n",
       "      <td>4</td>\n",
       "      <td>7</td>\n",
       "      <td>7</td>\n",
       "      <td>45</td>\n",
       "      <td>3</td>\n",
       "    </tr>\n",
       "    <tr>\n",
       "      <th>&lt; 1 years</th>\n",
       "      <td>247</td>\n",
       "      <td>247</td>\n",
       "      <td>247</td>\n",
       "      <td>247</td>\n",
       "      <td>247</td>\n",
       "      <td>247</td>\n",
       "      <td>237</td>\n",
       "      <td>63</td>\n",
       "      <td>100</td>\n",
       "      <td>20</td>\n",
       "      <td>...</td>\n",
       "      <td>17</td>\n",
       "      <td>7</td>\n",
       "      <td>9</td>\n",
       "      <td>40</td>\n",
       "      <td>14</td>\n",
       "      <td>10</td>\n",
       "      <td>18</td>\n",
       "      <td>8</td>\n",
       "      <td>28</td>\n",
       "      <td>3</td>\n",
       "    </tr>\n",
       "    <tr>\n",
       "      <th>I have never written code</th>\n",
       "      <td>47</td>\n",
       "      <td>47</td>\n",
       "      <td>47</td>\n",
       "      <td>47</td>\n",
       "      <td>47</td>\n",
       "      <td>47</td>\n",
       "      <td>0</td>\n",
       "      <td>0</td>\n",
       "      <td>0</td>\n",
       "      <td>0</td>\n",
       "      <td>...</td>\n",
       "      <td>3</td>\n",
       "      <td>1</td>\n",
       "      <td>1</td>\n",
       "      <td>1</td>\n",
       "      <td>1</td>\n",
       "      <td>2</td>\n",
       "      <td>1</td>\n",
       "      <td>1</td>\n",
       "      <td>5</td>\n",
       "      <td>1</td>\n",
       "    </tr>\n",
       "  </tbody>\n",
       "</table>\n",
       "<p>7 rows × 354 columns</p>\n",
       "</div>"
      ],
      "text/plain": [
       "                           Time from Start to Finish (seconds)   Q1   Q2   Q3  \\\n",
       "Q6                                                                              \n",
       "1-2 years                                                  460  460  460  460   \n",
       "10-20 years                                                355  355  355  355   \n",
       "20+ years                                                  223  223  223  223   \n",
       "3-5 years                                                  743  743  743  743   \n",
       "5-10 years                                                 584  584  584  584   \n",
       "< 1 years                                                  247  247  247  247   \n",
       "I have never written code                                   47   47   47   47   \n",
       "\n",
       "                            Q4   Q5  Q7_Part_1  Q7_Part_2  Q7_Part_3  \\\n",
       "Q6                                                                     \n",
       "1-2 years                  460  460        446        142        208   \n",
       "10-20 years                355  355        329        162        229   \n",
       "20+ years                  223  223        191        111        143   \n",
       "3-5 years                  743  743        706        254        410   \n",
       "5-10 years                 584  584        544        243        383   \n",
       "< 1 years                  247  247        237         63        100   \n",
       "I have never written code   47   47          0          0          0   \n",
       "\n",
       "                           Q7_Part_4  ...  Q35_B_Part_2  Q35_B_Part_3  \\\n",
       "Q6                                    ...                               \n",
       "1-2 years                         45  ...            18             7   \n",
       "10-20 years                       36  ...             8             4   \n",
       "20+ years                         36  ...             2             0   \n",
       "3-5 years                         61  ...            34            11   \n",
       "5-10 years                        49  ...            12             5   \n",
       "< 1 years                         20  ...            17             7   \n",
       "I have never written code          0  ...             3             1   \n",
       "\n",
       "                           Q35_B_Part_4  Q35_B_Part_5  Q35_B_Part_6  \\\n",
       "Q6                                                                    \n",
       "1-2 years                             4            44            11   \n",
       "10-20 years                           3            19             1   \n",
       "20+ years                             0             8             0   \n",
       "3-5 years                             8            65            10   \n",
       "5-10 years                            4            29             3   \n",
       "< 1 years                             9            40            14   \n",
       "I have never written code             1             1             1   \n",
       "\n",
       "                           Q35_B_Part_7  Q35_B_Part_8  Q35_B_Part_9  \\\n",
       "Q6                                                                    \n",
       "1-2 years                             5            17             8   \n",
       "10-20 years                           1             5             2   \n",
       "20+ years                             1             0             2   \n",
       "3-5 years                             7            18             8   \n",
       "5-10 years                            4             7             7   \n",
       "< 1 years                            10            18             8   \n",
       "I have never written code             2             1             1   \n",
       "\n",
       "                           Q35_B_Part_10  Q35_B_OTHER  \n",
       "Q6                                                     \n",
       "1-2 years                             40            2  \n",
       "10-20 years                           28            1  \n",
       "20+ years                             23            2  \n",
       "3-5 years                             61            4  \n",
       "5-10 years                            45            3  \n",
       "< 1 years                             28            3  \n",
       "I have never written code              5            1  \n",
       "\n",
       "[7 rows x 354 columns]"
      ]
     },
     "execution_count": 131,
     "metadata": {},
     "output_type": "execute_result"
    }
   ],
   "source": [
    "df_ds_exp"
   ]
  },
  {
   "cell_type": "code",
   "execution_count": 132,
   "metadata": {
    "ExecuteTime": {
     "end_time": "2021-01-05T07:40:46.119783Z",
     "start_time": "2021-01-05T07:40:46.111609Z"
    }
   },
   "outputs": [],
   "source": [
    "    ordered_list_experience = ['< 1 years',\n",
    "                '1-2 years', \n",
    "                 '3-5 years', '5-10 years',\n",
    "                '10-20 years', '20+ years'\n",
    "       ]"
   ]
  },
  {
   "cell_type": "code",
   "execution_count": 133,
   "metadata": {
    "ExecuteTime": {
     "end_time": "2021-01-05T07:40:49.375079Z",
     "start_time": "2021-01-05T07:40:49.352989Z"
    }
   },
   "outputs": [
    {
     "name": "stdout",
     "output_type": "stream",
     "text": [
      "Q12_Part_1\n",
      "Q12_Part_2\n",
      "Q12_Part_3\n",
      "Q12_OTHER\n"
     ]
    }
   ],
   "source": [
    "    list_of_question = []\n",
    "    list_of_languages = []\n",
    "    for x in df_ds_exp.columns:\n",
    "        \n",
    "        if len(x)>2:\n",
    "            \n",
    "            if x.split('_')[0] == \"Q12\":\n",
    "                \n",
    "                print(x)\n",
    "                list_of_question.append(x)\n",
    "                list_of_languages.append(question_dict[x].split(\" - \")[-1])\n",
    "        else:\n",
    "            if x[:2] == \"Q12\":\n",
    "                \n",
    "                print(x)\n",
    "                list_of_question.append(x)\n",
    "                list_of_languages.append(question_dict[x].split(\" - \")[-1])"
   ]
  },
  {
   "cell_type": "code",
   "execution_count": 134,
   "metadata": {
    "ExecuteTime": {
     "end_time": "2021-01-05T07:40:50.424294Z",
     "start_time": "2021-01-05T07:40:50.417215Z"
    }
   },
   "outputs": [
    {
     "data": {
      "text/plain": [
       "['GPUs', 'TPUs', 'None', 'Other']"
      ]
     },
     "execution_count": 134,
     "metadata": {},
     "output_type": "execute_result"
    }
   ],
   "source": [
    "list_of_languages"
   ]
  },
  {
   "cell_type": "code",
   "execution_count": 135,
   "metadata": {
    "ExecuteTime": {
     "end_time": "2021-01-05T07:40:53.203350Z",
     "start_time": "2021-01-05T07:40:53.153941Z"
    }
   },
   "outputs": [
    {
     "data": {
      "text/html": [
       "<div>\n",
       "<style scoped>\n",
       "    .dataframe tbody tr th:only-of-type {\n",
       "        vertical-align: middle;\n",
       "    }\n",
       "\n",
       "    .dataframe tbody tr th {\n",
       "        vertical-align: top;\n",
       "    }\n",
       "\n",
       "    .dataframe thead th {\n",
       "        text-align: right;\n",
       "    }\n",
       "</style>\n",
       "<table border=\"1\" class=\"dataframe\">\n",
       "  <thead>\n",
       "    <tr style=\"text-align: right;\">\n",
       "      <th></th>\n",
       "      <th>Time from Start to Finish (seconds)</th>\n",
       "      <th>Q1</th>\n",
       "      <th>Q2</th>\n",
       "      <th>Q3</th>\n",
       "      <th>Q4</th>\n",
       "      <th>Q5</th>\n",
       "      <th>Q7_Part_1</th>\n",
       "      <th>Q7_Part_2</th>\n",
       "      <th>Q7_Part_3</th>\n",
       "      <th>Q7_Part_4</th>\n",
       "      <th>...</th>\n",
       "      <th>Q35_B_Part_2</th>\n",
       "      <th>Q35_B_Part_3</th>\n",
       "      <th>Q35_B_Part_4</th>\n",
       "      <th>Q35_B_Part_5</th>\n",
       "      <th>Q35_B_Part_6</th>\n",
       "      <th>Q35_B_Part_7</th>\n",
       "      <th>Q35_B_Part_8</th>\n",
       "      <th>Q35_B_Part_9</th>\n",
       "      <th>Q35_B_Part_10</th>\n",
       "      <th>Q35_B_OTHER</th>\n",
       "    </tr>\n",
       "    <tr>\n",
       "      <th>Q6</th>\n",
       "      <th></th>\n",
       "      <th></th>\n",
       "      <th></th>\n",
       "      <th></th>\n",
       "      <th></th>\n",
       "      <th></th>\n",
       "      <th></th>\n",
       "      <th></th>\n",
       "      <th></th>\n",
       "      <th></th>\n",
       "      <th></th>\n",
       "      <th></th>\n",
       "      <th></th>\n",
       "      <th></th>\n",
       "      <th></th>\n",
       "      <th></th>\n",
       "      <th></th>\n",
       "      <th></th>\n",
       "      <th></th>\n",
       "      <th></th>\n",
       "      <th></th>\n",
       "    </tr>\n",
       "  </thead>\n",
       "  <tbody>\n",
       "    <tr>\n",
       "      <th>1-2 years</th>\n",
       "      <td>460</td>\n",
       "      <td>460</td>\n",
       "      <td>460</td>\n",
       "      <td>460</td>\n",
       "      <td>460</td>\n",
       "      <td>460</td>\n",
       "      <td>446</td>\n",
       "      <td>142</td>\n",
       "      <td>208</td>\n",
       "      <td>45</td>\n",
       "      <td>...</td>\n",
       "      <td>18</td>\n",
       "      <td>7</td>\n",
       "      <td>4</td>\n",
       "      <td>44</td>\n",
       "      <td>11</td>\n",
       "      <td>5</td>\n",
       "      <td>17</td>\n",
       "      <td>8</td>\n",
       "      <td>40</td>\n",
       "      <td>2</td>\n",
       "    </tr>\n",
       "    <tr>\n",
       "      <th>10-20 years</th>\n",
       "      <td>355</td>\n",
       "      <td>355</td>\n",
       "      <td>355</td>\n",
       "      <td>355</td>\n",
       "      <td>355</td>\n",
       "      <td>355</td>\n",
       "      <td>329</td>\n",
       "      <td>162</td>\n",
       "      <td>229</td>\n",
       "      <td>36</td>\n",
       "      <td>...</td>\n",
       "      <td>8</td>\n",
       "      <td>4</td>\n",
       "      <td>3</td>\n",
       "      <td>19</td>\n",
       "      <td>1</td>\n",
       "      <td>1</td>\n",
       "      <td>5</td>\n",
       "      <td>2</td>\n",
       "      <td>28</td>\n",
       "      <td>1</td>\n",
       "    </tr>\n",
       "    <tr>\n",
       "      <th>20+ years</th>\n",
       "      <td>223</td>\n",
       "      <td>223</td>\n",
       "      <td>223</td>\n",
       "      <td>223</td>\n",
       "      <td>223</td>\n",
       "      <td>223</td>\n",
       "      <td>191</td>\n",
       "      <td>111</td>\n",
       "      <td>143</td>\n",
       "      <td>36</td>\n",
       "      <td>...</td>\n",
       "      <td>2</td>\n",
       "      <td>0</td>\n",
       "      <td>0</td>\n",
       "      <td>8</td>\n",
       "      <td>0</td>\n",
       "      <td>1</td>\n",
       "      <td>0</td>\n",
       "      <td>2</td>\n",
       "      <td>23</td>\n",
       "      <td>2</td>\n",
       "    </tr>\n",
       "    <tr>\n",
       "      <th>3-5 years</th>\n",
       "      <td>743</td>\n",
       "      <td>743</td>\n",
       "      <td>743</td>\n",
       "      <td>743</td>\n",
       "      <td>743</td>\n",
       "      <td>743</td>\n",
       "      <td>706</td>\n",
       "      <td>254</td>\n",
       "      <td>410</td>\n",
       "      <td>61</td>\n",
       "      <td>...</td>\n",
       "      <td>34</td>\n",
       "      <td>11</td>\n",
       "      <td>8</td>\n",
       "      <td>65</td>\n",
       "      <td>10</td>\n",
       "      <td>7</td>\n",
       "      <td>18</td>\n",
       "      <td>8</td>\n",
       "      <td>61</td>\n",
       "      <td>4</td>\n",
       "    </tr>\n",
       "    <tr>\n",
       "      <th>5-10 years</th>\n",
       "      <td>584</td>\n",
       "      <td>584</td>\n",
       "      <td>584</td>\n",
       "      <td>584</td>\n",
       "      <td>584</td>\n",
       "      <td>584</td>\n",
       "      <td>544</td>\n",
       "      <td>243</td>\n",
       "      <td>383</td>\n",
       "      <td>49</td>\n",
       "      <td>...</td>\n",
       "      <td>12</td>\n",
       "      <td>5</td>\n",
       "      <td>4</td>\n",
       "      <td>29</td>\n",
       "      <td>3</td>\n",
       "      <td>4</td>\n",
       "      <td>7</td>\n",
       "      <td>7</td>\n",
       "      <td>45</td>\n",
       "      <td>3</td>\n",
       "    </tr>\n",
       "    <tr>\n",
       "      <th>&lt; 1 years</th>\n",
       "      <td>247</td>\n",
       "      <td>247</td>\n",
       "      <td>247</td>\n",
       "      <td>247</td>\n",
       "      <td>247</td>\n",
       "      <td>247</td>\n",
       "      <td>237</td>\n",
       "      <td>63</td>\n",
       "      <td>100</td>\n",
       "      <td>20</td>\n",
       "      <td>...</td>\n",
       "      <td>17</td>\n",
       "      <td>7</td>\n",
       "      <td>9</td>\n",
       "      <td>40</td>\n",
       "      <td>14</td>\n",
       "      <td>10</td>\n",
       "      <td>18</td>\n",
       "      <td>8</td>\n",
       "      <td>28</td>\n",
       "      <td>3</td>\n",
       "    </tr>\n",
       "    <tr>\n",
       "      <th>I have never written code</th>\n",
       "      <td>47</td>\n",
       "      <td>47</td>\n",
       "      <td>47</td>\n",
       "      <td>47</td>\n",
       "      <td>47</td>\n",
       "      <td>47</td>\n",
       "      <td>0</td>\n",
       "      <td>0</td>\n",
       "      <td>0</td>\n",
       "      <td>0</td>\n",
       "      <td>...</td>\n",
       "      <td>3</td>\n",
       "      <td>1</td>\n",
       "      <td>1</td>\n",
       "      <td>1</td>\n",
       "      <td>1</td>\n",
       "      <td>2</td>\n",
       "      <td>1</td>\n",
       "      <td>1</td>\n",
       "      <td>5</td>\n",
       "      <td>1</td>\n",
       "    </tr>\n",
       "  </tbody>\n",
       "</table>\n",
       "<p>7 rows × 354 columns</p>\n",
       "</div>"
      ],
      "text/plain": [
       "                           Time from Start to Finish (seconds)   Q1   Q2   Q3  \\\n",
       "Q6                                                                              \n",
       "1-2 years                                                  460  460  460  460   \n",
       "10-20 years                                                355  355  355  355   \n",
       "20+ years                                                  223  223  223  223   \n",
       "3-5 years                                                  743  743  743  743   \n",
       "5-10 years                                                 584  584  584  584   \n",
       "< 1 years                                                  247  247  247  247   \n",
       "I have never written code                                   47   47   47   47   \n",
       "\n",
       "                            Q4   Q5  Q7_Part_1  Q7_Part_2  Q7_Part_3  \\\n",
       "Q6                                                                     \n",
       "1-2 years                  460  460        446        142        208   \n",
       "10-20 years                355  355        329        162        229   \n",
       "20+ years                  223  223        191        111        143   \n",
       "3-5 years                  743  743        706        254        410   \n",
       "5-10 years                 584  584        544        243        383   \n",
       "< 1 years                  247  247        237         63        100   \n",
       "I have never written code   47   47          0          0          0   \n",
       "\n",
       "                           Q7_Part_4  ...  Q35_B_Part_2  Q35_B_Part_3  \\\n",
       "Q6                                    ...                               \n",
       "1-2 years                         45  ...            18             7   \n",
       "10-20 years                       36  ...             8             4   \n",
       "20+ years                         36  ...             2             0   \n",
       "3-5 years                         61  ...            34            11   \n",
       "5-10 years                        49  ...            12             5   \n",
       "< 1 years                         20  ...            17             7   \n",
       "I have never written code          0  ...             3             1   \n",
       "\n",
       "                           Q35_B_Part_4  Q35_B_Part_5  Q35_B_Part_6  \\\n",
       "Q6                                                                    \n",
       "1-2 years                             4            44            11   \n",
       "10-20 years                           3            19             1   \n",
       "20+ years                             0             8             0   \n",
       "3-5 years                             8            65            10   \n",
       "5-10 years                            4            29             3   \n",
       "< 1 years                             9            40            14   \n",
       "I have never written code             1             1             1   \n",
       "\n",
       "                           Q35_B_Part_7  Q35_B_Part_8  Q35_B_Part_9  \\\n",
       "Q6                                                                    \n",
       "1-2 years                             5            17             8   \n",
       "10-20 years                           1             5             2   \n",
       "20+ years                             1             0             2   \n",
       "3-5 years                             7            18             8   \n",
       "5-10 years                            4             7             7   \n",
       "< 1 years                            10            18             8   \n",
       "I have never written code             2             1             1   \n",
       "\n",
       "                           Q35_B_Part_10  Q35_B_OTHER  \n",
       "Q6                                                     \n",
       "1-2 years                             40            2  \n",
       "10-20 years                           28            1  \n",
       "20+ years                             23            2  \n",
       "3-5 years                             61            4  \n",
       "5-10 years                            45            3  \n",
       "< 1 years                             28            3  \n",
       "I have never written code              5            1  \n",
       "\n",
       "[7 rows x 354 columns]"
      ]
     },
     "execution_count": 135,
     "metadata": {},
     "output_type": "execute_result"
    }
   ],
   "source": [
    "df_ds_exp"
   ]
  },
  {
   "cell_type": "code",
   "execution_count": 136,
   "metadata": {
    "ExecuteTime": {
     "end_time": "2021-01-05T07:40:56.566984Z",
     "start_time": "2021-01-05T07:40:56.073847Z"
    },
    "scrolled": true
   },
   "outputs": [
    {
     "data": {
      "image/png": "[encoded data removed]",
      "text/plain": [
       "<Figure size 720x360 with 1 Axes>"
      ]
     },
     "metadata": {
      "needs_background": "light"
     },
     "output_type": "display_data"
    }
   ],
   "source": [
    "    ordered_df = df_ds_exp.loc[ordered_list_experience,list_of_question]\n",
    "    ordered_df.columns=list_of_languages\n",
    "    plt.figure(figsize=(10,5))\n",
    "\n",
    "    for x in ordered_df.columns:\n",
    "        ordered_df[x].plot(legend=True,\n",
    "                      title = \"Popularity between experience levels\",\n",
    "                      x='Experience',\n",
    "                      y='Use by percentage of population')\n",
    "        plt.xlabel('Experience')\n",
    "        plt.ylabel('Use by percentage of sample') "
   ]
  },
  {
   "cell_type": "code",
   "execution_count": 153,
   "metadata": {
    "ExecuteTime": {
     "end_time": "2021-01-05T09:24:23.809384Z",
     "start_time": "2021-01-05T09:24:23.790097Z"
    }
   },
   "outputs": [],
   "source": [
    "def split_by_exp(df, select_title='Data Scientist', question_num = 'Q7'  ):\n",
    "    \n",
    "    df_ds_exp = df[df['Q5']==select_title].groupby(\"Q6\").count()\n",
    "    ordered_list_experience = ['< 1 years',\n",
    "                '1-2 years', \n",
    "                 '3-5 years', '5-10 years',\n",
    "                '10-20 years', '20+ years'\n",
    "       ]\n",
    "   \n",
    "    list_of_question = []\n",
    "    list_of_languages = []\n",
    "    for x in df_ds_exp.columns:\n",
    "        \n",
    "        if len(x)>2:\n",
    "            \n",
    "            if x.split('_')[0] == question_num:\n",
    "                \n",
    "                print(x)\n",
    "                list_of_question.append(x)\n",
    "                list_of_languages.append(question_dict[x].split(\" - \")[-1])\n",
    "        else:\n",
    "            if x[:2] == question_num:\n",
    "                \n",
    "                print(x)\n",
    "                list_of_question.append(x)\n",
    "                list_of_languages.append(question_dict[x].split(\" - \")[-1])\n",
    "    \n",
    "    ordered_df = df_ds_exp.loc[ordered_list_experience,list_of_question]\n",
    "    ordered_df.columns=list_of_languages\n",
    "    plt.figure(figsize=(10,5))\n",
    "\n",
    "    for x in ordered_df.columns:\n",
    "        ordered_df[x].plot(legend=True,\n",
    "                      title = \"Popularity between experience levels\",\n",
    "                      x='Experience',\n",
    "                      y='Use by percentage of population')\n",
    "        plt.xlabel('Experience')\n",
    "        plt.ylabel('Use by percentage of sample') "
   ]
  },
  {
   "cell_type": "code",
   "execution_count": null,
   "metadata": {},
   "outputs": [],
   "source": []
  },
  {
   "cell_type": "code",
   "execution_count": 154,
   "metadata": {
    "ExecuteTime": {
     "end_time": "2021-01-05T09:24:27.274494Z",
     "start_time": "2021-01-05T09:24:26.725823Z"
    }
   },
   "outputs": [
    {
     "name": "stdout",
     "output_type": "stream",
     "text": [
      "Q12_Part_1\n",
      "Q12_Part_2\n",
      "Q12_Part_3\n",
      "Q12_OTHER\n"
     ]
    },
    {
     "data": {
      "image/png": "[encoded data removed]",
      "text/plain": [
       "<Figure size 720x360 with 1 Axes>"
      ]
     },
     "metadata": {
      "needs_background": "light"
     },
     "output_type": "display_data"
    }
   ],
   "source": [
    "split_by_exp(df, select_title='Data Scientist', question_num = 'Q12')"
   ]
  },
  {
   "cell_type": "code",
   "execution_count": 128,
   "metadata": {
    "ExecuteTime": {
     "end_time": "2021-01-05T07:40:12.390401Z",
     "start_time": "2021-01-05T07:40:12.379208Z"
    }
   },
   "outputs": [],
   "source": [
    "def split_over_experience(df, select_title='Data Scientist', question_num = 'Q7'):\n",
    "    \n",
    "    \n",
    "    \n",
    "    df_ds_exp = df[df['Q5']=='Data Scientist'].groupby(\"Q6\").count()\n",
    "    \n",
    "    ordered_list_experience = ['< 1 years',\n",
    "                '1-2 years', \n",
    "                 '3-5 years', '5-10 years',\n",
    "                '10-20 years', '20+ years'\n",
    "       ]\n",
    "    list_of_question = []\n",
    "    list_of_languages = []\n",
    "    for x in df_ds_exp.columns:\n",
    "        if x[0:2] == question_num:\n",
    "            list_of_question.append(x)\n",
    "            list_of_languages.append(question_dict[x].split(\" - \")[-1])\n",
    "\n",
    "    ordered_df = df_ds_exp.loc[ordered_list_experience,list_of_question]\n",
    "    ordered_df.columns=list_of_languages\n",
    "    plt.figure(figsize=(10,5))\n",
    "\n",
    "    for x in ordered_df.columns:\n",
    "        ordered_df[x].plot(legend=True,\n",
    "                      title = \"Popularity between experience levels\",\n",
    "                      x='Experience',\n",
    "                      y='Use by percentage of population')\n",
    "        plt.xlabel('Experience')\n",
    "        plt.ylabel('Use by percentage of sample') "
   ]
  },
  {
   "cell_type": "code",
   "execution_count": 129,
   "metadata": {
    "ExecuteTime": {
     "end_time": "2021-01-05T07:40:12.822458Z",
     "start_time": "2021-01-05T07:40:12.713497Z"
    }
   },
   "outputs": [
    {
     "data": {
      "text/plain": [
       "<Figure size 720x360 with 0 Axes>"
      ]
     },
     "metadata": {},
     "output_type": "display_data"
    }
   ],
   "source": [
    "split_over_experience(df, select_title='Data Scientist', question_num = 'Q12')"
   ]
  },
  {
   "cell_type": "code",
   "execution_count": 82,
   "metadata": {
    "ExecuteTime": {
     "end_time": "2021-01-03T20:15:23.474910Z",
     "start_time": "2021-01-03T20:15:23.464905Z"
    }
   },
   "outputs": [],
   "source": [
    "ordered_list_experience = ['< 1 years',\n",
    "                '1-2 years', \n",
    "                 '3-5 years', '5-10 years',\n",
    "                '10-20 years', '20+ years'\n",
    "       ]"
   ]
  },
  {
   "cell_type": "code",
   "execution_count": 84,
   "metadata": {
    "ExecuteTime": {
     "end_time": "2021-01-03T20:16:53.322679Z",
     "start_time": "2021-01-03T20:16:53.307687Z"
    }
   },
   "outputs": [],
   "source": [
    "ordered_df = df_ds_exp_small.loc[ordered_list_experience,:]"
   ]
  },
  {
   "cell_type": "code",
   "execution_count": 81,
   "metadata": {
    "ExecuteTime": {
     "end_time": "2021-01-03T20:14:04.362808Z",
     "start_time": "2021-01-03T20:14:04.352826Z"
    }
   },
   "outputs": [
    {
     "data": {
      "text/plain": [
       "Index(['1-2 years', '10-20 years', '20+ years', '3-5 years', '5-10 years',\n",
       "       '< 1 years', 'I have never written code'],\n",
       "      dtype='object', name='Q6')"
      ]
     },
     "execution_count": 81,
     "metadata": {},
     "output_type": "execute_result"
    }
   ],
   "source": [
    "df_ds_exp_small.T.columns"
   ]
  },
  {
   "cell_type": "code",
   "execution_count": 92,
   "metadata": {
    "ExecuteTime": {
     "end_time": "2021-01-03T20:24:21.933526Z",
     "start_time": "2021-01-03T20:24:21.673136Z"
    }
   },
   "outputs": [
    {
     "data": {
      "image/png": "[encoded data removed]",
      "text/plain": [
       "<Figure size 720x360 with 1 Axes>"
      ]
     },
     "metadata": {
      "needs_background": "light"
     },
     "output_type": "display_data"
    }
   ],
   "source": [
    "plt.figure(figsize=(10,5))\n",
    "\n",
    "for x in ordered_df.columns:\n",
    "    ordered_df[x].plot(legend=True,\n",
    "                      title = \"Language popularity between experience levels\",\n",
    "                      x='Experience',\n",
    "                      y='Use by percentage of population')\n",
    "    plt.xlabel('Experience')\n",
    "    plt.ylabel('Use by percentage of population') \n"
   ]
  },
  {
   "cell_type": "code",
   "execution_count": null,
   "metadata": {},
   "outputs": [],
   "source": []
  },
  {
   "cell_type": "code",
   "execution_count": 48,
   "metadata": {
    "ExecuteTime": {
     "end_time": "2021-01-03T19:33:36.113138Z",
     "start_time": "2021-01-03T19:33:36.094236Z"
    }
   },
   "outputs": [
    {
     "data": {
      "text/plain": [
       "Q6\n",
       "1-2 years                    460\n",
       "10-20 years                  355\n",
       "20+ years                    223\n",
       "3-5 years                    743\n",
       "5-10 years                   584\n",
       "< 1 years                    247\n",
       "I have never written code     47\n",
       "Name: Q1, dtype: int64"
      ]
     },
     "execution_count": 48,
     "metadata": {},
     "output_type": "execute_result"
    }
   ],
   "source": [
    "df_ds_exp['Q1']"
   ]
  },
  {
   "cell_type": "code",
   "execution_count": 50,
   "metadata": {
    "ExecuteTime": {
     "end_time": "2021-01-03T19:33:52.211596Z",
     "start_time": "2021-01-03T19:33:52.181673Z"
    }
   },
   "outputs": [
    {
     "data": {
      "text/html": [
       "<div>\n",
       "<style scoped>\n",
       "    .dataframe tbody tr th:only-of-type {\n",
       "        vertical-align: middle;\n",
       "    }\n",
       "\n",
       "    .dataframe tbody tr th {\n",
       "        vertical-align: top;\n",
       "    }\n",
       "\n",
       "    .dataframe thead th {\n",
       "        text-align: right;\n",
       "    }\n",
       "</style>\n",
       "<table border=\"1\" class=\"dataframe\">\n",
       "  <thead>\n",
       "    <tr style=\"text-align: right;\">\n",
       "      <th></th>\n",
       "      <th>1-2 years</th>\n",
       "      <th>10-20 years</th>\n",
       "      <th>20+ years</th>\n",
       "      <th>3-5 years</th>\n",
       "      <th>5-10 years</th>\n",
       "      <th>&lt; 1 years</th>\n",
       "      <th>I have never written code</th>\n",
       "      <th>Q1</th>\n",
       "      <th>Q7_OTHER</th>\n",
       "      <th>Q7_Part_1</th>\n",
       "      <th>...</th>\n",
       "      <th>Q7_Part_11</th>\n",
       "      <th>Q7_Part_12</th>\n",
       "      <th>Q7_Part_2</th>\n",
       "      <th>Q7_Part_3</th>\n",
       "      <th>Q7_Part_4</th>\n",
       "      <th>Q7_Part_5</th>\n",
       "      <th>Q7_Part_6</th>\n",
       "      <th>Q7_Part_7</th>\n",
       "      <th>Q7_Part_8</th>\n",
       "      <th>Q7_Part_9</th>\n",
       "    </tr>\n",
       "    <tr>\n",
       "      <th>Q6</th>\n",
       "      <th></th>\n",
       "      <th></th>\n",
       "      <th></th>\n",
       "      <th></th>\n",
       "      <th></th>\n",
       "      <th></th>\n",
       "      <th></th>\n",
       "      <th></th>\n",
       "      <th></th>\n",
       "      <th></th>\n",
       "      <th></th>\n",
       "      <th></th>\n",
       "      <th></th>\n",
       "      <th></th>\n",
       "      <th></th>\n",
       "      <th></th>\n",
       "      <th></th>\n",
       "      <th></th>\n",
       "      <th></th>\n",
       "      <th></th>\n",
       "      <th></th>\n",
       "    </tr>\n",
       "  </thead>\n",
       "  <tbody>\n",
       "    <tr>\n",
       "      <th>1-2 years</th>\n",
       "      <td>NaN</td>\n",
       "      <td>NaN</td>\n",
       "      <td>NaN</td>\n",
       "      <td>NaN</td>\n",
       "      <td>NaN</td>\n",
       "      <td>NaN</td>\n",
       "      <td>NaN</td>\n",
       "      <td>NaN</td>\n",
       "      <td>NaN</td>\n",
       "      <td>NaN</td>\n",
       "      <td>...</td>\n",
       "      <td>NaN</td>\n",
       "      <td>NaN</td>\n",
       "      <td>NaN</td>\n",
       "      <td>NaN</td>\n",
       "      <td>NaN</td>\n",
       "      <td>NaN</td>\n",
       "      <td>NaN</td>\n",
       "      <td>NaN</td>\n",
       "      <td>NaN</td>\n",
       "      <td>NaN</td>\n",
       "    </tr>\n",
       "    <tr>\n",
       "      <th>10-20 years</th>\n",
       "      <td>NaN</td>\n",
       "      <td>NaN</td>\n",
       "      <td>NaN</td>\n",
       "      <td>NaN</td>\n",
       "      <td>NaN</td>\n",
       "      <td>NaN</td>\n",
       "      <td>NaN</td>\n",
       "      <td>NaN</td>\n",
       "      <td>NaN</td>\n",
       "      <td>NaN</td>\n",
       "      <td>...</td>\n",
       "      <td>NaN</td>\n",
       "      <td>NaN</td>\n",
       "      <td>NaN</td>\n",
       "      <td>NaN</td>\n",
       "      <td>NaN</td>\n",
       "      <td>NaN</td>\n",
       "      <td>NaN</td>\n",
       "      <td>NaN</td>\n",
       "      <td>NaN</td>\n",
       "      <td>NaN</td>\n",
       "    </tr>\n",
       "    <tr>\n",
       "      <th>20+ years</th>\n",
       "      <td>NaN</td>\n",
       "      <td>NaN</td>\n",
       "      <td>NaN</td>\n",
       "      <td>NaN</td>\n",
       "      <td>NaN</td>\n",
       "      <td>NaN</td>\n",
       "      <td>NaN</td>\n",
       "      <td>NaN</td>\n",
       "      <td>NaN</td>\n",
       "      <td>NaN</td>\n",
       "      <td>...</td>\n",
       "      <td>NaN</td>\n",
       "      <td>NaN</td>\n",
       "      <td>NaN</td>\n",
       "      <td>NaN</td>\n",
       "      <td>NaN</td>\n",
       "      <td>NaN</td>\n",
       "      <td>NaN</td>\n",
       "      <td>NaN</td>\n",
       "      <td>NaN</td>\n",
       "      <td>NaN</td>\n",
       "    </tr>\n",
       "    <tr>\n",
       "      <th>3-5 years</th>\n",
       "      <td>NaN</td>\n",
       "      <td>NaN</td>\n",
       "      <td>NaN</td>\n",
       "      <td>NaN</td>\n",
       "      <td>NaN</td>\n",
       "      <td>NaN</td>\n",
       "      <td>NaN</td>\n",
       "      <td>NaN</td>\n",
       "      <td>NaN</td>\n",
       "      <td>NaN</td>\n",
       "      <td>...</td>\n",
       "      <td>NaN</td>\n",
       "      <td>NaN</td>\n",
       "      <td>NaN</td>\n",
       "      <td>NaN</td>\n",
       "      <td>NaN</td>\n",
       "      <td>NaN</td>\n",
       "      <td>NaN</td>\n",
       "      <td>NaN</td>\n",
       "      <td>NaN</td>\n",
       "      <td>NaN</td>\n",
       "    </tr>\n",
       "    <tr>\n",
       "      <th>5-10 years</th>\n",
       "      <td>NaN</td>\n",
       "      <td>NaN</td>\n",
       "      <td>NaN</td>\n",
       "      <td>NaN</td>\n",
       "      <td>NaN</td>\n",
       "      <td>NaN</td>\n",
       "      <td>NaN</td>\n",
       "      <td>NaN</td>\n",
       "      <td>NaN</td>\n",
       "      <td>NaN</td>\n",
       "      <td>...</td>\n",
       "      <td>NaN</td>\n",
       "      <td>NaN</td>\n",
       "      <td>NaN</td>\n",
       "      <td>NaN</td>\n",
       "      <td>NaN</td>\n",
       "      <td>NaN</td>\n",
       "      <td>NaN</td>\n",
       "      <td>NaN</td>\n",
       "      <td>NaN</td>\n",
       "      <td>NaN</td>\n",
       "    </tr>\n",
       "    <tr>\n",
       "      <th>&lt; 1 years</th>\n",
       "      <td>NaN</td>\n",
       "      <td>NaN</td>\n",
       "      <td>NaN</td>\n",
       "      <td>NaN</td>\n",
       "      <td>NaN</td>\n",
       "      <td>NaN</td>\n",
       "      <td>NaN</td>\n",
       "      <td>NaN</td>\n",
       "      <td>NaN</td>\n",
       "      <td>NaN</td>\n",
       "      <td>...</td>\n",
       "      <td>NaN</td>\n",
       "      <td>NaN</td>\n",
       "      <td>NaN</td>\n",
       "      <td>NaN</td>\n",
       "      <td>NaN</td>\n",
       "      <td>NaN</td>\n",
       "      <td>NaN</td>\n",
       "      <td>NaN</td>\n",
       "      <td>NaN</td>\n",
       "      <td>NaN</td>\n",
       "    </tr>\n",
       "    <tr>\n",
       "      <th>I have never written code</th>\n",
       "      <td>NaN</td>\n",
       "      <td>NaN</td>\n",
       "      <td>NaN</td>\n",
       "      <td>NaN</td>\n",
       "      <td>NaN</td>\n",
       "      <td>NaN</td>\n",
       "      <td>NaN</td>\n",
       "      <td>NaN</td>\n",
       "      <td>NaN</td>\n",
       "      <td>NaN</td>\n",
       "      <td>...</td>\n",
       "      <td>NaN</td>\n",
       "      <td>NaN</td>\n",
       "      <td>NaN</td>\n",
       "      <td>NaN</td>\n",
       "      <td>NaN</td>\n",
       "      <td>NaN</td>\n",
       "      <td>NaN</td>\n",
       "      <td>NaN</td>\n",
       "      <td>NaN</td>\n",
       "      <td>NaN</td>\n",
       "    </tr>\n",
       "  </tbody>\n",
       "</table>\n",
       "<p>7 rows × 21 columns</p>\n",
       "</div>"
      ],
      "text/plain": [
       "                           1-2 years  10-20 years  20+ years  3-5 years  \\\n",
       "Q6                                                                        \n",
       "1-2 years                        NaN          NaN        NaN        NaN   \n",
       "10-20 years                      NaN          NaN        NaN        NaN   \n",
       "20+ years                        NaN          NaN        NaN        NaN   \n",
       "3-5 years                        NaN          NaN        NaN        NaN   \n",
       "5-10 years                       NaN          NaN        NaN        NaN   \n",
       "< 1 years                        NaN          NaN        NaN        NaN   \n",
       "I have never written code        NaN          NaN        NaN        NaN   \n",
       "\n",
       "                           5-10 years  < 1 years  I have never written code  \\\n",
       "Q6                                                                            \n",
       "1-2 years                         NaN        NaN                        NaN   \n",
       "10-20 years                       NaN        NaN                        NaN   \n",
       "20+ years                         NaN        NaN                        NaN   \n",
       "3-5 years                         NaN        NaN                        NaN   \n",
       "5-10 years                        NaN        NaN                        NaN   \n",
       "< 1 years                         NaN        NaN                        NaN   \n",
       "I have never written code         NaN        NaN                        NaN   \n",
       "\n",
       "                           Q1  Q7_OTHER  Q7_Part_1  ...  Q7_Part_11  \\\n",
       "Q6                                                  ...               \n",
       "1-2 years                 NaN       NaN        NaN  ...         NaN   \n",
       "10-20 years               NaN       NaN        NaN  ...         NaN   \n",
       "20+ years                 NaN       NaN        NaN  ...         NaN   \n",
       "3-5 years                 NaN       NaN        NaN  ...         NaN   \n",
       "5-10 years                NaN       NaN        NaN  ...         NaN   \n",
       "< 1 years                 NaN       NaN        NaN  ...         NaN   \n",
       "I have never written code NaN       NaN        NaN  ...         NaN   \n",
       "\n",
       "                           Q7_Part_12  Q7_Part_2  Q7_Part_3  Q7_Part_4  \\\n",
       "Q6                                                                       \n",
       "1-2 years                         NaN        NaN        NaN        NaN   \n",
       "10-20 years                       NaN        NaN        NaN        NaN   \n",
       "20+ years                         NaN        NaN        NaN        NaN   \n",
       "3-5 years                         NaN        NaN        NaN        NaN   \n",
       "5-10 years                        NaN        NaN        NaN        NaN   \n",
       "< 1 years                         NaN        NaN        NaN        NaN   \n",
       "I have never written code         NaN        NaN        NaN        NaN   \n",
       "\n",
       "                           Q7_Part_5  Q7_Part_6  Q7_Part_7  Q7_Part_8  \\\n",
       "Q6                                                                      \n",
       "1-2 years                        NaN        NaN        NaN        NaN   \n",
       "10-20 years                      NaN        NaN        NaN        NaN   \n",
       "20+ years                        NaN        NaN        NaN        NaN   \n",
       "3-5 years                        NaN        NaN        NaN        NaN   \n",
       "5-10 years                       NaN        NaN        NaN        NaN   \n",
       "< 1 years                        NaN        NaN        NaN        NaN   \n",
       "I have never written code        NaN        NaN        NaN        NaN   \n",
       "\n",
       "                           Q7_Part_9  \n",
       "Q6                                    \n",
       "1-2 years                        NaN  \n",
       "10-20 years                      NaN  \n",
       "20+ years                        NaN  \n",
       "3-5 years                        NaN  \n",
       "5-10 years                       NaN  \n",
       "< 1 years                        NaN  \n",
       "I have never written code        NaN  \n",
       "\n",
       "[7 rows x 21 columns]"
      ]
     },
     "execution_count": 50,
     "metadata": {},
     "output_type": "execute_result"
    }
   ],
   "source": [
    "small_df"
   ]
  },
  {
   "cell_type": "code",
   "execution_count": 40,
   "metadata": {
    "ExecuteTime": {
     "end_time": "2021-01-03T19:31:35.858311Z",
     "start_time": "2021-01-03T19:31:35.842353Z"
    }
   },
   "outputs": [],
   "source": [
    "small_df['Q1'] = df_ds_exp['Q1']"
   ]
  },
  {
   "cell_type": "code",
   "execution_count": 43,
   "metadata": {
    "ExecuteTime": {
     "end_time": "2021-01-03T19:31:47.053463Z",
     "start_time": "2021-01-03T19:31:47.038480Z"
    }
   },
   "outputs": [
    {
     "data": {
      "text/html": [
       "<div>\n",
       "<style scoped>\n",
       "    .dataframe tbody tr th:only-of-type {\n",
       "        vertical-align: middle;\n",
       "    }\n",
       "\n",
       "    .dataframe tbody tr th {\n",
       "        vertical-align: top;\n",
       "    }\n",
       "\n",
       "    .dataframe thead th {\n",
       "        text-align: right;\n",
       "    }\n",
       "</style>\n",
       "<table border=\"1\" class=\"dataframe\">\n",
       "  <thead>\n",
       "    <tr style=\"text-align: right;\">\n",
       "      <th></th>\n",
       "      <th>Q7_Part_1</th>\n",
       "      <th>Q7_Part_2</th>\n",
       "      <th>Q7_Part_3</th>\n",
       "      <th>Q7_Part_4</th>\n",
       "      <th>Q7_Part_5</th>\n",
       "      <th>Q7_Part_6</th>\n",
       "      <th>Q7_Part_7</th>\n",
       "      <th>Q7_Part_8</th>\n",
       "      <th>Q7_Part_9</th>\n",
       "      <th>Q7_Part_10</th>\n",
       "      <th>Q7_Part_11</th>\n",
       "      <th>Q7_Part_12</th>\n",
       "      <th>Q7_OTHER</th>\n",
       "    </tr>\n",
       "    <tr>\n",
       "      <th>Q6</th>\n",
       "      <th></th>\n",
       "      <th></th>\n",
       "      <th></th>\n",
       "      <th></th>\n",
       "      <th></th>\n",
       "      <th></th>\n",
       "      <th></th>\n",
       "      <th></th>\n",
       "      <th></th>\n",
       "      <th></th>\n",
       "      <th></th>\n",
       "      <th></th>\n",
       "      <th></th>\n",
       "    </tr>\n",
       "  </thead>\n",
       "  <tbody>\n",
       "    <tr>\n",
       "      <th>1-2 years</th>\n",
       "      <td>446</td>\n",
       "      <td>142</td>\n",
       "      <td>208</td>\n",
       "      <td>45</td>\n",
       "      <td>62</td>\n",
       "      <td>55</td>\n",
       "      <td>40</td>\n",
       "      <td>6</td>\n",
       "      <td>0</td>\n",
       "      <td>26</td>\n",
       "      <td>41</td>\n",
       "      <td>0</td>\n",
       "      <td>24</td>\n",
       "    </tr>\n",
       "    <tr>\n",
       "      <th>10-20 years</th>\n",
       "      <td>329</td>\n",
       "      <td>162</td>\n",
       "      <td>229</td>\n",
       "      <td>36</td>\n",
       "      <td>41</td>\n",
       "      <td>44</td>\n",
       "      <td>48</td>\n",
       "      <td>19</td>\n",
       "      <td>3</td>\n",
       "      <td>97</td>\n",
       "      <td>38</td>\n",
       "      <td>1</td>\n",
       "      <td>52</td>\n",
       "    </tr>\n",
       "    <tr>\n",
       "      <th>20+ years</th>\n",
       "      <td>191</td>\n",
       "      <td>111</td>\n",
       "      <td>143</td>\n",
       "      <td>36</td>\n",
       "      <td>36</td>\n",
       "      <td>41</td>\n",
       "      <td>41</td>\n",
       "      <td>16</td>\n",
       "      <td>3</td>\n",
       "      <td>49</td>\n",
       "      <td>24</td>\n",
       "      <td>2</td>\n",
       "      <td>54</td>\n",
       "    </tr>\n",
       "    <tr>\n",
       "      <th>3-5 years</th>\n",
       "      <td>706</td>\n",
       "      <td>254</td>\n",
       "      <td>410</td>\n",
       "      <td>61</td>\n",
       "      <td>95</td>\n",
       "      <td>96</td>\n",
       "      <td>82</td>\n",
       "      <td>14</td>\n",
       "      <td>3</td>\n",
       "      <td>101</td>\n",
       "      <td>71</td>\n",
       "      <td>2</td>\n",
       "      <td>50</td>\n",
       "    </tr>\n",
       "    <tr>\n",
       "      <th>5-10 years</th>\n",
       "      <td>544</td>\n",
       "      <td>243</td>\n",
       "      <td>383</td>\n",
       "      <td>49</td>\n",
       "      <td>71</td>\n",
       "      <td>57</td>\n",
       "      <td>63</td>\n",
       "      <td>12</td>\n",
       "      <td>5</td>\n",
       "      <td>125</td>\n",
       "      <td>48</td>\n",
       "      <td>0</td>\n",
       "      <td>57</td>\n",
       "    </tr>\n",
       "    <tr>\n",
       "      <th>&lt; 1 years</th>\n",
       "      <td>237</td>\n",
       "      <td>63</td>\n",
       "      <td>100</td>\n",
       "      <td>20</td>\n",
       "      <td>18</td>\n",
       "      <td>12</td>\n",
       "      <td>16</td>\n",
       "      <td>4</td>\n",
       "      <td>0</td>\n",
       "      <td>7</td>\n",
       "      <td>20</td>\n",
       "      <td>0</td>\n",
       "      <td>8</td>\n",
       "    </tr>\n",
       "    <tr>\n",
       "      <th>I have never written code</th>\n",
       "      <td>0</td>\n",
       "      <td>0</td>\n",
       "      <td>0</td>\n",
       "      <td>0</td>\n",
       "      <td>0</td>\n",
       "      <td>0</td>\n",
       "      <td>0</td>\n",
       "      <td>0</td>\n",
       "      <td>0</td>\n",
       "      <td>0</td>\n",
       "      <td>0</td>\n",
       "      <td>0</td>\n",
       "      <td>0</td>\n",
       "    </tr>\n",
       "  </tbody>\n",
       "</table>\n",
       "</div>"
      ],
      "text/plain": [
       "                           Q7_Part_1  Q7_Part_2  Q7_Part_3  Q7_Part_4  \\\n",
       "Q6                                                                      \n",
       "1-2 years                        446        142        208         45   \n",
       "10-20 years                      329        162        229         36   \n",
       "20+ years                        191        111        143         36   \n",
       "3-5 years                        706        254        410         61   \n",
       "5-10 years                       544        243        383         49   \n",
       "< 1 years                        237         63        100         20   \n",
       "I have never written code          0          0          0          0   \n",
       "\n",
       "                           Q7_Part_5  Q7_Part_6  Q7_Part_7  Q7_Part_8  \\\n",
       "Q6                                                                      \n",
       "1-2 years                         62         55         40          6   \n",
       "10-20 years                       41         44         48         19   \n",
       "20+ years                         36         41         41         16   \n",
       "3-5 years                         95         96         82         14   \n",
       "5-10 years                        71         57         63         12   \n",
       "< 1 years                         18         12         16          4   \n",
       "I have never written code          0          0          0          0   \n",
       "\n",
       "                           Q7_Part_9  Q7_Part_10  Q7_Part_11  Q7_Part_12  \\\n",
       "Q6                                                                         \n",
       "1-2 years                          0          26          41           0   \n",
       "10-20 years                        3          97          38           1   \n",
       "20+ years                          3          49          24           2   \n",
       "3-5 years                          3         101          71           2   \n",
       "5-10 years                         5         125          48           0   \n",
       "< 1 years                          0           7          20           0   \n",
       "I have never written code          0           0           0           0   \n",
       "\n",
       "                           Q7_OTHER  \n",
       "Q6                                   \n",
       "1-2 years                        24  \n",
       "10-20 years                      52  \n",
       "20+ years                        54  \n",
       "3-5 years                        50  \n",
       "5-10 years                       57  \n",
       "< 1 years                         8  \n",
       "I have never written code         0  "
      ]
     },
     "execution_count": 43,
     "metadata": {},
     "output_type": "execute_result"
    }
   ],
   "source": [
    "small_df"
   ]
  },
  {
   "cell_type": "code",
   "execution_count": 33,
   "metadata": {
    "ExecuteTime": {
     "end_time": "2021-01-03T19:29:40.350938Z",
     "start_time": "2021-01-03T19:29:40.332985Z"
    },
    "scrolled": true
   },
   "outputs": [
    {
     "data": {
      "text/html": [
       "<div>\n",
       "<style scoped>\n",
       "    .dataframe tbody tr th:only-of-type {\n",
       "        vertical-align: middle;\n",
       "    }\n",
       "\n",
       "    .dataframe tbody tr th {\n",
       "        vertical-align: top;\n",
       "    }\n",
       "\n",
       "    .dataframe thead th {\n",
       "        text-align: right;\n",
       "    }\n",
       "</style>\n",
       "<table border=\"1\" class=\"dataframe\">\n",
       "  <thead>\n",
       "    <tr style=\"text-align: right;\">\n",
       "      <th></th>\n",
       "      <th>Time from Start to Finish (seconds)</th>\n",
       "      <th>Q1</th>\n",
       "      <th>Q2</th>\n",
       "      <th>Q3</th>\n",
       "      <th>Q4</th>\n",
       "      <th>Q5</th>\n",
       "      <th>Q7_Part_1</th>\n",
       "      <th>Q7_Part_2</th>\n",
       "      <th>Q7_Part_3</th>\n",
       "      <th>Q7_Part_4</th>\n",
       "      <th>...</th>\n",
       "      <th>Q35_B_Part_2</th>\n",
       "      <th>Q35_B_Part_3</th>\n",
       "      <th>Q35_B_Part_4</th>\n",
       "      <th>Q35_B_Part_5</th>\n",
       "      <th>Q35_B_Part_6</th>\n",
       "      <th>Q35_B_Part_7</th>\n",
       "      <th>Q35_B_Part_8</th>\n",
       "      <th>Q35_B_Part_9</th>\n",
       "      <th>Q35_B_Part_10</th>\n",
       "      <th>Q35_B_OTHER</th>\n",
       "    </tr>\n",
       "    <tr>\n",
       "      <th>Q6</th>\n",
       "      <th></th>\n",
       "      <th></th>\n",
       "      <th></th>\n",
       "      <th></th>\n",
       "      <th></th>\n",
       "      <th></th>\n",
       "      <th></th>\n",
       "      <th></th>\n",
       "      <th></th>\n",
       "      <th></th>\n",
       "      <th></th>\n",
       "      <th></th>\n",
       "      <th></th>\n",
       "      <th></th>\n",
       "      <th></th>\n",
       "      <th></th>\n",
       "      <th></th>\n",
       "      <th></th>\n",
       "      <th></th>\n",
       "      <th></th>\n",
       "      <th></th>\n",
       "    </tr>\n",
       "  </thead>\n",
       "  <tbody>\n",
       "    <tr>\n",
       "      <th>1-2 years</th>\n",
       "      <td>460</td>\n",
       "      <td>460</td>\n",
       "      <td>460</td>\n",
       "      <td>460</td>\n",
       "      <td>460</td>\n",
       "      <td>460</td>\n",
       "      <td>446</td>\n",
       "      <td>142</td>\n",
       "      <td>208</td>\n",
       "      <td>45</td>\n",
       "      <td>...</td>\n",
       "      <td>18</td>\n",
       "      <td>7</td>\n",
       "      <td>4</td>\n",
       "      <td>44</td>\n",
       "      <td>11</td>\n",
       "      <td>5</td>\n",
       "      <td>17</td>\n",
       "      <td>8</td>\n",
       "      <td>40</td>\n",
       "      <td>2</td>\n",
       "    </tr>\n",
       "    <tr>\n",
       "      <th>10-20 years</th>\n",
       "      <td>355</td>\n",
       "      <td>355</td>\n",
       "      <td>355</td>\n",
       "      <td>355</td>\n",
       "      <td>355</td>\n",
       "      <td>355</td>\n",
       "      <td>329</td>\n",
       "      <td>162</td>\n",
       "      <td>229</td>\n",
       "      <td>36</td>\n",
       "      <td>...</td>\n",
       "      <td>8</td>\n",
       "      <td>4</td>\n",
       "      <td>3</td>\n",
       "      <td>19</td>\n",
       "      <td>1</td>\n",
       "      <td>1</td>\n",
       "      <td>5</td>\n",
       "      <td>2</td>\n",
       "      <td>28</td>\n",
       "      <td>1</td>\n",
       "    </tr>\n",
       "    <tr>\n",
       "      <th>20+ years</th>\n",
       "      <td>223</td>\n",
       "      <td>223</td>\n",
       "      <td>223</td>\n",
       "      <td>223</td>\n",
       "      <td>223</td>\n",
       "      <td>223</td>\n",
       "      <td>191</td>\n",
       "      <td>111</td>\n",
       "      <td>143</td>\n",
       "      <td>36</td>\n",
       "      <td>...</td>\n",
       "      <td>2</td>\n",
       "      <td>0</td>\n",
       "      <td>0</td>\n",
       "      <td>8</td>\n",
       "      <td>0</td>\n",
       "      <td>1</td>\n",
       "      <td>0</td>\n",
       "      <td>2</td>\n",
       "      <td>23</td>\n",
       "      <td>2</td>\n",
       "    </tr>\n",
       "    <tr>\n",
       "      <th>3-5 years</th>\n",
       "      <td>743</td>\n",
       "      <td>743</td>\n",
       "      <td>743</td>\n",
       "      <td>743</td>\n",
       "      <td>743</td>\n",
       "      <td>743</td>\n",
       "      <td>706</td>\n",
       "      <td>254</td>\n",
       "      <td>410</td>\n",
       "      <td>61</td>\n",
       "      <td>...</td>\n",
       "      <td>34</td>\n",
       "      <td>11</td>\n",
       "      <td>8</td>\n",
       "      <td>65</td>\n",
       "      <td>10</td>\n",
       "      <td>7</td>\n",
       "      <td>18</td>\n",
       "      <td>8</td>\n",
       "      <td>61</td>\n",
       "      <td>4</td>\n",
       "    </tr>\n",
       "    <tr>\n",
       "      <th>5-10 years</th>\n",
       "      <td>584</td>\n",
       "      <td>584</td>\n",
       "      <td>584</td>\n",
       "      <td>584</td>\n",
       "      <td>584</td>\n",
       "      <td>584</td>\n",
       "      <td>544</td>\n",
       "      <td>243</td>\n",
       "      <td>383</td>\n",
       "      <td>49</td>\n",
       "      <td>...</td>\n",
       "      <td>12</td>\n",
       "      <td>5</td>\n",
       "      <td>4</td>\n",
       "      <td>29</td>\n",
       "      <td>3</td>\n",
       "      <td>4</td>\n",
       "      <td>7</td>\n",
       "      <td>7</td>\n",
       "      <td>45</td>\n",
       "      <td>3</td>\n",
       "    </tr>\n",
       "    <tr>\n",
       "      <th>&lt; 1 years</th>\n",
       "      <td>247</td>\n",
       "      <td>247</td>\n",
       "      <td>247</td>\n",
       "      <td>247</td>\n",
       "      <td>247</td>\n",
       "      <td>247</td>\n",
       "      <td>237</td>\n",
       "      <td>63</td>\n",
       "      <td>100</td>\n",
       "      <td>20</td>\n",
       "      <td>...</td>\n",
       "      <td>17</td>\n",
       "      <td>7</td>\n",
       "      <td>9</td>\n",
       "      <td>40</td>\n",
       "      <td>14</td>\n",
       "      <td>10</td>\n",
       "      <td>18</td>\n",
       "      <td>8</td>\n",
       "      <td>28</td>\n",
       "      <td>3</td>\n",
       "    </tr>\n",
       "    <tr>\n",
       "      <th>I have never written code</th>\n",
       "      <td>47</td>\n",
       "      <td>47</td>\n",
       "      <td>47</td>\n",
       "      <td>47</td>\n",
       "      <td>47</td>\n",
       "      <td>47</td>\n",
       "      <td>0</td>\n",
       "      <td>0</td>\n",
       "      <td>0</td>\n",
       "      <td>0</td>\n",
       "      <td>...</td>\n",
       "      <td>3</td>\n",
       "      <td>1</td>\n",
       "      <td>1</td>\n",
       "      <td>1</td>\n",
       "      <td>1</td>\n",
       "      <td>2</td>\n",
       "      <td>1</td>\n",
       "      <td>1</td>\n",
       "      <td>5</td>\n",
       "      <td>1</td>\n",
       "    </tr>\n",
       "  </tbody>\n",
       "</table>\n",
       "<p>7 rows × 354 columns</p>\n",
       "</div>"
      ],
      "text/plain": [
       "                           Time from Start to Finish (seconds)   Q1   Q2   Q3  \\\n",
       "Q6                                                                              \n",
       "1-2 years                                                  460  460  460  460   \n",
       "10-20 years                                                355  355  355  355   \n",
       "20+ years                                                  223  223  223  223   \n",
       "3-5 years                                                  743  743  743  743   \n",
       "5-10 years                                                 584  584  584  584   \n",
       "< 1 years                                                  247  247  247  247   \n",
       "I have never written code                                   47   47   47   47   \n",
       "\n",
       "                            Q4   Q5  Q7_Part_1  Q7_Part_2  Q7_Part_3  \\\n",
       "Q6                                                                     \n",
       "1-2 years                  460  460        446        142        208   \n",
       "10-20 years                355  355        329        162        229   \n",
       "20+ years                  223  223        191        111        143   \n",
       "3-5 years                  743  743        706        254        410   \n",
       "5-10 years                 584  584        544        243        383   \n",
       "< 1 years                  247  247        237         63        100   \n",
       "I have never written code   47   47          0          0          0   \n",
       "\n",
       "                           Q7_Part_4  ...  Q35_B_Part_2  Q35_B_Part_3  \\\n",
       "Q6                                    ...                               \n",
       "1-2 years                         45  ...            18             7   \n",
       "10-20 years                       36  ...             8             4   \n",
       "20+ years                         36  ...             2             0   \n",
       "3-5 years                         61  ...            34            11   \n",
       "5-10 years                        49  ...            12             5   \n",
       "< 1 years                         20  ...            17             7   \n",
       "I have never written code          0  ...             3             1   \n",
       "\n",
       "                           Q35_B_Part_4  Q35_B_Part_5  Q35_B_Part_6  \\\n",
       "Q6                                                                    \n",
       "1-2 years                             4            44            11   \n",
       "10-20 years                           3            19             1   \n",
       "20+ years                             0             8             0   \n",
       "3-5 years                             8            65            10   \n",
       "5-10 years                            4            29             3   \n",
       "< 1 years                             9            40            14   \n",
       "I have never written code             1             1             1   \n",
       "\n",
       "                           Q35_B_Part_7  Q35_B_Part_8  Q35_B_Part_9  \\\n",
       "Q6                                                                    \n",
       "1-2 years                             5            17             8   \n",
       "10-20 years                           1             5             2   \n",
       "20+ years                             1             0             2   \n",
       "3-5 years                             7            18             8   \n",
       "5-10 years                            4             7             7   \n",
       "< 1 years                            10            18             8   \n",
       "I have never written code             2             1             1   \n",
       "\n",
       "                           Q35_B_Part_10  Q35_B_OTHER  \n",
       "Q6                                                     \n",
       "1-2 years                             40            2  \n",
       "10-20 years                           28            1  \n",
       "20+ years                             23            2  \n",
       "3-5 years                             61            4  \n",
       "5-10 years                            45            3  \n",
       "< 1 years                             28            3  \n",
       "I have never written code              5            1  \n",
       "\n",
       "[7 rows x 354 columns]"
      ]
     },
     "execution_count": 33,
     "metadata": {},
     "output_type": "execute_result"
    }
   ],
   "source": [
    "df_ds_exp"
   ]
  },
  {
   "cell_type": "code",
   "execution_count": 36,
   "metadata": {
    "ExecuteTime": {
     "end_time": "2021-01-03T19:29:56.536800Z",
     "start_time": "2021-01-03T19:29:56.516854Z"
    }
   },
   "outputs": [
    {
     "data": {
      "text/html": [
       "<div>\n",
       "<style scoped>\n",
       "    .dataframe tbody tr th:only-of-type {\n",
       "        vertical-align: middle;\n",
       "    }\n",
       "\n",
       "    .dataframe tbody tr th {\n",
       "        vertical-align: top;\n",
       "    }\n",
       "\n",
       "    .dataframe thead th {\n",
       "        text-align: right;\n",
       "    }\n",
       "</style>\n",
       "<table border=\"1\" class=\"dataframe\">\n",
       "  <thead>\n",
       "    <tr style=\"text-align: right;\">\n",
       "      <th></th>\n",
       "      <th>1-2 years</th>\n",
       "      <th>10-20 years</th>\n",
       "      <th>20+ years</th>\n",
       "      <th>3-5 years</th>\n",
       "      <th>5-10 years</th>\n",
       "      <th>&lt; 1 years</th>\n",
       "      <th>I have never written code</th>\n",
       "      <th>Q7_OTHER</th>\n",
       "      <th>Q7_Part_1</th>\n",
       "      <th>Q7_Part_10</th>\n",
       "      <th>Q7_Part_11</th>\n",
       "      <th>Q7_Part_12</th>\n",
       "      <th>Q7_Part_2</th>\n",
       "      <th>Q7_Part_3</th>\n",
       "      <th>Q7_Part_4</th>\n",
       "      <th>Q7_Part_5</th>\n",
       "      <th>Q7_Part_6</th>\n",
       "      <th>Q7_Part_7</th>\n",
       "      <th>Q7_Part_8</th>\n",
       "      <th>Q7_Part_9</th>\n",
       "    </tr>\n",
       "    <tr>\n",
       "      <th>Q6</th>\n",
       "      <th></th>\n",
       "      <th></th>\n",
       "      <th></th>\n",
       "      <th></th>\n",
       "      <th></th>\n",
       "      <th></th>\n",
       "      <th></th>\n",
       "      <th></th>\n",
       "      <th></th>\n",
       "      <th></th>\n",
       "      <th></th>\n",
       "      <th></th>\n",
       "      <th></th>\n",
       "      <th></th>\n",
       "      <th></th>\n",
       "      <th></th>\n",
       "      <th></th>\n",
       "      <th></th>\n",
       "      <th></th>\n",
       "      <th></th>\n",
       "    </tr>\n",
       "  </thead>\n",
       "  <tbody>\n",
       "    <tr>\n",
       "      <th>1-2 years</th>\n",
       "      <td>NaN</td>\n",
       "      <td>NaN</td>\n",
       "      <td>NaN</td>\n",
       "      <td>NaN</td>\n",
       "      <td>NaN</td>\n",
       "      <td>NaN</td>\n",
       "      <td>NaN</td>\n",
       "      <td>NaN</td>\n",
       "      <td>NaN</td>\n",
       "      <td>NaN</td>\n",
       "      <td>NaN</td>\n",
       "      <td>NaN</td>\n",
       "      <td>NaN</td>\n",
       "      <td>NaN</td>\n",
       "      <td>NaN</td>\n",
       "      <td>NaN</td>\n",
       "      <td>NaN</td>\n",
       "      <td>NaN</td>\n",
       "      <td>NaN</td>\n",
       "      <td>NaN</td>\n",
       "    </tr>\n",
       "    <tr>\n",
       "      <th>10-20 years</th>\n",
       "      <td>NaN</td>\n",
       "      <td>NaN</td>\n",
       "      <td>NaN</td>\n",
       "      <td>NaN</td>\n",
       "      <td>NaN</td>\n",
       "      <td>NaN</td>\n",
       "      <td>NaN</td>\n",
       "      <td>NaN</td>\n",
       "      <td>NaN</td>\n",
       "      <td>NaN</td>\n",
       "      <td>NaN</td>\n",
       "      <td>NaN</td>\n",
       "      <td>NaN</td>\n",
       "      <td>NaN</td>\n",
       "      <td>NaN</td>\n",
       "      <td>NaN</td>\n",
       "      <td>NaN</td>\n",
       "      <td>NaN</td>\n",
       "      <td>NaN</td>\n",
       "      <td>NaN</td>\n",
       "    </tr>\n",
       "    <tr>\n",
       "      <th>20+ years</th>\n",
       "      <td>NaN</td>\n",
       "      <td>NaN</td>\n",
       "      <td>NaN</td>\n",
       "      <td>NaN</td>\n",
       "      <td>NaN</td>\n",
       "      <td>NaN</td>\n",
       "      <td>NaN</td>\n",
       "      <td>NaN</td>\n",
       "      <td>NaN</td>\n",
       "      <td>NaN</td>\n",
       "      <td>NaN</td>\n",
       "      <td>NaN</td>\n",
       "      <td>NaN</td>\n",
       "      <td>NaN</td>\n",
       "      <td>NaN</td>\n",
       "      <td>NaN</td>\n",
       "      <td>NaN</td>\n",
       "      <td>NaN</td>\n",
       "      <td>NaN</td>\n",
       "      <td>NaN</td>\n",
       "    </tr>\n",
       "    <tr>\n",
       "      <th>3-5 years</th>\n",
       "      <td>NaN</td>\n",
       "      <td>NaN</td>\n",
       "      <td>NaN</td>\n",
       "      <td>NaN</td>\n",
       "      <td>NaN</td>\n",
       "      <td>NaN</td>\n",
       "      <td>NaN</td>\n",
       "      <td>NaN</td>\n",
       "      <td>NaN</td>\n",
       "      <td>NaN</td>\n",
       "      <td>NaN</td>\n",
       "      <td>NaN</td>\n",
       "      <td>NaN</td>\n",
       "      <td>NaN</td>\n",
       "      <td>NaN</td>\n",
       "      <td>NaN</td>\n",
       "      <td>NaN</td>\n",
       "      <td>NaN</td>\n",
       "      <td>NaN</td>\n",
       "      <td>NaN</td>\n",
       "    </tr>\n",
       "    <tr>\n",
       "      <th>5-10 years</th>\n",
       "      <td>NaN</td>\n",
       "      <td>NaN</td>\n",
       "      <td>NaN</td>\n",
       "      <td>NaN</td>\n",
       "      <td>NaN</td>\n",
       "      <td>NaN</td>\n",
       "      <td>NaN</td>\n",
       "      <td>NaN</td>\n",
       "      <td>NaN</td>\n",
       "      <td>NaN</td>\n",
       "      <td>NaN</td>\n",
       "      <td>NaN</td>\n",
       "      <td>NaN</td>\n",
       "      <td>NaN</td>\n",
       "      <td>NaN</td>\n",
       "      <td>NaN</td>\n",
       "      <td>NaN</td>\n",
       "      <td>NaN</td>\n",
       "      <td>NaN</td>\n",
       "      <td>NaN</td>\n",
       "    </tr>\n",
       "    <tr>\n",
       "      <th>&lt; 1 years</th>\n",
       "      <td>NaN</td>\n",
       "      <td>NaN</td>\n",
       "      <td>NaN</td>\n",
       "      <td>NaN</td>\n",
       "      <td>NaN</td>\n",
       "      <td>NaN</td>\n",
       "      <td>NaN</td>\n",
       "      <td>NaN</td>\n",
       "      <td>NaN</td>\n",
       "      <td>NaN</td>\n",
       "      <td>NaN</td>\n",
       "      <td>NaN</td>\n",
       "      <td>NaN</td>\n",
       "      <td>NaN</td>\n",
       "      <td>NaN</td>\n",
       "      <td>NaN</td>\n",
       "      <td>NaN</td>\n",
       "      <td>NaN</td>\n",
       "      <td>NaN</td>\n",
       "      <td>NaN</td>\n",
       "    </tr>\n",
       "    <tr>\n",
       "      <th>I have never written code</th>\n",
       "      <td>NaN</td>\n",
       "      <td>NaN</td>\n",
       "      <td>NaN</td>\n",
       "      <td>NaN</td>\n",
       "      <td>NaN</td>\n",
       "      <td>NaN</td>\n",
       "      <td>NaN</td>\n",
       "      <td>NaN</td>\n",
       "      <td>NaN</td>\n",
       "      <td>NaN</td>\n",
       "      <td>NaN</td>\n",
       "      <td>NaN</td>\n",
       "      <td>NaN</td>\n",
       "      <td>NaN</td>\n",
       "      <td>NaN</td>\n",
       "      <td>NaN</td>\n",
       "      <td>NaN</td>\n",
       "      <td>NaN</td>\n",
       "      <td>NaN</td>\n",
       "      <td>NaN</td>\n",
       "    </tr>\n",
       "  </tbody>\n",
       "</table>\n",
       "</div>"
      ],
      "text/plain": [
       "                           1-2 years  10-20 years  20+ years  3-5 years  \\\n",
       "Q6                                                                        \n",
       "1-2 years                        NaN          NaN        NaN        NaN   \n",
       "10-20 years                      NaN          NaN        NaN        NaN   \n",
       "20+ years                        NaN          NaN        NaN        NaN   \n",
       "3-5 years                        NaN          NaN        NaN        NaN   \n",
       "5-10 years                       NaN          NaN        NaN        NaN   \n",
       "< 1 years                        NaN          NaN        NaN        NaN   \n",
       "I have never written code        NaN          NaN        NaN        NaN   \n",
       "\n",
       "                           5-10 years  < 1 years  I have never written code  \\\n",
       "Q6                                                                            \n",
       "1-2 years                         NaN        NaN                        NaN   \n",
       "10-20 years                       NaN        NaN                        NaN   \n",
       "20+ years                         NaN        NaN                        NaN   \n",
       "3-5 years                         NaN        NaN                        NaN   \n",
       "5-10 years                        NaN        NaN                        NaN   \n",
       "< 1 years                         NaN        NaN                        NaN   \n",
       "I have never written code         NaN        NaN                        NaN   \n",
       "\n",
       "                           Q7_OTHER  Q7_Part_1  Q7_Part_10  Q7_Part_11  \\\n",
       "Q6                                                                       \n",
       "1-2 years                       NaN        NaN         NaN         NaN   \n",
       "10-20 years                     NaN        NaN         NaN         NaN   \n",
       "20+ years                       NaN        NaN         NaN         NaN   \n",
       "3-5 years                       NaN        NaN         NaN         NaN   \n",
       "5-10 years                      NaN        NaN         NaN         NaN   \n",
       "< 1 years                       NaN        NaN         NaN         NaN   \n",
       "I have never written code       NaN        NaN         NaN         NaN   \n",
       "\n",
       "                           Q7_Part_12  Q7_Part_2  Q7_Part_3  Q7_Part_4  \\\n",
       "Q6                                                                       \n",
       "1-2 years                         NaN        NaN        NaN        NaN   \n",
       "10-20 years                       NaN        NaN        NaN        NaN   \n",
       "20+ years                         NaN        NaN        NaN        NaN   \n",
       "3-5 years                         NaN        NaN        NaN        NaN   \n",
       "5-10 years                        NaN        NaN        NaN        NaN   \n",
       "< 1 years                         NaN        NaN        NaN        NaN   \n",
       "I have never written code         NaN        NaN        NaN        NaN   \n",
       "\n",
       "                           Q7_Part_5  Q7_Part_6  Q7_Part_7  Q7_Part_8  \\\n",
       "Q6                                                                      \n",
       "1-2 years                        NaN        NaN        NaN        NaN   \n",
       "10-20 years                      NaN        NaN        NaN        NaN   \n",
       "20+ years                        NaN        NaN        NaN        NaN   \n",
       "3-5 years                        NaN        NaN        NaN        NaN   \n",
       "5-10 years                       NaN        NaN        NaN        NaN   \n",
       "< 1 years                        NaN        NaN        NaN        NaN   \n",
       "I have never written code        NaN        NaN        NaN        NaN   \n",
       "\n",
       "                           Q7_Part_9  \n",
       "Q6                                    \n",
       "1-2 years                        NaN  \n",
       "10-20 years                      NaN  \n",
       "20+ years                        NaN  \n",
       "3-5 years                        NaN  \n",
       "5-10 years                       NaN  \n",
       "< 1 years                        NaN  \n",
       "I have never written code        NaN  "
      ]
     },
     "execution_count": 36,
     "metadata": {},
     "output_type": "execute_result"
    }
   ],
   "source": [
    "small_df"
   ]
  },
  {
   "cell_type": "code",
   "execution_count": 35,
   "metadata": {
    "ExecuteTime": {
     "end_time": "2021-01-03T19:29:44.591331Z",
     "start_time": "2021-01-03T19:29:44.574375Z"
    }
   },
   "outputs": [
    {
     "ename": "ValueError",
     "evalue": "Length mismatch: Expected axis has 20 elements, new values have 13 elements",
     "output_type": "error",
     "traceback": [
      "\u001b[1;31m---------------------------------------------------------------------------\u001b[0m",
      "\u001b[1;31mValueError\u001b[0m                                Traceback (most recent call last)",
      "\u001b[1;32m<ipython-input-35-9bb555670fda>\u001b[0m in \u001b[0;36m<module>\u001b[1;34m\u001b[0m\n\u001b[1;32m----> 1\u001b[1;33m \u001b[0msmall_df\u001b[0m\u001b[1;33m.\u001b[0m\u001b[0mcolumns\u001b[0m \u001b[1;33m=\u001b[0m \u001b[0mlist_of_languages\u001b[0m\u001b[1;33m\u001b[0m\u001b[1;33m\u001b[0m\u001b[0m\n\u001b[0m",
      "\u001b[1;32m~\\anaconda3\\lib\\site-packages\\pandas\\core\\generic.py\u001b[0m in \u001b[0;36m__setattr__\u001b[1;34m(self, name, value)\u001b[0m\n\u001b[0;32m   5285\u001b[0m         \u001b[1;32mtry\u001b[0m\u001b[1;33m:\u001b[0m\u001b[1;33m\u001b[0m\u001b[1;33m\u001b[0m\u001b[0m\n\u001b[0;32m   5286\u001b[0m             \u001b[0mobject\u001b[0m\u001b[1;33m.\u001b[0m\u001b[0m__getattribute__\u001b[0m\u001b[1;33m(\u001b[0m\u001b[0mself\u001b[0m\u001b[1;33m,\u001b[0m \u001b[0mname\u001b[0m\u001b[1;33m)\u001b[0m\u001b[1;33m\u001b[0m\u001b[1;33m\u001b[0m\u001b[0m\n\u001b[1;32m-> 5287\u001b[1;33m             \u001b[1;32mreturn\u001b[0m \u001b[0mobject\u001b[0m\u001b[1;33m.\u001b[0m\u001b[0m__setattr__\u001b[0m\u001b[1;33m(\u001b[0m\u001b[0mself\u001b[0m\u001b[1;33m,\u001b[0m \u001b[0mname\u001b[0m\u001b[1;33m,\u001b[0m \u001b[0mvalue\u001b[0m\u001b[1;33m)\u001b[0m\u001b[1;33m\u001b[0m\u001b[1;33m\u001b[0m\u001b[0m\n\u001b[0m\u001b[0;32m   5288\u001b[0m         \u001b[1;32mexcept\u001b[0m \u001b[0mAttributeError\u001b[0m\u001b[1;33m:\u001b[0m\u001b[1;33m\u001b[0m\u001b[1;33m\u001b[0m\u001b[0m\n\u001b[0;32m   5289\u001b[0m             \u001b[1;32mpass\u001b[0m\u001b[1;33m\u001b[0m\u001b[1;33m\u001b[0m\u001b[0m\n",
      "\u001b[1;32mpandas\\_libs\\properties.pyx\u001b[0m in \u001b[0;36mpandas._libs.properties.AxisProperty.__set__\u001b[1;34m()\u001b[0m\n",
      "\u001b[1;32m~\\anaconda3\\lib\\site-packages\\pandas\\core\\generic.py\u001b[0m in \u001b[0;36m_set_axis\u001b[1;34m(self, axis, labels)\u001b[0m\n\u001b[0;32m    659\u001b[0m \u001b[1;33m\u001b[0m\u001b[0m\n\u001b[0;32m    660\u001b[0m     \u001b[1;32mdef\u001b[0m \u001b[0m_set_axis\u001b[0m\u001b[1;33m(\u001b[0m\u001b[0mself\u001b[0m\u001b[1;33m,\u001b[0m \u001b[0maxis\u001b[0m\u001b[1;33m,\u001b[0m \u001b[0mlabels\u001b[0m\u001b[1;33m)\u001b[0m \u001b[1;33m->\u001b[0m \u001b[1;32mNone\u001b[0m\u001b[1;33m:\u001b[0m\u001b[1;33m\u001b[0m\u001b[1;33m\u001b[0m\u001b[0m\n\u001b[1;32m--> 661\u001b[1;33m         \u001b[0mself\u001b[0m\u001b[1;33m.\u001b[0m\u001b[0m_data\u001b[0m\u001b[1;33m.\u001b[0m\u001b[0mset_axis\u001b[0m\u001b[1;33m(\u001b[0m\u001b[0maxis\u001b[0m\u001b[1;33m,\u001b[0m \u001b[0mlabels\u001b[0m\u001b[1;33m)\u001b[0m\u001b[1;33m\u001b[0m\u001b[1;33m\u001b[0m\u001b[0m\n\u001b[0m\u001b[0;32m    662\u001b[0m         \u001b[0mself\u001b[0m\u001b[1;33m.\u001b[0m\u001b[0m_clear_item_cache\u001b[0m\u001b[1;33m(\u001b[0m\u001b[1;33m)\u001b[0m\u001b[1;33m\u001b[0m\u001b[1;33m\u001b[0m\u001b[0m\n\u001b[0;32m    663\u001b[0m \u001b[1;33m\u001b[0m\u001b[0m\n",
      "\u001b[1;32m~\\anaconda3\\lib\\site-packages\\pandas\\core\\internals\\managers.py\u001b[0m in \u001b[0;36mset_axis\u001b[1;34m(self, axis, new_labels)\u001b[0m\n\u001b[0;32m    175\u001b[0m \u001b[1;33m\u001b[0m\u001b[0m\n\u001b[0;32m    176\u001b[0m         \u001b[1;32mif\u001b[0m \u001b[0mnew_len\u001b[0m \u001b[1;33m!=\u001b[0m \u001b[0mold_len\u001b[0m\u001b[1;33m:\u001b[0m\u001b[1;33m\u001b[0m\u001b[1;33m\u001b[0m\u001b[0m\n\u001b[1;32m--> 177\u001b[1;33m             raise ValueError(\n\u001b[0m\u001b[0;32m    178\u001b[0m                 \u001b[1;34mf\"Length mismatch: Expected axis has {old_len} elements, new \"\u001b[0m\u001b[1;33m\u001b[0m\u001b[1;33m\u001b[0m\u001b[0m\n\u001b[0;32m    179\u001b[0m                 \u001b[1;34mf\"values have {new_len} elements\"\u001b[0m\u001b[1;33m\u001b[0m\u001b[1;33m\u001b[0m\u001b[0m\n",
      "\u001b[1;31mValueError\u001b[0m: Length mismatch: Expected axis has 20 elements, new values have 13 elements"
     ]
    }
   ],
   "source": [
    "small_df.columns = list_of_languages"
   ]
  },
  {
   "cell_type": "code",
   "execution_count": 31,
   "metadata": {
    "ExecuteTime": {
     "end_time": "2021-01-03T19:28:42.678759Z",
     "start_time": "2021-01-03T19:28:42.653805Z"
    }
   },
   "outputs": [
    {
     "data": {
      "text/html": [
       "<div>\n",
       "<style scoped>\n",
       "    .dataframe tbody tr th:only-of-type {\n",
       "        vertical-align: middle;\n",
       "    }\n",
       "\n",
       "    .dataframe tbody tr th {\n",
       "        vertical-align: top;\n",
       "    }\n",
       "\n",
       "    .dataframe thead th {\n",
       "        text-align: right;\n",
       "    }\n",
       "</style>\n",
       "<table border=\"1\" class=\"dataframe\">\n",
       "  <thead>\n",
       "    <tr style=\"text-align: right;\">\n",
       "      <th></th>\n",
       "      <th>Python</th>\n",
       "      <th>R</th>\n",
       "      <th>SQL</th>\n",
       "      <th>C</th>\n",
       "      <th>C++</th>\n",
       "      <th>Java</th>\n",
       "      <th>Javascript</th>\n",
       "      <th>Julia</th>\n",
       "      <th>Swift</th>\n",
       "      <th>Bash</th>\n",
       "      <th>MATLAB</th>\n",
       "      <th>None</th>\n",
       "      <th>Other</th>\n",
       "    </tr>\n",
       "    <tr>\n",
       "      <th>Q6</th>\n",
       "      <th></th>\n",
       "      <th></th>\n",
       "      <th></th>\n",
       "      <th></th>\n",
       "      <th></th>\n",
       "      <th></th>\n",
       "      <th></th>\n",
       "      <th></th>\n",
       "      <th></th>\n",
       "      <th></th>\n",
       "      <th></th>\n",
       "      <th></th>\n",
       "      <th></th>\n",
       "    </tr>\n",
       "  </thead>\n",
       "  <tbody>\n",
       "    <tr>\n",
       "      <th>1-2 years</th>\n",
       "      <td>446</td>\n",
       "      <td>142</td>\n",
       "      <td>208</td>\n",
       "      <td>45</td>\n",
       "      <td>62</td>\n",
       "      <td>55</td>\n",
       "      <td>40</td>\n",
       "      <td>6</td>\n",
       "      <td>0</td>\n",
       "      <td>26</td>\n",
       "      <td>41</td>\n",
       "      <td>0</td>\n",
       "      <td>24</td>\n",
       "    </tr>\n",
       "    <tr>\n",
       "      <th>10-20 years</th>\n",
       "      <td>329</td>\n",
       "      <td>162</td>\n",
       "      <td>229</td>\n",
       "      <td>36</td>\n",
       "      <td>41</td>\n",
       "      <td>44</td>\n",
       "      <td>48</td>\n",
       "      <td>19</td>\n",
       "      <td>3</td>\n",
       "      <td>97</td>\n",
       "      <td>38</td>\n",
       "      <td>1</td>\n",
       "      <td>52</td>\n",
       "    </tr>\n",
       "    <tr>\n",
       "      <th>20+ years</th>\n",
       "      <td>191</td>\n",
       "      <td>111</td>\n",
       "      <td>143</td>\n",
       "      <td>36</td>\n",
       "      <td>36</td>\n",
       "      <td>41</td>\n",
       "      <td>41</td>\n",
       "      <td>16</td>\n",
       "      <td>3</td>\n",
       "      <td>49</td>\n",
       "      <td>24</td>\n",
       "      <td>2</td>\n",
       "      <td>54</td>\n",
       "    </tr>\n",
       "    <tr>\n",
       "      <th>3-5 years</th>\n",
       "      <td>706</td>\n",
       "      <td>254</td>\n",
       "      <td>410</td>\n",
       "      <td>61</td>\n",
       "      <td>95</td>\n",
       "      <td>96</td>\n",
       "      <td>82</td>\n",
       "      <td>14</td>\n",
       "      <td>3</td>\n",
       "      <td>101</td>\n",
       "      <td>71</td>\n",
       "      <td>2</td>\n",
       "      <td>50</td>\n",
       "    </tr>\n",
       "    <tr>\n",
       "      <th>5-10 years</th>\n",
       "      <td>544</td>\n",
       "      <td>243</td>\n",
       "      <td>383</td>\n",
       "      <td>49</td>\n",
       "      <td>71</td>\n",
       "      <td>57</td>\n",
       "      <td>63</td>\n",
       "      <td>12</td>\n",
       "      <td>5</td>\n",
       "      <td>125</td>\n",
       "      <td>48</td>\n",
       "      <td>0</td>\n",
       "      <td>57</td>\n",
       "    </tr>\n",
       "    <tr>\n",
       "      <th>&lt; 1 years</th>\n",
       "      <td>237</td>\n",
       "      <td>63</td>\n",
       "      <td>100</td>\n",
       "      <td>20</td>\n",
       "      <td>18</td>\n",
       "      <td>12</td>\n",
       "      <td>16</td>\n",
       "      <td>4</td>\n",
       "      <td>0</td>\n",
       "      <td>7</td>\n",
       "      <td>20</td>\n",
       "      <td>0</td>\n",
       "      <td>8</td>\n",
       "    </tr>\n",
       "    <tr>\n",
       "      <th>I have never written code</th>\n",
       "      <td>0</td>\n",
       "      <td>0</td>\n",
       "      <td>0</td>\n",
       "      <td>0</td>\n",
       "      <td>0</td>\n",
       "      <td>0</td>\n",
       "      <td>0</td>\n",
       "      <td>0</td>\n",
       "      <td>0</td>\n",
       "      <td>0</td>\n",
       "      <td>0</td>\n",
       "      <td>0</td>\n",
       "      <td>0</td>\n",
       "    </tr>\n",
       "  </tbody>\n",
       "</table>\n",
       "</div>"
      ],
      "text/plain": [
       "                           Python    R  SQL   C  C++  Java  Javascript  Julia  \\\n",
       "Q6                                                                              \n",
       "1-2 years                     446  142  208  45   62    55          40      6   \n",
       "10-20 years                   329  162  229  36   41    44          48     19   \n",
       "20+ years                     191  111  143  36   36    41          41     16   \n",
       "3-5 years                     706  254  410  61   95    96          82     14   \n",
       "5-10 years                    544  243  383  49   71    57          63     12   \n",
       "< 1 years                     237   63  100  20   18    12          16      4   \n",
       "I have never written code       0    0    0   0    0     0           0      0   \n",
       "\n",
       "                           Swift  Bash  MATLAB  None  Other  \n",
       "Q6                                                           \n",
       "1-2 years                      0    26      41     0     24  \n",
       "10-20 years                    3    97      38     1     52  \n",
       "20+ years                      3    49      24     2     54  \n",
       "3-5 years                      3   101      71     2     50  \n",
       "5-10 years                     5   125      48     0     57  \n",
       "< 1 years                      0     7      20     0      8  \n",
       "I have never written code      0     0       0     0      0  "
      ]
     },
     "execution_count": 31,
     "metadata": {},
     "output_type": "execute_result"
    }
   ],
   "source": [
    "small_df"
   ]
  },
  {
   "cell_type": "code",
   "execution_count": 17,
   "metadata": {
    "ExecuteTime": {
     "end_time": "2021-01-03T19:24:14.916999Z",
     "start_time": "2021-01-03T19:24:14.902832Z"
    }
   },
   "outputs": [
    {
     "data": {
      "text/plain": [
       "{'Python': 7,\n",
       " 'R': 7,\n",
       " 'SQL': 7,\n",
       " 'C': 7,\n",
       " 'C++': 7,\n",
       " 'Java': 7,\n",
       " 'Javascript': 7,\n",
       " 'Julia': 7,\n",
       " 'Swift': 7,\n",
       " 'Bash': 7,\n",
       " 'MATLAB': 7,\n",
       " 'None': 7,\n",
       " 'Other': 7}"
      ]
     },
     "execution_count": 17,
     "metadata": {},
     "output_type": "execute_result"
    }
   ],
   "source": [
    "count_languages(df_ds_exp, question_dict=question_dict, questionnNumber = 'Q7')"
   ]
  },
  {
   "cell_type": "markdown",
   "metadata": {},
   "source": [
    "## Disscusion"
   ]
  },
  {
   "cell_type": "markdown",
   "metadata": {},
   "source": [
    "Python, R and SQL are the most popular langauges by a large margin. Interestingly all South African data scientist used Python, whereas that is 91% in the Netherlands.  "
   ]
  },
  {
   "cell_type": "markdown",
   "metadata": {},
   "source": [
    "# Machine learning"
   ]
  },
  {
   "cell_type": "code",
   "execution_count": 173,
   "metadata": {
    "ExecuteTime": {
     "end_time": "2021-01-05T10:27:51.914596Z",
     "start_time": "2021-01-05T10:27:51.888647Z"
    }
   },
   "outputs": [],
   "source": [
    "list_of_question_numbers = []\n",
    "\n",
    "for col, i in zip(df.columns,range(df.shape[1])):\n",
    "    \n",
    "    for x in df.iloc[0, i].split(' '):\n",
    "        if x.lower() == 'machine':\n",
    "            \n",
    "            #print(col,\" : \",df.iloc[0, i])\n",
    "            list_of_question_numbers.append(col)\n",
    "            \n",
    "list_of_question_numbers = list(set([x.split('_')[0] for x in list_of_question_numbers]))"
   ]
  },
  {
   "cell_type": "code",
   "execution_count": 176,
   "metadata": {
    "ExecuteTime": {
     "end_time": "2021-01-05T10:31:19.823252Z",
     "start_time": "2021-01-05T10:31:17.058545Z"
    }
   },
   "outputs": [
    {
     "name": "stdout",
     "output_type": "stream",
     "text": [
      "Q33_A_Part_1\n",
      "Q33_A_Part_2\n",
      "Q33_A_Part_3\n",
      "Q33_A_Part_4\n",
      "Q33_A_Part_5\n",
      "Q33_A_Part_6\n",
      "Q33_A_Part_7\n",
      "Q33_A_OTHER\n",
      "Q33_B_Part_1\n",
      "Q33_B_Part_2\n",
      "Q33_B_Part_3\n",
      "Q33_B_Part_4\n",
      "Q33_B_Part_5\n",
      "Q33_B_Part_6\n",
      "Q33_B_Part_7\n",
      "Q33_B_OTHER\n",
      "Q22\n"
     ]
    },
    {
     "data": {
      "text/plain": [
       "<Figure size 720x360 with 0 Axes>"
      ]
     },
     "metadata": {},
     "output_type": "display_data"
    },
    {
     "data": {
      "image/png": "[encoded data removed]",
      "text/plain": [
       "<Figure size 720x360 with 1 Axes>"
      ]
     },
     "metadata": {
      "needs_background": "light"
     },
     "output_type": "display_data"
    },
    {
     "name": "stdout",
     "output_type": "stream",
     "text": [
      "Q16_Part_1\n",
      "Q16_Part_2\n",
      "Q16_Part_3\n",
      "Q16_Part_4\n",
      "Q16_Part_5\n",
      "Q16_Part_6\n",
      "Q16_Part_7\n",
      "Q16_Part_8\n",
      "Q16_Part_9\n",
      "Q16_Part_10\n",
      "Q16_Part_11\n",
      "Q16_Part_12\n",
      "Q16_Part_13\n",
      "Q16_Part_14\n",
      "Q16_Part_15\n",
      "Q16_OTHER\n"
     ]
    },
    {
     "data": {
      "image/png": "[encoded data removed]",
      "text/plain": [
       "<Figure size 720x360 with 1 Axes>"
      ]
     },
     "metadata": {
      "needs_background": "light"
     },
     "output_type": "display_data"
    },
    {
     "name": "stdout",
     "output_type": "stream",
     "text": [
      "Q36_Part_1\n",
      "Q36_Part_2\n",
      "Q36_Part_3\n",
      "Q36_Part_4\n",
      "Q36_Part_5\n",
      "Q36_Part_6\n",
      "Q36_Part_7\n",
      "Q36_Part_8\n",
      "Q36_Part_9\n",
      "Q36_OTHER\n"
     ]
    },
    {
     "data": {
      "image/png": "[encoded data removed]",
      "text/plain": [
       "<Figure size 720x360 with 1 Axes>"
      ]
     },
     "metadata": {
      "needs_background": "light"
     },
     "output_type": "display_data"
    },
    {
     "name": "stdout",
     "output_type": "stream",
     "text": [
      "Q34_A_Part_1\n",
      "Q34_A_Part_2\n",
      "Q34_A_Part_3\n",
      "Q34_A_Part_4\n",
      "Q34_A_Part_5\n",
      "Q34_A_Part_6\n",
      "Q34_A_Part_7\n",
      "Q34_A_Part_8\n",
      "Q34_A_Part_9\n",
      "Q34_A_Part_10\n",
      "Q34_A_Part_11\n",
      "Q34_A_OTHER\n",
      "Q34_B_Part_1\n",
      "Q34_B_Part_2\n",
      "Q34_B_Part_3\n",
      "Q34_B_Part_4\n",
      "Q34_B_Part_5\n",
      "Q34_B_Part_6\n",
      "Q34_B_Part_7\n",
      "Q34_B_Part_8\n",
      "Q34_B_Part_9\n",
      "Q34_B_Part_10\n",
      "Q34_B_Part_11\n",
      "Q34_B_OTHER\n",
      "Q35_A_Part_1\n",
      "Q35_A_Part_2\n",
      "Q35_A_Part_3\n",
      "Q35_A_Part_4\n",
      "Q35_A_Part_5\n",
      "Q35_A_Part_6\n",
      "Q35_A_Part_7\n",
      "Q35_A_Part_8\n",
      "Q35_A_Part_9\n",
      "Q35_A_Part_10\n",
      "Q35_A_OTHER\n",
      "Q35_B_Part_1\n",
      "Q35_B_Part_2\n",
      "Q35_B_Part_3\n",
      "Q35_B_Part_4\n",
      "Q35_B_Part_5\n",
      "Q35_B_Part_6\n",
      "Q35_B_Part_7\n",
      "Q35_B_Part_8\n",
      "Q35_B_Part_9\n",
      "Q35_B_Part_10\n",
      "Q35_B_OTHER\n",
      "Q15\n"
     ]
    },
    {
     "data": {
      "text/plain": [
       "<Figure size 720x360 with 0 Axes>"
      ]
     },
     "metadata": {},
     "output_type": "display_data"
    },
    {
     "data": {
      "text/plain": [
       "<Figure size 720x360 with 0 Axes>"
      ]
     },
     "metadata": {},
     "output_type": "display_data"
    },
    {
     "data": {
      "image/png": "[encoded data removed]",
      "text/plain": [
       "<Figure size 720x360 with 1 Axes>"
      ]
     },
     "metadata": {
      "needs_background": "light"
     },
     "output_type": "display_data"
    },
    {
     "name": "stdout",
     "output_type": "stream",
     "text": [
      "Q28_A_Part_1\n",
      "Q28_A_Part_2\n",
      "Q28_A_Part_3\n",
      "Q28_A_Part_4\n",
      "Q28_A_Part_5\n",
      "Q28_A_Part_6\n",
      "Q28_A_Part_7\n",
      "Q28_A_Part_8\n",
      "Q28_A_Part_9\n",
      "Q28_A_Part_10\n",
      "Q28_A_OTHER\n",
      "Q28_B_Part_1\n",
      "Q28_B_Part_2\n",
      "Q28_B_Part_3\n",
      "Q28_B_Part_4\n",
      "Q28_B_Part_5\n",
      "Q28_B_Part_6\n",
      "Q28_B_Part_7\n",
      "Q28_B_Part_8\n",
      "Q28_B_Part_9\n",
      "Q28_B_Part_10\n",
      "Q28_B_OTHER\n",
      "Q25\n"
     ]
    },
    {
     "data": {
      "text/plain": [
       "<Figure size 720x360 with 0 Axes>"
      ]
     },
     "metadata": {},
     "output_type": "display_data"
    },
    {
     "data": {
      "image/png": "[encoded data removed]",
      "text/plain": [
       "<Figure size 720x360 with 1 Axes>"
      ]
     },
     "metadata": {
      "needs_background": "light"
     },
     "output_type": "display_data"
    },
    {
     "name": "stdout",
     "output_type": "stream",
     "text": [
      "Q23_Part_1\n",
      "Q23_Part_2\n",
      "Q23_Part_3\n",
      "Q23_Part_4\n",
      "Q23_Part_5\n",
      "Q23_Part_6\n",
      "Q23_Part_7\n",
      "Q23_OTHER\n"
     ]
    },
    {
     "data": {
      "image/png": "[encoded data removed]",
      "text/plain": [
       "<Figure size 720x360 with 1 Axes>"
      ]
     },
     "metadata": {
      "needs_background": "light"
     },
     "output_type": "display_data"
    }
   ],
   "source": [
    "list_of_errors = []\n",
    "for x in list_of_question_numbers:\n",
    "    try:\n",
    "        split_by_exp(df, select_title='Data Scientist', question_num = x)\n",
    "        plt.show()\n",
    "    except:\n",
    "        list_of_errors.append(x)\n",
    "        \n"
   ]
  },
  {
   "cell_type": "code",
   "execution_count": null,
   "metadata": {},
   "outputs": [],
   "source": []
  },
  {
   "cell_type": "code",
   "execution_count": null,
   "metadata": {},
   "outputs": [],
   "source": []
  },
  {
   "cell_type": "code",
   "execution_count": null,
   "metadata": {},
   "outputs": [],
   "source": []
  },
  {
   "cell_type": "code",
   "execution_count": null,
   "metadata": {},
   "outputs": [],
   "source": []
  },
  {
   "cell_type": "code",
   "execution_count": 158,
   "metadata": {
    "ExecuteTime": {
     "end_time": "2021-01-05T09:35:42.365456Z",
     "start_time": "2021-01-05T09:35:42.335386Z"
    }
   },
   "outputs": [],
   "source": [
    "            \n",
    "\n",
    "                try:\n",
    "                    list_of_question_numbers.append(col.splitlit['_'][0])\n",
    "                    list_of_questions.append(question_dict[col].split(\"?\")[0])\n",
    "                except:\n",
    "                    \n",
    "                    list_of_question_numbers.append(col)\n",
    "                    list_of_questions.append(question_dict[col].split(\"?\")[0])\n",
    "           "
   ]
  },
  {
   "cell_type": "code",
   "execution_count": 170,
   "metadata": {
    "ExecuteTime": {
     "end_time": "2021-01-05T10:26:51.627686Z",
     "start_time": "2021-01-05T10:26:51.608702Z"
    }
   },
   "outputs": [
    {
     "data": {
      "text/plain": [
       "['Q33', 'Q22', 'Q16', 'Q36', 'Q34', 'Q35', 'Q15', 'Q28', 'Q25', 'Q23']"
      ]
     },
     "execution_count": 170,
     "metadata": {},
     "output_type": "execute_result"
    }
   ],
   "source": [
    "list(set([x.split('_')[0] for x in list_of_question_numbers]))"
   ]
  },
  {
   "cell_type": "code",
   "execution_count": 163,
   "metadata": {
    "ExecuteTime": {
     "end_time": "2021-01-05T09:38:43.532517Z",
     "start_time": "2021-01-05T09:38:43.526485Z"
    }
   },
   "outputs": [],
   "source": [
    "list_of_questions2 = []\n",
    "for x in set(list_of_questions):\n",
    "    if len(x.split(':'))>1:\n",
    "        list_of_questions2.append(x.split(':')[0])\n",
    "\n",
    "   "
   ]
  },
  {
   "cell_type": "code",
   "execution_count": 167,
   "metadata": {
    "ExecuteTime": {
     "end_time": "2021-01-05T10:25:06.024653Z",
     "start_time": "2021-01-05T10:25:06.016638Z"
    }
   },
   "outputs": [
    {
     "data": {
      "text/plain": [
       "['Select any activities that make up an important part of your role at work: (Select all that apply) - Selected Choice - Do research that advances the state of the art of machine learning',\n",
       " 'Which categories of automated machine learning tools (or partial AutoML tools) do you hope to become more familiar with in the next 2 years',\n",
       " 'Which of the following automated machine learning tools (or partial AutoML tools) do you use on a regular basis',\n",
       " 'Which of the following machine learning frameworks do you use on a regular basis',\n",
       " 'In the next 2 years, do you hope to become more familiar with any of these specific machine learning products',\n",
       " 'For how many years have you used machine learning methods',\n",
       " 'Do you use any of the following machine learning products on a regular basis',\n",
       " 'Do you use any automated machine learning tools (or partial AutoML tools) on a regular basis',\n",
       " 'Which specific automated machine learning tools (or partial AutoML tools) do you hope to become more familiar with in the next 2 years',\n",
       " 'Approximately how much money have you (or your team) spent on machine learning and/or cloud computing services at home (or at work) in the past 5 years (approximate $USD)',\n",
       " 'Where do you publicly share or deploy your data analysis or machine learning applications',\n",
       " 'Select any activities that make up an important part of your role at work: (Select all that apply) - Selected Choice - Build and/or run a machine learning service that operationally improves my product or workflows',\n",
       " 'Select any activities that make up an important part of your role at work: (Select all that apply) - Selected Choice - Build prototypes to explore applying machine learning to new areas',\n",
       " 'Does your current employer incorporate machine learning methods into their business',\n",
       " 'Do you use any tools to help manage machine learning experiments']"
      ]
     },
     "execution_count": 167,
     "metadata": {},
     "output_type": "execute_result"
    }
   ],
   "source": [
    "list(set(list_of_questions))"
   ]
  },
  {
   "cell_type": "code",
   "execution_count": 165,
   "metadata": {
    "ExecuteTime": {
     "end_time": "2021-01-05T10:24:46.342812Z",
     "start_time": "2021-01-05T10:24:46.328841Z"
    }
   },
   "outputs": [
    {
     "data": {
      "text/plain": [
       "['Select any activities that make up an important part of your role at work']"
      ]
     },
     "execution_count": 165,
     "metadata": {},
     "output_type": "execute_result"
    }
   ],
   "source": [
    "list(set(list_of_questions2))"
   ]
  },
  {
   "cell_type": "code",
   "execution_count": null,
   "metadata": {},
   "outputs": [],
   "source": [
    "Q28_A_Part_1  "
   ]
  }
 ],
 "metadata": {
  "kernelspec": {
   "display_name": "Python 3",
   "language": "python",
   "name": "python3"
  },
  "language_info": {
   "codemirror_mode": {
    "name": "ipython",
    "version": 3
   },
   "file_extension": ".py",
   "mimetype": "text/x-python",
   "name": "python",
   "nbconvert_exporter": "python",
   "pygments_lexer": "ipython3",
   "version": "3.8.3"
  },
  "toc": {
   "base_numbering": 1,
   "nav_menu": {},
   "number_sections": true,
   "sideBar": true,
   "skip_h1_title": false,
   "title_cell": "Table of Contents",
   "title_sidebar": "Contents",
   "toc_cell": false,
   "toc_position": {},
   "toc_section_display": true,
   "toc_window_display": false
  }
 },
 "nbformat": 4,
 "nbformat_minor": 4
}
